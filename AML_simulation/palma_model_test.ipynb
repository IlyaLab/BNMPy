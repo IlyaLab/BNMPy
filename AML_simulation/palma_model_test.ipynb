{
 "cells": [
  {
   "cell_type": "code",
   "execution_count": 1,
   "id": "94d95684-a88b-495c-8818-7ce376b1824d",
   "metadata": {},
   "outputs": [],
   "source": [
    "import pandas as pd\n",
    "import numpy as np\n",
    "import random\n",
    "import seaborn as sns\n",
    "import matplotlib.pyplot as plt\n",
    "import sys\n",
    "# import booleanNetwork module from ./src\n",
    "from BNMPy import booleanNetwork as bn\n",
    "from BNMPy import BMatrix  "
   ]
  },
  {
   "cell_type": "markdown",
   "id": "b8ca9926-a4d3-4589-83d4-8a387eea9ed9",
   "metadata": {},
   "source": [
    "## Loading model"
   ]
  },
  {
   "cell_type": "code",
   "execution_count": 2,
   "id": "28b969e7-ce7c-47ab-b26e-f9b55aaaca7a",
   "metadata": {},
   "outputs": [],
   "source": [
    "file = 'input_files/dnmt3a_equations.txt'"
   ]
  },
  {
   "cell_type": "code",
   "execution_count": 3,
   "id": "c974fcb6-687d-40b6-b843-b047c8c81afb",
   "metadata": {},
   "outputs": [],
   "source": [
    "with open(file) as f:\n",
    "    file_data = f.read()"
   ]
  },
  {
   "cell_type": "code",
   "execution_count": 4,
   "id": "d1df5f23-1031-448a-a6e4-e91dbaa84191",
   "metadata": {},
   "outputs": [
    {
     "name": "stdout",
     "output_type": "stream",
     "text": [
      "No initial state provided, using a random initial state\n"
     ]
    }
   ],
   "source": [
    "network = BMatrix.load_network_from_string(file_data)"
   ]
  },
  {
   "cell_type": "code",
   "execution_count": 34,
   "id": "22915566-930d-4864-8042-8e88f06139d2",
   "metadata": {},
   "outputs": [
    {
     "data": {
      "text/plain": [
       "<BNMPy.booleanNetwork.BooleanNetwork at 0x7fa2f592c1f0>"
      ]
     },
     "execution_count": 34,
     "metadata": {},
     "output_type": "execute_result"
    }
   ],
   "source": [
    "network"
   ]
  },
  {
   "cell_type": "markdown",
   "id": "98d78957-5fea-488c-9a86-040ada35cb5b",
   "metadata": {},
   "source": [
    "## Mutations"
   ]
  },
  {
   "cell_type": "code",
   "execution_count": 5,
   "id": "b2689b82-52ab-4a5e-8fd3-5d21efe7c32d",
   "metadata": {},
   "outputs": [],
   "source": [
    "mutations = [['FLT3'], ['NPM1'], ['DNMT3A'], ['FLT3', 'NPM1'], ['FLT3', 'DNMT3A'], ['NPM1', 'DNMT3A'], ['FLT3', 'NPM1', 'DNMT3A']]\n",
    "directions = {'FLT3': 1, 'NPM1': 0, 'DNMT3A': 0}"
   ]
  },
  {
   "cell_type": "code",
   "execution_count": 36,
   "id": "9a71bc01-0f69-4bae-892d-3e81d28c3dfa",
   "metadata": {},
   "outputs": [
    {
     "name": "stdout",
     "output_type": "stream",
     "text": [
      "FLT3 2 0 1 1\n",
      "NPM1 1 1 0 0\n",
      "DNMT3A 1 1 1 -1\n",
      "FLT3_NPM1 4 -1 -1 6\n",
      "FLT3_DNMT3A 4 -1 1 4\n",
      "NPM1_DNMT3A 1 1 0 0\n",
      "FLT3_NPM1_DNMT3A 5 -1 -1 7\n"
     ]
    }
   ],
   "source": [
    "mutation_results = {}\n",
    "for mutation in mutations:\n",
    "    network.undoKnockouts()\n",
    "    network.setInitialValue('FLT3', 0)\n",
    "    network.setInitialValue('NPM1', 1)\n",
    "    network.setInitialValue('DNMT3A', 1)\n",
    "    for g in mutation:\n",
    "        network.knockout(g, directions[g])\n",
    "    results = network.update(20)\n",
    "    results = results[-1, :]\n",
    "    results = {k: results[v] for k, v in network.nodeDict.items()}\n",
    "    results['APOPTOSIS'] = results['TP53'] - results['BCL2']\n",
    "    results['DIFFERENTIATION'] = results['CEBPA'] + results['ETV6'] - results['MEIS1']\n",
    "    results['PROLIFERATION'] = results['MYC'] + results['CCND1'] + results['SOX4'] + results['MEIS1'] + results['STAT5A']\n",
    "\n",
    "    # calculate the network scores\n",
    "    results['NETWORK'] = results['PROLIFERATION'] - results['APOPTOSIS'] - results['DIFFERENTIATION']\n",
    "    print('_'.join(mutation), results['PROLIFERATION'], results['DIFFERENTIATION'], results['APOPTOSIS'], results['NETWORK'])\n",
    "    mutation_results['_'.join(mutation)] = results"
   ]
  },
  {
   "cell_type": "markdown",
   "id": "ec765d77-7fac-4d71-b226-ff072e67b501",
   "metadata": {},
   "source": [
    "## Wild-type"
   ]
  },
  {
   "cell_type": "code",
   "execution_count": 7,
   "id": "84dcff9b-2292-492c-951d-6025f26154a9",
   "metadata": {},
   "outputs": [],
   "source": [
    "# 3 inputs: FLT3, DNMT3A, NPM1\n",
    "# wild-type\n",
    "network.undoKnockouts()\n",
    "network.setInitialValue('FLT3', 0)\n",
    "network.setInitialValue('NPM1', 1)\n",
    "network.setInitialValue('DNMT3A', 1)\n",
    "results = network.update(20)\n",
    "results = results[-1, :]\n",
    "results = {k: results[v] for k, v in network.nodeDict.items()}"
   ]
  },
  {
   "cell_type": "code",
   "execution_count": 8,
   "id": "c031e97e-d626-42fa-8a51-32e298652a4f",
   "metadata": {},
   "outputs": [],
   "source": [
    "results['APOPTOSIS'] = results['TP53'] - results['BCL2']\n",
    "results['DIFFERENTIATION'] = results['CEBPA'] + results['ETV6'] - results['MEIS1']\n",
    "results['PROLIFERATION'] = results['MYC'] + results['CCND1'] + results['SOX4'] + results['MEIS1'] + results['STAT5A']\n",
    "\n",
    "# calculate the network scores\n",
    "results['NETWORK'] = results['PROLIFERATION'] - results['APOPTOSIS'] - results['DIFFERENTIATION']"
   ]
  },
  {
   "cell_type": "code",
   "execution_count": 9,
   "id": "6c017cbf-6010-4a87-9a45-7c516cee80d7",
   "metadata": {},
   "outputs": [
    {
     "name": "stdout",
     "output_type": "stream",
     "text": [
      "1 2 0 -3\n"
     ]
    }
   ],
   "source": [
    "print(results['APOPTOSIS'], results['DIFFERENTIATION'], results['PROLIFERATION'], results['NETWORK'])\n",
    "mutation_results['WT'] = results"
   ]
  },
  {
   "cell_type": "markdown",
   "id": "8de33301-a1ed-429a-8400-390cd0dd05e2",
   "metadata": {},
   "source": [
    "## Loading clinical data\n",
    "\n",
    "see: https://github.com/IlyaLab/LogicModelMerger/blob/main/Reproducing%20selected%20models/Palma2021/Palma2021.ipynb\n",
    "\n",
    "Data sources"
   ]
  },
  {
   "cell_type": "code",
   "execution_count": 10,
   "id": "360121bf-093d-4b0a-9f3a-77967d3e9a80",
   "metadata": {},
   "outputs": [
    {
     "name": "stdout",
     "output_type": "stream",
     "text": [
      "          TCGA_id     mutation  \\\n",
      "0    TCGA-AB-2802  npm1_dnmt3a   \n",
      "1    TCGA-AB-2803           wt   \n",
      "2    TCGA-AB-2804           wt   \n",
      "3    TCGA-AB-2805           wt   \n",
      "4    TCGA-AB-2806           wt   \n",
      "..            ...          ...   \n",
      "192  TCGA-AB-3007         flt3   \n",
      "193  TCGA-AB-3008           wt   \n",
      "194  TCGA-AB-3009           wt   \n",
      "195  TCGA-AB-3011         npm1   \n",
      "196  TCGA-AB-3012           wt   \n",
      "\n",
      "     lab_procedure_blast_cell_outcome_percentage_value  \\\n",
      "0                                                   88   \n",
      "1                                                   44   \n",
      "2                                                   82   \n",
      "3                                                   67   \n",
      "4                                                   90   \n",
      "..                                                 ...   \n",
      "192                                                 90   \n",
      "193                                                 71   \n",
      "194                                                 51   \n",
      "195                                                 91   \n",
      "196                                                 42   \n",
      "\n",
      "     lab_procedure_bone_marrow_blast_cell_outcome_percent_value  \n",
      "0                                                   52           \n",
      "1                                                    0           \n",
      "2                                                    6           \n",
      "3                                                   56           \n",
      "4                                                   81           \n",
      "..                                                 ...           \n",
      "192                                                  7           \n",
      "193                                                 90           \n",
      "194                                                 63           \n",
      "195                                                 83           \n",
      "196                                                 29           \n",
      "\n",
      "[197 rows x 4 columns]\n"
     ]
    }
   ],
   "source": [
    "# Data file path\n",
    "tsv_file_path_genes = 'https://api.gdc.cancer.gov/data/0d8851d7-1af0-4054-a527-5db763138400'\n",
    "tsv_file_path_clinical = 'https://api.gdc.cancer.gov/data/1fd61a91-90d5-405a-bcef-b9df8b396a21'\n",
    "\n",
    "# Mutation data\n",
    "df_genes = pd.read_csv(tsv_file_path_genes, sep='\\t', usecols=['TCGA_id', 'gene_name'])\n",
    "\n",
    "# clinical data \n",
    "df_clinical = pd.read_csv(tsv_file_path_clinical, sep='\\t', usecols=['bcr_patient_barcode', \n",
    "                                                            'lab_procedure_blast_cell_outcome_percentage_value',\n",
    "                                                            'lab_procedure_bone_marrow_blast_cell_outcome_percent_value'])\n",
    "\n",
    "# Function to determine mutation combination\n",
    "def determine_combination(row):\n",
    "    genes = row['gene_name']\n",
    "    has_flt3 = 'FLT3' in genes\n",
    "    has_npm1 = 'NPM1' in genes\n",
    "    has_dnmt3a = 'DNMT3A' in genes\n",
    "\n",
    "    if has_flt3 and has_npm1 and has_dnmt3a:\n",
    "        return \"flt3_npm1_dnmt3a\"\n",
    "    elif has_flt3 and has_dnmt3a:\n",
    "        return \"flt3_dnmt3a\"\n",
    "    elif has_flt3 and has_npm1:\n",
    "        return \"flt3_npm1\"\n",
    "    elif has_npm1 and has_dnmt3a:\n",
    "        return \"npm1_dnmt3a\"\n",
    "    elif has_flt3:\n",
    "        return \"flt3\"\n",
    "    elif has_npm1:\n",
    "        return \"npm1\"\n",
    "    elif has_dnmt3a:\n",
    "        return \"dnmt3a\"\n",
    "    else:\n",
    "        return \"wt\"\n",
    "\n",
    "# Group by TCGA_id and apply the combination function\n",
    "grouped = df_genes.groupby('TCGA_id').agg(list).reset_index()\n",
    "grouped['mutation'] = grouped.apply(determine_combination, axis=1)\n",
    "\n",
    "# Merge the gene information with the clinical data\n",
    "clinical_result = pd.merge(df_clinical, grouped[['TCGA_id', 'mutation']], left_on='bcr_patient_barcode', right_on='TCGA_id')\n",
    "clinical_result = clinical_result[['TCGA_id', 'mutation', \n",
    "                   'lab_procedure_blast_cell_outcome_percentage_value',\n",
    "                   'lab_procedure_bone_marrow_blast_cell_outcome_percent_value']]\n",
    "\n",
    "print(clinical_result)"
   ]
  },
  {
   "cell_type": "code",
   "execution_count": 11,
   "id": "84789c4c-8748-46c5-8792-9685e9f6456b",
   "metadata": {},
   "outputs": [
    {
     "data": {
      "text/html": [
       "<div>\n",
       "<style scoped>\n",
       "    .dataframe tbody tr th:only-of-type {\n",
       "        vertical-align: middle;\n",
       "    }\n",
       "\n",
       "    .dataframe tbody tr th {\n",
       "        vertical-align: top;\n",
       "    }\n",
       "\n",
       "    .dataframe thead th {\n",
       "        text-align: right;\n",
       "    }\n",
       "</style>\n",
       "<table border=\"1\" class=\"dataframe\">\n",
       "  <thead>\n",
       "    <tr style=\"text-align: right;\">\n",
       "      <th></th>\n",
       "      <th>TCGA_id</th>\n",
       "      <th>mutation</th>\n",
       "      <th>lab_procedure_blast_cell_outcome_percentage_value</th>\n",
       "      <th>lab_procedure_bone_marrow_blast_cell_outcome_percent_value</th>\n",
       "    </tr>\n",
       "  </thead>\n",
       "  <tbody>\n",
       "    <tr>\n",
       "      <th>0</th>\n",
       "      <td>TCGA-AB-2802</td>\n",
       "      <td>npm1_dnmt3a</td>\n",
       "      <td>88</td>\n",
       "      <td>52</td>\n",
       "    </tr>\n",
       "    <tr>\n",
       "      <th>1</th>\n",
       "      <td>TCGA-AB-2803</td>\n",
       "      <td>wt</td>\n",
       "      <td>44</td>\n",
       "      <td>0</td>\n",
       "    </tr>\n",
       "    <tr>\n",
       "      <th>2</th>\n",
       "      <td>TCGA-AB-2804</td>\n",
       "      <td>wt</td>\n",
       "      <td>82</td>\n",
       "      <td>6</td>\n",
       "    </tr>\n",
       "    <tr>\n",
       "      <th>3</th>\n",
       "      <td>TCGA-AB-2805</td>\n",
       "      <td>wt</td>\n",
       "      <td>67</td>\n",
       "      <td>56</td>\n",
       "    </tr>\n",
       "    <tr>\n",
       "      <th>4</th>\n",
       "      <td>TCGA-AB-2806</td>\n",
       "      <td>wt</td>\n",
       "      <td>90</td>\n",
       "      <td>81</td>\n",
       "    </tr>\n",
       "    <tr>\n",
       "      <th>...</th>\n",
       "      <td>...</td>\n",
       "      <td>...</td>\n",
       "      <td>...</td>\n",
       "      <td>...</td>\n",
       "    </tr>\n",
       "    <tr>\n",
       "      <th>192</th>\n",
       "      <td>TCGA-AB-3007</td>\n",
       "      <td>flt3</td>\n",
       "      <td>90</td>\n",
       "      <td>7</td>\n",
       "    </tr>\n",
       "    <tr>\n",
       "      <th>193</th>\n",
       "      <td>TCGA-AB-3008</td>\n",
       "      <td>wt</td>\n",
       "      <td>71</td>\n",
       "      <td>90</td>\n",
       "    </tr>\n",
       "    <tr>\n",
       "      <th>194</th>\n",
       "      <td>TCGA-AB-3009</td>\n",
       "      <td>wt</td>\n",
       "      <td>51</td>\n",
       "      <td>63</td>\n",
       "    </tr>\n",
       "    <tr>\n",
       "      <th>195</th>\n",
       "      <td>TCGA-AB-3011</td>\n",
       "      <td>npm1</td>\n",
       "      <td>91</td>\n",
       "      <td>83</td>\n",
       "    </tr>\n",
       "    <tr>\n",
       "      <th>196</th>\n",
       "      <td>TCGA-AB-3012</td>\n",
       "      <td>wt</td>\n",
       "      <td>42</td>\n",
       "      <td>29</td>\n",
       "    </tr>\n",
       "  </tbody>\n",
       "</table>\n",
       "<p>197 rows × 4 columns</p>\n",
       "</div>"
      ],
      "text/plain": [
       "          TCGA_id     mutation  \\\n",
       "0    TCGA-AB-2802  npm1_dnmt3a   \n",
       "1    TCGA-AB-2803           wt   \n",
       "2    TCGA-AB-2804           wt   \n",
       "3    TCGA-AB-2805           wt   \n",
       "4    TCGA-AB-2806           wt   \n",
       "..            ...          ...   \n",
       "192  TCGA-AB-3007         flt3   \n",
       "193  TCGA-AB-3008           wt   \n",
       "194  TCGA-AB-3009           wt   \n",
       "195  TCGA-AB-3011         npm1   \n",
       "196  TCGA-AB-3012           wt   \n",
       "\n",
       "     lab_procedure_blast_cell_outcome_percentage_value  \\\n",
       "0                                                   88   \n",
       "1                                                   44   \n",
       "2                                                   82   \n",
       "3                                                   67   \n",
       "4                                                   90   \n",
       "..                                                 ...   \n",
       "192                                                 90   \n",
       "193                                                 71   \n",
       "194                                                 51   \n",
       "195                                                 91   \n",
       "196                                                 42   \n",
       "\n",
       "     lab_procedure_bone_marrow_blast_cell_outcome_percent_value  \n",
       "0                                                   52           \n",
       "1                                                    0           \n",
       "2                                                    6           \n",
       "3                                                   56           \n",
       "4                                                   81           \n",
       "..                                                 ...           \n",
       "192                                                  7           \n",
       "193                                                 90           \n",
       "194                                                 63           \n",
       "195                                                 83           \n",
       "196                                                 29           \n",
       "\n",
       "[197 rows x 4 columns]"
      ]
     },
     "execution_count": 11,
     "metadata": {},
     "output_type": "execute_result"
    }
   ],
   "source": [
    "clinical_result"
   ]
  },
  {
   "cell_type": "code",
   "execution_count": 12,
   "id": "22361864-bbae-489f-a264-0d5296ee6d77",
   "metadata": {},
   "outputs": [],
   "source": [
    "from io import StringIO\n",
    "hazards_data = StringIO(\"\"\"wt,flt3,npm1,dnmt3a,npm1_dnmt3a,flt3_dnmt3a,flt3_npm1,flt3_npm1_dnmt3a\n",
    "1,1.4,0.7,1.1,1,1.2,1.1,1.5\"\"\")\n",
    "hazard_ratios = pd.read_csv(hazards_data)"
   ]
  },
  {
   "cell_type": "code",
   "execution_count": 13,
   "id": "24f16644-1e08-414e-b41c-9505c06e674e",
   "metadata": {},
   "outputs": [
    {
     "data": {
      "text/html": [
       "<div>\n",
       "<style scoped>\n",
       "    .dataframe tbody tr th:only-of-type {\n",
       "        vertical-align: middle;\n",
       "    }\n",
       "\n",
       "    .dataframe tbody tr th {\n",
       "        vertical-align: top;\n",
       "    }\n",
       "\n",
       "    .dataframe thead th {\n",
       "        text-align: right;\n",
       "    }\n",
       "</style>\n",
       "<table border=\"1\" class=\"dataframe\">\n",
       "  <thead>\n",
       "    <tr style=\"text-align: right;\">\n",
       "      <th></th>\n",
       "      <th>wt</th>\n",
       "      <th>flt3</th>\n",
       "      <th>npm1</th>\n",
       "      <th>dnmt3a</th>\n",
       "      <th>npm1_dnmt3a</th>\n",
       "      <th>flt3_dnmt3a</th>\n",
       "      <th>flt3_npm1</th>\n",
       "      <th>flt3_npm1_dnmt3a</th>\n",
       "    </tr>\n",
       "  </thead>\n",
       "  <tbody>\n",
       "    <tr>\n",
       "      <th>0</th>\n",
       "      <td>1</td>\n",
       "      <td>1.4</td>\n",
       "      <td>0.7</td>\n",
       "      <td>1.1</td>\n",
       "      <td>1</td>\n",
       "      <td>1.2</td>\n",
       "      <td>1.1</td>\n",
       "      <td>1.5</td>\n",
       "    </tr>\n",
       "  </tbody>\n",
       "</table>\n",
       "</div>"
      ],
      "text/plain": [
       "   wt  flt3  npm1  dnmt3a  npm1_dnmt3a  flt3_dnmt3a  flt3_npm1  \\\n",
       "0   1   1.4   0.7     1.1            1          1.2        1.1   \n",
       "\n",
       "   flt3_npm1_dnmt3a  \n",
       "0               1.5  "
      ]
     },
     "execution_count": 13,
     "metadata": {},
     "output_type": "execute_result"
    }
   ],
   "source": [
    "hazard_ratios"
   ]
  },
  {
   "cell_type": "code",
   "execution_count": 14,
   "id": "013d892c-5cfe-4782-88fe-fddb1ebacf99",
   "metadata": {},
   "outputs": [],
   "source": [
    "hazard_ratios = hazard_ratios.T"
   ]
  },
  {
   "cell_type": "markdown",
   "id": "f4d95fb0-922f-4704-9b20-40c0f025c6b8",
   "metadata": {},
   "source": [
    "## Comparing model network scores with clinical data"
   ]
  },
  {
   "cell_type": "code",
   "execution_count": 15,
   "id": "990d45c8-9165-430c-b2ce-7a1b17ccf603",
   "metadata": {},
   "outputs": [],
   "source": [
    "clinical_result['apoptosis'] = [mutation_results[r['mutation'].upper()]['APOPTOSIS'] for k, r in clinical_result.iterrows()]"
   ]
  },
  {
   "cell_type": "code",
   "execution_count": 16,
   "id": "5f84809c-924a-424c-a245-05e6ccaccfdd",
   "metadata": {},
   "outputs": [],
   "source": [
    "clinical_result['differentiation'] = [mutation_results[r['mutation'].upper()]['DIFFERENTIATION'] for k, r in clinical_result.iterrows()]"
   ]
  },
  {
   "cell_type": "code",
   "execution_count": 17,
   "id": "eb045f20-7d9d-4c88-99a7-94a5c0c16340",
   "metadata": {},
   "outputs": [],
   "source": [
    "clinical_result['proliferation'] = [mutation_results[r['mutation'].upper()]['PROLIFERATION'] for k, r in clinical_result.iterrows()]"
   ]
  },
  {
   "cell_type": "code",
   "execution_count": 18,
   "id": "42e3c6c3-72d0-41bb-94cf-72bad36abac3",
   "metadata": {},
   "outputs": [],
   "source": [
    "clinical_result['network_score'] = [mutation_results[r['mutation'].upper()]['NETWORK'] for k, r in clinical_result.iterrows()]"
   ]
  },
  {
   "cell_type": "code",
   "execution_count": 19,
   "id": "91c7e284-1c6f-4eb9-a424-4130f7e48029",
   "metadata": {},
   "outputs": [],
   "source": [
    "import matplotlib.pyplot as plt"
   ]
  },
  {
   "cell_type": "code",
   "execution_count": 20,
   "id": "5ad6b9b7-0282-4f07-a1e3-6012dc6f5210",
   "metadata": {},
   "outputs": [
    {
     "data": {
      "text/plain": [
       "<matplotlib.collections.PathCollection at 0x7fa2f57b14b0>"
      ]
     },
     "execution_count": 20,
     "metadata": {},
     "output_type": "execute_result"
    },
    {
     "data": {
      "image/png": "[encoded data removed]",
      "text/plain": [
       "<Figure size 640x480 with 1 Axes>"
      ]
     },
     "metadata": {},
     "output_type": "display_data"
    }
   ],
   "source": [
    "plt.scatter(clinical_result['network_score'], clinical_result['lab_procedure_blast_cell_outcome_percentage_value'])"
   ]
  },
  {
   "cell_type": "code",
   "execution_count": 21,
   "id": "f0d1bc0f-00de-4f49-84f3-97ac0a3811be",
   "metadata": {},
   "outputs": [],
   "source": [
    "median_blasts = clinical_result.groupby('mutation')[['network_score', 'lab_procedure_blast_cell_outcome_percentage_value', 'lab_procedure_bone_marrow_blast_cell_outcome_percent_value']].agg('median')"
   ]
  },
  {
   "cell_type": "code",
   "execution_count": 22,
   "id": "ebb1cbfe-e64d-4ff0-a091-18334e4639f0",
   "metadata": {},
   "outputs": [
    {
     "data": {
      "text/html": [
       "<div>\n",
       "<style scoped>\n",
       "    .dataframe tbody tr th:only-of-type {\n",
       "        vertical-align: middle;\n",
       "    }\n",
       "\n",
       "    .dataframe tbody tr th {\n",
       "        vertical-align: top;\n",
       "    }\n",
       "\n",
       "    .dataframe thead th {\n",
       "        text-align: right;\n",
       "    }\n",
       "</style>\n",
       "<table border=\"1\" class=\"dataframe\">\n",
       "  <thead>\n",
       "    <tr style=\"text-align: right;\">\n",
       "      <th></th>\n",
       "      <th>network_score</th>\n",
       "      <th>lab_procedure_blast_cell_outcome_percentage_value</th>\n",
       "      <th>lab_procedure_bone_marrow_blast_cell_outcome_percent_value</th>\n",
       "    </tr>\n",
       "    <tr>\n",
       "      <th>mutation</th>\n",
       "      <th></th>\n",
       "      <th></th>\n",
       "      <th></th>\n",
       "    </tr>\n",
       "  </thead>\n",
       "  <tbody>\n",
       "    <tr>\n",
       "      <th>dnmt3a</th>\n",
       "      <td>-1.0</td>\n",
       "      <td>61.0</td>\n",
       "      <td>32.0</td>\n",
       "    </tr>\n",
       "    <tr>\n",
       "      <th>flt3</th>\n",
       "      <td>1.0</td>\n",
       "      <td>74.5</td>\n",
       "      <td>54.0</td>\n",
       "    </tr>\n",
       "    <tr>\n",
       "      <th>flt3_dnmt3a</th>\n",
       "      <td>4.0</td>\n",
       "      <td>85.0</td>\n",
       "      <td>32.0</td>\n",
       "    </tr>\n",
       "    <tr>\n",
       "      <th>flt3_npm1</th>\n",
       "      <td>6.0</td>\n",
       "      <td>85.0</td>\n",
       "      <td>45.0</td>\n",
       "    </tr>\n",
       "    <tr>\n",
       "      <th>flt3_npm1_dnmt3a</th>\n",
       "      <td>7.0</td>\n",
       "      <td>85.0</td>\n",
       "      <td>49.0</td>\n",
       "    </tr>\n",
       "    <tr>\n",
       "      <th>npm1</th>\n",
       "      <td>0.0</td>\n",
       "      <td>84.0</td>\n",
       "      <td>67.5</td>\n",
       "    </tr>\n",
       "    <tr>\n",
       "      <th>npm1_dnmt3a</th>\n",
       "      <td>0.0</td>\n",
       "      <td>72.0</td>\n",
       "      <td>17.0</td>\n",
       "    </tr>\n",
       "    <tr>\n",
       "      <th>wt</th>\n",
       "      <td>-3.0</td>\n",
       "      <td>61.0</td>\n",
       "      <td>17.0</td>\n",
       "    </tr>\n",
       "  </tbody>\n",
       "</table>\n",
       "</div>"
      ],
      "text/plain": [
       "                  network_score  \\\n",
       "mutation                          \n",
       "dnmt3a                     -1.0   \n",
       "flt3                        1.0   \n",
       "flt3_dnmt3a                 4.0   \n",
       "flt3_npm1                   6.0   \n",
       "flt3_npm1_dnmt3a            7.0   \n",
       "npm1                        0.0   \n",
       "npm1_dnmt3a                 0.0   \n",
       "wt                         -3.0   \n",
       "\n",
       "                  lab_procedure_blast_cell_outcome_percentage_value  \\\n",
       "mutation                                                              \n",
       "dnmt3a                                                         61.0   \n",
       "flt3                                                           74.5   \n",
       "flt3_dnmt3a                                                    85.0   \n",
       "flt3_npm1                                                      85.0   \n",
       "flt3_npm1_dnmt3a                                               85.0   \n",
       "npm1                                                           84.0   \n",
       "npm1_dnmt3a                                                    72.0   \n",
       "wt                                                             61.0   \n",
       "\n",
       "                  lab_procedure_bone_marrow_blast_cell_outcome_percent_value  \n",
       "mutation                                                                      \n",
       "dnmt3a                                                         32.0           \n",
       "flt3                                                           54.0           \n",
       "flt3_dnmt3a                                                    32.0           \n",
       "flt3_npm1                                                      45.0           \n",
       "flt3_npm1_dnmt3a                                               49.0           \n",
       "npm1                                                           67.5           \n",
       "npm1_dnmt3a                                                    17.0           \n",
       "wt                                                             17.0           "
      ]
     },
     "execution_count": 22,
     "metadata": {},
     "output_type": "execute_result"
    }
   ],
   "source": [
    "median_blasts"
   ]
  },
  {
   "cell_type": "code",
   "execution_count": 23,
   "id": "c16d5b53-e593-43b6-b90b-204f9c825a54",
   "metadata": {},
   "outputs": [],
   "source": [
    "mean_blasts = clinical_result.groupby('mutation')[['network_score', 'lab_procedure_blast_cell_outcome_percentage_value', 'lab_procedure_bone_marrow_blast_cell_outcome_percent_value']].agg('mean')"
   ]
  },
  {
   "cell_type": "code",
   "execution_count": 24,
   "id": "44d1c039-1d53-4972-ac70-6874e55bb2ac",
   "metadata": {},
   "outputs": [
    {
     "data": {
      "text/html": [
       "<div>\n",
       "<style scoped>\n",
       "    .dataframe tbody tr th:only-of-type {\n",
       "        vertical-align: middle;\n",
       "    }\n",
       "\n",
       "    .dataframe tbody tr th {\n",
       "        vertical-align: top;\n",
       "    }\n",
       "\n",
       "    .dataframe thead th {\n",
       "        text-align: right;\n",
       "    }\n",
       "</style>\n",
       "<table border=\"1\" class=\"dataframe\">\n",
       "  <thead>\n",
       "    <tr style=\"text-align: right;\">\n",
       "      <th></th>\n",
       "      <th>network_score</th>\n",
       "      <th>lab_procedure_blast_cell_outcome_percentage_value</th>\n",
       "      <th>lab_procedure_bone_marrow_blast_cell_outcome_percent_value</th>\n",
       "    </tr>\n",
       "    <tr>\n",
       "      <th>mutation</th>\n",
       "      <th></th>\n",
       "      <th></th>\n",
       "      <th></th>\n",
       "    </tr>\n",
       "  </thead>\n",
       "  <tbody>\n",
       "    <tr>\n",
       "      <th>dnmt3a</th>\n",
       "      <td>-1.0</td>\n",
       "      <td>63.473684</td>\n",
       "      <td>33.421053</td>\n",
       "    </tr>\n",
       "    <tr>\n",
       "      <th>flt3</th>\n",
       "      <td>1.0</td>\n",
       "      <td>72.090909</td>\n",
       "      <td>44.681818</td>\n",
       "    </tr>\n",
       "    <tr>\n",
       "      <th>flt3_dnmt3a</th>\n",
       "      <td>4.0</td>\n",
       "      <td>73.600000</td>\n",
       "      <td>48.000000</td>\n",
       "    </tr>\n",
       "    <tr>\n",
       "      <th>flt3_npm1</th>\n",
       "      <td>6.0</td>\n",
       "      <td>73.750000</td>\n",
       "      <td>46.166667</td>\n",
       "    </tr>\n",
       "    <tr>\n",
       "      <th>flt3_npm1_dnmt3a</th>\n",
       "      <td>7.0</td>\n",
       "      <td>76.882353</td>\n",
       "      <td>44.176471</td>\n",
       "    </tr>\n",
       "    <tr>\n",
       "      <th>npm1</th>\n",
       "      <td>0.0</td>\n",
       "      <td>76.500000</td>\n",
       "      <td>53.714286</td>\n",
       "    </tr>\n",
       "    <tr>\n",
       "      <th>npm1_dnmt3a</th>\n",
       "      <td>0.0</td>\n",
       "      <td>68.909091</td>\n",
       "      <td>31.636364</td>\n",
       "    </tr>\n",
       "    <tr>\n",
       "      <th>wt</th>\n",
       "      <td>-3.0</td>\n",
       "      <td>60.329897</td>\n",
       "      <td>29.061856</td>\n",
       "    </tr>\n",
       "  </tbody>\n",
       "</table>\n",
       "</div>"
      ],
      "text/plain": [
       "                  network_score  \\\n",
       "mutation                          \n",
       "dnmt3a                     -1.0   \n",
       "flt3                        1.0   \n",
       "flt3_dnmt3a                 4.0   \n",
       "flt3_npm1                   6.0   \n",
       "flt3_npm1_dnmt3a            7.0   \n",
       "npm1                        0.0   \n",
       "npm1_dnmt3a                 0.0   \n",
       "wt                         -3.0   \n",
       "\n",
       "                  lab_procedure_blast_cell_outcome_percentage_value  \\\n",
       "mutation                                                              \n",
       "dnmt3a                                                    63.473684   \n",
       "flt3                                                      72.090909   \n",
       "flt3_dnmt3a                                               73.600000   \n",
       "flt3_npm1                                                 73.750000   \n",
       "flt3_npm1_dnmt3a                                          76.882353   \n",
       "npm1                                                      76.500000   \n",
       "npm1_dnmt3a                                               68.909091   \n",
       "wt                                                        60.329897   \n",
       "\n",
       "                  lab_procedure_bone_marrow_blast_cell_outcome_percent_value  \n",
       "mutation                                                                      \n",
       "dnmt3a                                                    33.421053           \n",
       "flt3                                                      44.681818           \n",
       "flt3_dnmt3a                                               48.000000           \n",
       "flt3_npm1                                                 46.166667           \n",
       "flt3_npm1_dnmt3a                                          44.176471           \n",
       "npm1                                                      53.714286           \n",
       "npm1_dnmt3a                                               31.636364           \n",
       "wt                                                        29.061856           "
      ]
     },
     "execution_count": 24,
     "metadata": {},
     "output_type": "execute_result"
    }
   ],
   "source": [
    "mean_blasts"
   ]
  },
  {
   "cell_type": "markdown",
   "id": "ac124b89-bf5f-467d-ac47-4acef699df17",
   "metadata": {},
   "source": [
    "### Network scores vs mean/median blast percentages"
   ]
  },
  {
   "cell_type": "code",
   "execution_count": 25,
   "id": "6f656c47-066a-4fd4-b799-6307f78379b6",
   "metadata": {},
   "outputs": [],
   "source": [
    "import scipy.stats"
   ]
  },
  {
   "cell_type": "code",
   "execution_count": 26,
   "id": "61711481-f04d-4cc5-9766-355c5096f0a8",
   "metadata": {},
   "outputs": [
    {
     "data": {
      "text/plain": [
       "PearsonRResult(statistic=0.7573812385041419, pvalue=0.02952215317802802)"
      ]
     },
     "execution_count": 26,
     "metadata": {},
     "output_type": "execute_result"
    }
   ],
   "source": [
    "scipy.stats.pearsonr(mean_blasts['network_score'], mean_blasts['lab_procedure_blast_cell_outcome_percentage_value'])"
   ]
  },
  {
   "cell_type": "code",
   "execution_count": 27,
   "id": "1e1045db-253d-450c-9c3e-6d3b1d324d06",
   "metadata": {},
   "outputs": [
    {
     "data": {
      "text/plain": [
       "PearsonRResult(statistic=0.5633160924515667, pvalue=0.1459539862615835)"
      ]
     },
     "execution_count": 27,
     "metadata": {},
     "output_type": "execute_result"
    }
   ],
   "source": [
    "scipy.stats.pearsonr(mean_blasts['network_score'], mean_blasts['lab_procedure_bone_marrow_blast_cell_outcome_percent_value'])"
   ]
  },
  {
   "cell_type": "code",
   "execution_count": 28,
   "id": "50e51834-b230-4c09-a8b0-0308b64a8f25",
   "metadata": {},
   "outputs": [
    {
     "data": {
      "text/plain": [
       "PearsonRResult(statistic=0.8154310250207597, pvalue=0.013623115858969002)"
      ]
     },
     "execution_count": 28,
     "metadata": {},
     "output_type": "execute_result"
    }
   ],
   "source": [
    "scipy.stats.pearsonr(median_blasts['network_score'], median_blasts['lab_procedure_blast_cell_outcome_percentage_value'])"
   ]
  },
  {
   "cell_type": "code",
   "execution_count": 29,
   "id": "4cc6e5ff-ae38-429c-9e0c-e3750d493772",
   "metadata": {},
   "outputs": [
    {
     "data": {
      "text/plain": [
       "PearsonRResult(statistic=0.36911148454798703, pvalue=0.36820784426007336)"
      ]
     },
     "execution_count": 29,
     "metadata": {},
     "output_type": "execute_result"
    }
   ],
   "source": [
    "scipy.stats.pearsonr(median_blasts['network_score'], median_blasts['lab_procedure_bone_marrow_blast_cell_outcome_percent_value'])"
   ]
  },
  {
   "cell_type": "code",
   "execution_count": 30,
   "id": "06007358-13ba-4dbd-8f0c-8f241088ccd4",
   "metadata": {},
   "outputs": [
    {
     "data": {
      "text/plain": [
       "Text(0, 0.5, 'Median blast percentage')"
      ]
     },
     "execution_count": 30,
     "metadata": {},
     "output_type": "execute_result"
    },
    {
     "data": {
      "image/png": "[encoded data removed]",
      "text/plain": [
       "<Figure size 640x480 with 1 Axes>"
      ]
     },
     "metadata": {},
     "output_type": "display_data"
    }
   ],
   "source": [
    "fig, ax = plt.subplots()\n",
    "ax.scatter(median_blasts['network_score'], median_blasts['lab_procedure_blast_cell_outcome_percentage_value'])\n",
    "for i, row in median_blasts.iterrows():\n",
    "    ax.annotate(i, (row['network_score'], row['lab_procedure_blast_cell_outcome_percentage_value']), textcoords=\"offset points\", xytext=(0,7), ha='center')\n",
    "plt.xlabel('Network score')\n",
    "plt.ylabel('Median blast percentage')"
   ]
  },
  {
   "cell_type": "code",
   "execution_count": 35,
   "id": "65cf4108-d02d-4d6b-87af-0904e394d506",
   "metadata": {},
   "outputs": [
    {
     "data": {
      "text/plain": [
       "Text(0.5, 0, 'Median blast percentage')"
      ]
     },
     "execution_count": 35,
     "metadata": {},
     "output_type": "execute_result"
    },
    {
     "data": {
      "image/png": "[encoded data removed]",
      "text/plain": [
       "<Figure size 640x480 with 1 Axes>"
      ]
     },
     "metadata": {},
     "output_type": "display_data"
    }
   ],
   "source": [
    "fig, ax = plt.subplots()\n",
    "ax.scatter(median_blasts['lab_procedure_blast_cell_outcome_percentage_value'], median_blasts['network_score'])\n",
    "for i, row in median_blasts.iterrows():\n",
    "    ax.annotate(i, (row['lab_procedure_blast_cell_outcome_percentage_value'], row['network_score']), textcoords=\"offset points\", xytext=(0,7), ha='center')\n",
    "plt.ylabel('Network score')\n",
    "plt.xlabel('Median blast percentage')"
   ]
  },
  {
   "cell_type": "markdown",
   "id": "c5c60107-ddd5-4be3-bb56-6368f8e83617",
   "metadata": {},
   "source": [
    "### Network scores vs survival"
   ]
  },
  {
   "cell_type": "code",
   "execution_count": 31,
   "id": "9ab9c8c9-664d-481c-ad01-e3300c961398",
   "metadata": {},
   "outputs": [],
   "source": [
    "hazard_ratios['apoptosis'] = [mutation_results[k.upper()]['APOPTOSIS'] for k, r in hazard_ratios.iterrows()]\n",
    "\n",
    "hazard_ratios['differentiation'] = [mutation_results[k.upper()]['DIFFERENTIATION'] for k, r in hazard_ratios.iterrows()]\n",
    "\n",
    "hazard_ratios['proliferation'] = [mutation_results[k.upper()]['PROLIFERATION'] for k, r in hazard_ratios.iterrows()]\n",
    "\n",
    "hazard_ratios['network_score'] = [mutation_results[k.upper()]['NETWORK'] for k, r in hazard_ratios.iterrows()]"
   ]
  },
  {
   "cell_type": "code",
   "execution_count": 32,
   "id": "55b1f4be-b8cc-43f0-bc17-2698e078929c",
   "metadata": {},
   "outputs": [
    {
     "data": {
      "text/plain": [
       "PearsonRResult(statistic=0.5592042199464444, pvalue=0.149571460729892)"
      ]
     },
     "execution_count": 32,
     "metadata": {},
     "output_type": "execute_result"
    }
   ],
   "source": [
    "scipy.stats.pearsonr(hazard_ratios['network_score'], hazard_ratios[0])"
   ]
  },
  {
   "cell_type": "code",
   "execution_count": 33,
   "id": "c8895c8a-3b5c-411d-a292-8b48fb648a1c",
   "metadata": {},
   "outputs": [
    {
     "data": {
      "text/plain": [
       "Text(0, 0.5, 'Hazard Ratio')"
      ]
     },
     "execution_count": 33,
     "metadata": {},
     "output_type": "execute_result"
    },
    {
     "data": {
      "image/png": "[encoded data removed]",
      "text/plain": [
       "<Figure size 640x480 with 1 Axes>"
      ]
     },
     "metadata": {},
     "output_type": "display_data"
    }
   ],
   "source": [
    "fig, ax = plt.subplots()\n",
    "ax.scatter(hazard_ratios['network_score'], hazard_ratios[0])\n",
    "for i, row in hazard_ratios.iterrows():\n",
    "    ax.annotate(i, (row['network_score'], row[0]), textcoords=\"offset points\", xytext=(0,7), ha='center')\n",
    "plt.xlabel('Network score')\n",
    "plt.ylabel('Hazard Ratio')"
   ]
  }
 ],
 "metadata": {
  "kernelspec": {
   "display_name": "Python 3 (ipykernel)",
   "language": "python",
   "name": "python3"
  },
  "language_info": {
   "codemirror_mode": {
    "name": "ipython",
    "version": 3
   },
   "file_extension": ".py",
   "mimetype": "text/x-python",
   "name": "python",
   "nbconvert_exporter": "python",
   "pygments_lexer": "ipython3",
   "version": "3.10.6"
  }
 },
 "nbformat": 4,
 "nbformat_minor": 5
}
