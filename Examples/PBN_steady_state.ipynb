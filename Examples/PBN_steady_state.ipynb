{
 "cells": [
  {
   "cell_type": "markdown",
   "metadata": {},
   "source": [
    "# PBN steady states\n",
    "\n",
    "Steady-state calculation capabilities for both Boolean Networks and Probabilistic Boolean Networks in BNMPy.  \n",
    "Refer to the `pbnStationary_TS.m` function in the `optPBN` MATLAB package."
   ]
  },
  {
   "cell_type": "code",
   "execution_count": 1,
   "metadata": {},
   "outputs": [],
   "source": [
    "import sys\n",
    "import numpy as np\n",
    "sys.path.append('./src')\n",
    "from BNMPy.steady_state import SteadyStateCalculator\n",
    "from BNMPy import PBN, BMatrix"
   ]
  },
  {
   "cell_type": "code",
   "execution_count": 11,
   "metadata": {},
   "outputs": [],
   "source": [
    "network_string = \"\"\"\n",
    "N1 = N1, 1\n",
    "N2 = N2, 1\n",
    "N3 = N1, 0.6\n",
    "N3 = N1 & !N2, 0.4\n",
    "\"\"\"\n",
    "x0  =  np.array( [1, 1, 0] )  # initial state\n",
    "network = BMatrix.load_pbn_from_string(network_string, initial_state = x0)"
   ]
  },
  {
   "cell_type": "markdown",
   "metadata": {},
   "source": [
    "## Monte Carlo Method\n",
    "\n",
    "1. Performs several independent simulations from initial conditions\n",
    "2. Update with noise for dynamics\n",
    "3. Takes the mean across all runs and the second half of each trajectory\n",
    "\n",
    "**Parameters**:\n",
    "\n",
    "- `n_runs` (int, default=10): Number of independent simulation runs\n",
    "- `n_steps` (int, default=1000): Number of simulation steps per run\n",
    "- `p_noise` (float, default=0): Noise probability for `update_noise()`"
   ]
  },
  {
   "cell_type": "code",
   "execution_count": 13,
   "metadata": {},
   "outputs": [
    {
     "data": {
      "text/plain": [
       "array([1.        , 1.        , 0.59969503])"
      ]
     },
     "execution_count": 13,
     "metadata": {},
     "output_type": "execute_result"
    }
   ],
   "source": [
    "calc = SteadyStateCalculator(network)\n",
    "steady_state = calc.compute_steady_state(method='monte_carlo',n_runs=20,n_steps=20000,p_noise=0)\n",
    "steady_state"
   ]
  },
  {
   "cell_type": "markdown",
   "metadata": {},
   "source": [
    "When there is no noise, the steady state will start with the predefined initial state and be trapped in it.   \n",
    "Therefore we get 1s for N1 and N2, and 0.6 for N3 because there is 0.6 probability that N1 is 1."
   ]
  },
  {
   "cell_type": "code",
   "execution_count": 16,
   "metadata": {},
   "outputs": [
    {
     "data": {
      "text/plain": [
       "array([0.50064494, 0.5060144 , 0.40966403])"
      ]
     },
     "execution_count": 16,
     "metadata": {},
     "output_type": "execute_result"
    }
   ],
   "source": [
    "calc = SteadyStateCalculator(network)\n",
    "steady_state = calc.compute_steady_state(method='monte_carlo',n_runs=20,n_steps=20000,p_noise=0.05)\n",
    "steady_state"
   ]
  },
  {
   "cell_type": "markdown",
   "metadata": {},
   "source": [
    "When there is noise, the initial state is quickly forgotten because noise is independent of the state and drives both self-loops for N1 and N2 toward a uniform 0.5–0.5 equilibrium.  \n",
    "For N3, there are two possibilities:\n",
    "- f(N) = N1 (with p=0.6)         =>   expected value is 0.6*0.5=0.3\n",
    "- f(N) = N1 & !N2 (with p=0.4)   =>   expected value is 0.4\\*0.5\\*0.5=0.1\n",
    "  \n",
    "Therefore, the steady state for N3 is 0.3+0.1=0.4.\n"
   ]
  },
  {
   "cell_type": "markdown",
   "metadata": {},
   "source": [
    "## TSMC Method\n",
    "\n",
    "1. Runs multiple rounds of network simulation\n",
    "2. Uses transition probability analysis to determine required simulation length\n",
    "3. Calculates how many initial steps to discard (burn-in period)\n",
    "4. Ensures results meet specified statistical accuracy requirements\n",
    "5. In addition to the original function, `freeze_self_loop` ensure similar behavior to MC method\n",
    " - freeze_self_loop=False: MC with noise\n",
    " - freeze_self_loop=True: MC with no noise\n",
    "\n",
    "\n",
    "**Parameters**:\n",
    "\n",
    "- `epsilon` (float, default=0.001): Range of transition probability (smaller = more accurate)\n",
    "- `r` (float, default=0.025): Range of accuracy - most sensitive parameter (smaller = more accurate)\n",
    "- `s` (float, default=0.95): Probability of accuracy (closer to 1 = more confident)\n",
    "- `p_noise` (float, default=0): Noise probability for Monte Carlo method\n",
    "- `p_mir` (float, default=0.001): Perturbation probability (Miranda-Parga scheme)\n",
    "- `initial_nsteps` (int, default=1000): Initial number of simulation steps\n",
    "- `max_iterations` (int, default=100): Maximum convergence iterations\n",
    "- `freeze_self_loop` (bool, default=False): Freeze self-loop nodes (constant nodes)\n",
    "\n",
    "**Fix**:  \n",
    "\n",
    "In the original MATLAB code, pure identity rules such as A(t+1)=A(t) are treated as inputs and are therefore never perturbed; during Monte-Carlo estimation each iteration starts from a fresh random initial state, so the long-run mean of a self-loop naturally converges to 0.5. The TSMC approach, however, draws one random initial state and keeps it fixed for the entire trajectory. \n",
    "\n",
    "freeze_self_loops=False allows TSMC and Monte-Carlo converge to identical stationary distributions with similar perturbation probability."
   ]
  },
  {
   "cell_type": "code",
   "execution_count": 6,
   "metadata": {},
   "outputs": [
    {
     "data": {
      "text/plain": [
       "array([1.        , 1.        , 0.59946793])"
      ]
     },
     "execution_count": 6,
     "metadata": {},
     "output_type": "execute_result"
    }
   ],
   "source": [
    "calc = SteadyStateCalculator(network)\n",
    "steady_state = calc.compute_steady_state(method='tsmc',r=0.01,initial_nsteps=100,max_iterations=5000,freeze_self_loop=True)\n",
    "steady_state"
   ]
  },
  {
   "cell_type": "code",
   "execution_count": 5,
   "metadata": {},
   "outputs": [
    {
     "data": {
      "text/plain": [
       "array([0.49722676, 0.49558394, 0.40038888])"
      ]
     },
     "execution_count": 5,
     "metadata": {},
     "output_type": "execute_result"
    }
   ],
   "source": [
    "calc = SteadyStateCalculator(network)\n",
    "steady_state = calc.compute_steady_state(method='tsmc',r=0.01,p_mir=0.01,initial_nsteps=100,max_iterations=5000,freeze_self_loop=False)\n",
    "steady_state"
   ]
  },
  {
   "cell_type": "markdown",
   "metadata": {},
   "source": [
    "## Perturbations\n",
    "\n",
    "Apply experimental perturbations by fixing certain nodes to specific values.\n",
    "\n",
    "**Parameters**:\n",
    "\n",
    "- `stimuli` (list): Node names to fix at value 1\n",
    "- `inhibitors` (list): Node names to fix at value 0\n",
    "- `node_dict` (dict): Mapping from node names to indices (uses `network.nodeDict` if None)"
   ]
  },
  {
   "cell_type": "code",
   "execution_count": 3,
   "metadata": {},
   "outputs": [],
   "source": [
    "network_string = \"\"\"\n",
    "N1 = N1, 1\n",
    "N2 = N2, 1\n",
    "N3 = N1, 0.6\n",
    "N3 = N1 & !N2, 0.4\n",
    "\"\"\"\n",
    "x0  =  np.array( [1, 1, 0] )  # initial state\n",
    "network = BMatrix.load_pbn_from_string(network_string, initial_state = x0)\n",
    "calc = SteadyStateCalculator(network)"
   ]
  },
  {
   "cell_type": "code",
   "execution_count": 4,
   "metadata": {},
   "outputs": [
    {
     "data": {
      "text/plain": [
       "array([1., 0., 1.])"
      ]
     },
     "execution_count": 4,
     "metadata": {},
     "output_type": "execute_result"
    }
   ],
   "source": [
    "calc.set_experimental_conditions(stimuli=['N1'],inhibitors=['N2'])\n",
    "calc.compute_steady_state(method='monte_carlo',n_runs=20,n_steps=10000,p_noise=0)"
   ]
  },
  {
   "cell_type": "code",
   "execution_count": 5,
   "metadata": {},
   "outputs": [
    {
     "data": {
      "text/plain": [
       "array([1.        , 0.        , 0.95235953])"
      ]
     },
     "execution_count": 5,
     "metadata": {},
     "output_type": "execute_result"
    }
   ],
   "source": [
    "calc.compute_steady_state(method='monte_carlo',n_runs=20,n_steps=10000,p_noise=0.05)"
   ]
  },
  {
   "cell_type": "code",
   "execution_count": 7,
   "metadata": {},
   "outputs": [
    {
     "data": {
      "text/plain": [
       "array([1., 0., 1.])"
      ]
     },
     "execution_count": 7,
     "metadata": {},
     "output_type": "execute_result"
    }
   ],
   "source": [
    "calc.compute_steady_state(method='tsmc',r=0.01,initial_nsteps=100,max_iterations=5000)"
   ]
  },
  {
   "cell_type": "markdown",
   "metadata": {},
   "source": [
    "# BN steady states"
   ]
  },
  {
   "cell_type": "code",
   "execution_count": 2,
   "metadata": {},
   "outputs": [
    {
     "name": "stdout",
     "output_type": "stream",
     "text": [
      "No initial state provided, using a random initial state\n",
      "Network loaded successfully. There are 36 genes in the network.\n"
     ]
    }
   ],
   "source": [
    "# the Ikonomi 2020 model\n",
    "network_string = \"\"\"\n",
    "EXTERNAL_QUIESCENCE = EXTERNAL_QUIESCENCE \n",
    "EXTERNAL_CYCLING = EXTERNAL_CYCLING \n",
    "PIK3CA = NRAS \n",
    "TSC1 = !AKT1\n",
    "MTOR = !TSC1 \n",
    "FOXO3 = (EXTERNAL_QUIESCENCE) & !AKT1\n",
    "ATM = FOXO3\n",
    "ROS1 = MITOCHONDRIA | !ATM | !FOXO3 | !BMI1 | !TP53\n",
    "MITOCHONDRIA = MTOR\n",
    "AUTOPHAGY = FOXO3 & ROS1 & !MTOR \n",
    "NRAS = EXTERNAL_CYCLING\n",
    "ETS = NRAS & !MEFV\n",
    "MEFV = NRAS\n",
    "GSK3B = !AKT1\n",
    "CTNNB1 = !GSK3B\n",
    "MYC = CTNNB1 & !GSK3B\n",
    "BMI1 = MYC | (ATM & FOXO3)\n",
    "MDM2 = (TP53 | MEFV) & !CDKN2D & !ATM\n",
    "TP53 = !MDM2  \n",
    "CDKN1C = EXTERNAL_QUIESCENCE | FOXO3 \n",
    "CDKN1A = (TP53 | FOXO3 | EXTERNAL_QUIESCENCE |GFI1) & !MYC\n",
    "CDKN1B = FOXO3\n",
    "GFI1 = TP53\n",
    "RB1 = !CCND1 & !CCNE1\n",
    "E2F1 = !RB1  & !GFI1  \n",
    "CCND1 = !CDKN2A & !CDKN1C & MYC \n",
    "CCNE1 = (!CDKN1C) & ((!CDKN1A & !CDKN1B) | CCND1) & (E2F1)\n",
    "S_PHASE = CCNE1 & E2F1\n",
    "AKT1 = PIK3CA\n",
    "CDKN2D = !BMI1 & (E2F1 | ROS1)\n",
    "CDKN2A = (ETS | ROS1) & !BMI1 \n",
    "PRO_APOPTOTIC_PROTEINS = TP53 &  ROS1 & !AKT1\n",
    "ANTI_APOPTOTIC_PROTEINS = (NRAS | EXTERNAL_QUIESCENCE) & !GSK3B\n",
    "CYCS = PRO_APOPTOTIC_PROTEINS & !ANTI_APOPTOTIC_PROTEINS\n",
    "APOPTOSIS = CYCS & !AKT1 \n",
    "SENESCENCE = (CDKN2A & ROS1) | (TP53 & ROS1 & CDKN1A) \n",
    "\"\"\"\n",
    "network = BMatrix.load_network_from_string(network_string)"
   ]
  },
  {
   "cell_type": "code",
   "execution_count": 3,
   "metadata": {},
   "outputs": [
    {
     "name": "stdout",
     "output_type": "stream",
     "text": [
      "Found 4 fixed points and 0 cyclic attractors\n",
      "Fixed points: \n",
      "Fixed point 1: [1, 0, 0, 1, 0, 1, 1, 0, 0, 0, 0, 0, 0, 1, 0, 0, 1, 0, 1, 1, 1, 1, 1, 1, 0, 0, 0, 0, 0, 0, 0, 0, 0, 0, 0, 0]\n",
      "Fixed point 2: [0, 1, 1, 0, 1, 0, 0, 1, 1, 0, 1, 0, 1, 0, 1, 1, 1, 1, 0, 0, 0, 0, 0, 0, 1, 1, 1, 1, 1, 0, 0, 0, 1, 0, 0, 0]\n",
      "Fixed point 3: [1, 1, 1, 0, 1, 0, 0, 1, 1, 0, 1, 0, 1, 0, 1, 1, 1, 1, 0, 1, 0, 0, 0, 1, 0, 0, 0, 0, 1, 0, 0, 0, 1, 0, 0, 0]\n",
      "Fixed point 4: [0, 0, 0, 1, 0, 0, 0, 1, 0, 0, 0, 0, 0, 1, 0, 0, 0, 0, 1, 0, 1, 0, 1, 1, 0, 0, 0, 0, 0, 1, 1, 1, 0, 1, 1, 1]\n",
      "--------------------------------\n",
      "No cyclic attractors found\n",
      "--------------------------------\n",
      "Node order: dict_keys(['EXTERNAL_QUIESCENCE', 'EXTERNAL_CYCLING', 'PIK3CA', 'TSC1', 'MTOR', 'FOXO3', 'ATM', 'ROS1', 'MITOCHONDRIA', 'AUTOPHAGY', 'NRAS', 'ETS', 'MEFV', 'GSK3B', 'CTNNB1', 'MYC', 'BMI1', 'MDM2', 'TP53', 'CDKN1C', 'CDKN1A', 'CDKN1B', 'GFI1', 'RB1', 'E2F1', 'CCND1', 'CCNE1', 'S_PHASE', 'AKT1', 'CDKN2D', 'CDKN2A', 'PRO_APOPTOTIC_PROTEINS', 'ANTI_APOPTOTIC_PROTEINS', 'CYCS', 'APOPTOSIS', 'SENESCENCE'])\n"
     ]
    }
   ],
   "source": [
    "calc = SteadyStateCalculator(network)\n",
    "steady_state = calc.compute_steady_state(n_runs=100,n_steps=1000)"
   ]
  },
  {
   "cell_type": "code",
   "execution_count": 4,
   "metadata": {},
   "outputs": [
    {
     "data": {
      "text/plain": [
       "{'fixed_points': [array([1, 0, 0, 1, 0, 1, 1, 0, 0, 0, 0, 0, 0, 1, 0, 0, 1, 0, 1, 1, 1, 1,\n",
       "         1, 1, 0, 0, 0, 0, 0, 0, 0, 0, 0, 0, 0, 0], dtype=int8),\n",
       "  array([0, 1, 1, 0, 1, 0, 0, 1, 1, 0, 1, 0, 1, 0, 1, 1, 1, 1, 0, 0, 0, 0,\n",
       "         0, 0, 1, 1, 1, 1, 1, 0, 0, 0, 1, 0, 0, 0], dtype=int8),\n",
       "  array([1, 1, 1, 0, 1, 0, 0, 1, 1, 0, 1, 0, 1, 0, 1, 1, 1, 1, 0, 1, 0, 0,\n",
       "         0, 1, 0, 0, 0, 0, 1, 0, 0, 0, 1, 0, 0, 0], dtype=int8),\n",
       "  array([0, 0, 0, 1, 0, 0, 0, 1, 0, 0, 0, 0, 0, 1, 0, 0, 0, 0, 1, 0, 1, 0,\n",
       "         1, 1, 0, 0, 0, 0, 0, 1, 1, 1, 0, 1, 1, 1], dtype=int8)],\n",
       " 'cyclic_attractors': []}"
      ]
     },
     "execution_count": 4,
     "metadata": {},
     "output_type": "execute_result"
    }
   ],
   "source": [
    "steady_state"
   ]
  }
 ],
 "metadata": {
  "kernelspec": {
   "display_name": "logicmodelmerger",
   "language": "python",
   "name": "python3"
  },
  "language_info": {
   "codemirror_mode": {
    "name": "ipython",
    "version": 3
   },
   "file_extension": ".py",
   "mimetype": "text/x-python",
   "name": "python",
   "nbconvert_exporter": "python",
   "pygments_lexer": "ipython3",
   "version": "3.13.1"
  }
 },
 "nbformat": 4,
 "nbformat_minor": 2
}
