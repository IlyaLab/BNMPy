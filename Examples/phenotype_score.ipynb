{
  "cells": [
    {
      "cell_type": "markdown",
      "metadata": {},
      "source": [
        "# Phenotype Score Calculation\n",
        "\n",
        "This notebook demonstrates how to calculate phenotype scores using different types of simulation results:\n",
        "1. BN steady state results (dictionary with fixed points and cyclic attractors)\n",
        "2. PBN steady state results (numpy array)\n",
        "3. Network update/simulation results (numpy array)\n",
        "4. Pandas Series/DataFrame\n",
        "\n",
        "The phenotype scoring uses ProxPath to determine gene-phenotype relationships and calculates scores based on simulation results.\n"
      ]
    },
    {
      "cell_type": "code",
      "execution_count": 1,
      "metadata": {},
      "outputs": [],
      "source": [
        "import sys\n",
        "import os\n",
        "import numpy as np\n",
        "import pandas as pd\n",
        "\n",
        "sys.path.append('./src')\n",
        "import BNMPy"
      ]
    },
    {
      "cell_type": "markdown",
      "metadata": {},
      "source": [
        "## Available phenotypes\n",
        "\n",
        "First, let's see what phenotypes are available in SIGNOR."
      ]
    },
    {
      "cell_type": "code",
      "execution_count": 2,
      "metadata": {},
      "outputs": [
        {
          "name": "stdout",
          "output_type": "stream",
          "text": [
            "There are 201 phenotypes\n",
            "There are 4905 genes\n",
            "Available phenotypes: ['ACROSOME_ASSEMBLY' 'ACTIN_CYTOSKELETON_REORGANIZATION'\n",
            " 'ACTION_POTENTIAL_' 'ADIPOGENESIS' 'ALTERNATIVE_SPLICING_REGULATION'\n",
            " 'AMYLOID_FIBRIL_FORMATION' 'ANGIOGENESIS' 'APOPTOSIS' 'ARDS'\n",
            " 'AUTOPHAGOSOME_FORMATION' 'AUTOPHAGY' 'AXONAL_GROWTH_CONE_FORMATION'\n",
            " 'B_CELL_MATURATION' 'B-LYMPHOCYTE_DIFF' 'BASOPHIL_DIFF'\n",
            " 'BONE_MINERALIZATION' 'BROWN_ADIPOGENESIS' 'CARTILAGE_DEVELOPMENT'\n",
            " 'CELL_ADHESION' 'CELL_CYCLE_BLOCK' 'CELL_CYCLE_EXIT'\n",
            " 'CELL_CYCLE_PROGRESS_' 'CELL_DEATH' 'CELL_GROWTH' 'CELL_KILLING'\n",
            " 'CELL_MIGRATION' 'CELL_POLARITY' 'CELL_SHAPE' 'CENTROMERE_ASSEMBLY'\n",
            " 'CENTROSOME_SEPARATION' 'CEREBRAL_CORTEX_DEVELOPMENT'\n",
            " 'CHAPERONE-MEDIATED_AUTOPHAGY' 'CHAPERONE-MEDIATED_PROTEIN_FOLDING'\n",
            " 'CHEMOATTRACTION_OF_AXON' 'CHEMOREPULSION_OF_AXON' 'CHEMOTAXIS'\n",
            " 'CHROMATINE_CONDENSATION' 'CHROMOSOME_SEGREGATION' 'CILIUM_ASSEMBLY'\n",
            " 'CILIUM_MOVEMENT' 'CITRIC_ACID_CYCLE'\n",
            " 'CLEARANCE_OF_FOREIGN_INTRACELLULAR_DNA' 'COLLOID' 'CYTOKINE_PRODUCTION'\n",
            " 'CYTOSKELETON_ORGANIZATION' 'CYTOTOXIC_T-LYMPHOCYTE_ACTIVATION'\n",
            " 'DEGRANULATION' 'DEMYELINATION' 'DENDRITIC_SPINE_MORPHOGENESIS'\n",
            " 'DENSE-CORE_VESICLE_EXOCYTOSIS' 'DIFFERENTIATION' 'DNA_FRAGMENTATION'\n",
            " 'DNA_REPAIR' 'DNA_REPLICATION' 'ECM_DISASSEMBLY' 'ECM_SYNTHESIS'\n",
            " 'ENDOCYTOSIS' 'EPIGENETIC_REGULATION' 'EPITHELIAL-MESENCHYMAL_TRANSITION'\n",
            " 'ERYTHROCYTE_DIFFERENTIATION_' 'EXCITATORY_SYNAPTIC_TRANSMISSION'\n",
            " 'EXOCYTOSIS' 'F-ACTIN_ASSEMBLY' 'FATTY_ACID_BIOSYNTHESIS'\n",
            " 'FATTY_ACID_OXIDATION' 'FIBRIN_CLOT_FORMATION' 'FIBRINOLYSIS' 'FIBROSIS'\n",
            " 'FOOD_INTAKE' 'G1/S_TRANSITION' 'G1/S_TRANSITION_CHECKPOINT'\n",
            " 'G2/M_TRANSITION' 'G2/M_TRANSITION-CHECKPOINT' 'GLUCONEOGENESIS'\n",
            " 'GLUTAMINOLYSIS' 'GLYCOGEN_SYNTHESIS' 'GLYCOLYSIS'\n",
            " 'GRANULOCYTE_DIFFERENTIATION' 'HDL_ASSEMBLY'\n",
            " 'HELPER_T-LYMPHOCYTE_ACTIVATION' 'HEXOSAMINE_BIOSYNTHESIS' 'IMMORTALITY'\n",
            " 'IMMUNE_RESPONSE' 'INFLAMMATION' 'INSERTION_INTO_MITOCHONDRIAL_MEMBRANE'\n",
            " 'INTERFERON_PRODUCTION' 'LDL_ASSEMBLY' 'LEWY_BODY_FORMATION'\n",
            " 'LIPOGENESIS' 'LYMPHOMA' 'LYMPHOPOIESIS' 'M1_POLARIZATION'\n",
            " 'M2_POLARIZATION' 'MACROPHAGE_ACTIVATION' 'MACROPHAGE_DIFFERENTIATION'\n",
            " 'MAINTENANCE_OF_LENS_TRANSPARENCY' 'MAST-CELL_DIFF'\n",
            " 'MEGAKARYOCYTE_DIFFERENTIATION_' 'MEIOTIC_RECOMBINATION'\n",
            " 'MELANOSOME_ASSEMBLY' 'MEMBRANE_BLEBBING' 'MEMBRANE_DISRUPTION'\n",
            " 'MEMBRANE_FUSION' 'METABOLISM' 'METASTASIS' 'MICROTUBULE_POLIMERIZATION'\n",
            " 'MICROTUBULE-BASED_MOVEMENT' 'MINUS-END_DIRECTED_MICROTUBULE_MOVEMENT'\n",
            " 'MITOCHONDRIAL_BIOGENESIS' 'MITOCHONDRIAL_FISSION' 'MITOTIC_CHECKPOINT'\n",
            " 'MONOCYTE_DIFFERENTIATION_' 'MRNA_CAPPING' 'MRNA_POLYADENYLATION'\n",
            " 'MRNA_SCANNING' 'MRNA-NUCLEUS_EXPORT' 'MULTIVESICULAR_BODY_ASSEMBLY'\n",
            " 'MUSCLE_ATROPHY' 'MYELINATION' 'MYOBLAST_FUSION' 'MYOTUBE_HYPERTROPHY'\n",
            " 'NCRNA_PROCESSING' 'NECROPTOSIS' 'NECROSIS' 'NEURAL_TISSUE_REGENERATION'\n",
            " 'NEURITE_OUTGROWTH' 'NEURODEGENERATION'\n",
            " 'NEUROFIBRILLARY_TANGLE_FORMATION' 'NEUROFILAMENT_BUNDLE_ASSEMBLY'\n",
            " 'NEUROGENESIS' 'NEURON_MATURATION' 'NEURON_MIGRATION'\n",
            " 'NEUTROPHIL_ACTIVATION' 'NONSENSE-MEDIATED_MRNA_DECAY'\n",
            " 'NUCLEAR_PORE_FUNCTION' 'NUCLEOTIDE_SYNTHESIS'\n",
            " 'NUCLEOTIDE-EXCISION_REPAIR' 'ORGANELLE_TRANSPORT' 'OSSIFICATION'\n",
            " 'OSTEOBLAST_DIFFERENTIATION' 'OSTEOCLAST_DIFFERENTIATION'\n",
            " 'OXIDATIVE_PHOSPHORYLATION' 'OXIDATIVE_STRESS'\n",
            " 'PEPTIDE_HORMONE_PROCESSING' 'PHAGOCYTOSIS' 'PIGMENTATION'\n",
            " 'PLATELET_ADHESION_' 'PLATELET_AGGREGATION'\n",
            " 'PLATELET_ALPHA_GRANULE_FORMATION' 'PLATELET_DEGRANULATION'\n",
            " 'PLATELET_DENSE_GRANULE_FORMATION' 'PLATELET_MORPHOGENESIS'\n",
            " 'PLURIPOTENCY' 'PLUS-END_DIRECTED_SLIDING_MOVEMENT'\n",
            " 'POSTSYNAPTIC_DENSITY_ASSEMBLY' 'PROLIFERATION' 'PROTEIN_ACETYLATION'\n",
            " 'PROTEIN_AGGREGATES' 'PROTEIN_DEGRADATION' 'PROTEIN_GLYCOSYLATION'\n",
            " 'PROTEIN_LOCALIZATION_TO_PEROXISOME' 'PROTEIN_SYNTHESIS'\n",
            " 'PROTEIN_TRANSLOCATION' 'PROTEIN_UBIQUITINATION' 'PURINE_BIOSYNTHESIS'\n",
            " 'PYRIMIDINE_BIOSYNTHESIS' 'PYRIMIDINE_NUCLEOTIDE_METABOLIC_PROCESS'\n",
            " 'PYROPTOSIS' 'QUIESCENCE' 'RECEPTOR_MEDIATED__ENDOCYTOSIS'\n",
            " 'RESPIRATORY_ELECTRON_TRANSPORT_CHAIN' 'RIBOSOME_BIOGENESIS'\n",
            " 'RNA_SPLICING' 'RRNA_TRANSCRIPTION' 'SARCOMERE_ORGANIZATION'\n",
            " 'SATELLITE_CELLS_SELF-RENEWAL' 'SECRETORY_GRANULE_ORGANIZATION'\n",
            " 'SKELETAL_MUSCLE_DIFFERENTIATION' 'SPINDLE_ASSEMBLY'\n",
            " 'SPLICEOSOMAL_SNRNP_ASSEMBLY' 'STRESS_GRANULES' 'SURVIVAL'\n",
            " 'SYNAPTIC_PLASTICITY' 'SYNAPTIC_VESICLE_EXOCYTOSIS'\n",
            " 'SYNAPTIC_VESICLE_RECYCLING' 'T_CELL_ACTIVATION' 'T-LYMPHOCYTE_DIFF'\n",
            " 'T-REG_DIFFERENTIATION' 'TELOMERE_MAINTENANCE' 'TH17' 'THERMOGENESIS_'\n",
            " 'THYROID_HORMONOGENESIS' 'TRANSCRITPIONAL_ACTIVATION'\n",
            " 'TRANSLATIONAL_ELONGATION' 'TRANSLATIONAL_REGULATION' 'UPR'\n",
            " 'UROGENITAL_TRACT' 'VASCULAR_PERMEABILITY' 'VESICLE_TRANSPORT'\n",
            " 'VIRAL_BUDDING' 'VLDL_ASSEMBLY']\n"
          ]
        }
      ],
      "source": [
        "# Get available phenotypes\n",
        "BNMPy.get_phenotypes()"
      ]
    },
    {
      "cell_type": "markdown",
      "metadata": {},
      "source": [
        "## Get phenotype score formulas\n",
        "\n",
        "Get the calculation formulas of the phenotype scores using a list of genes and phenotypes."
      ]
    },
    {
      "cell_type": "code",
      "execution_count": 3,
      "metadata": {},
      "outputs": [
        {
          "name": "stdout",
          "output_type": "stream",
          "text": [
            "EGFR has dual effects on PROLIFERATION\n",
            "Path found for 3 phenotypes: ['APOPTOSIS' 'PROLIFERATION' 'DIFFERENTIATION']\n",
            "\n",
            "Phenotype score formulas:\n",
            "APOPTOSIS: - BCL2 + CASP3 -  EGFR -  KRAS -  PI3K + PTEN + TP53\n",
            "PROLIFERATION: - CASP3 + EGFR + KRAS + MYC + PI3K -  TP53\n",
            "DIFFERENTIATION: MYC + TP53\n"
          ]
        }
      ],
      "source": [
        "# Get formulas without simulation results\n",
        "formulas = BNMPy.phenotype_scores(\n",
        "    genes=['TP53', 'MYC', 'BCL2','CASP3','PI3K','PTEN','KRAS','EGFR'],\n",
        "    phenotypes=['APOPTOSIS', 'PROLIFERATION', 'DIFFERENTIATION'],\n",
        "    simulation_results=None\n",
        ")\n",
        "\n",
        "print(\"\\nPhenotype score formulas:\")\n",
        "for phenotype, formula in formulas.items():\n",
        "    print(f\"{phenotype}: {formula}\")"
      ]
    },
    {
      "cell_type": "markdown",
      "metadata": {},
      "source": [
        "## ProxPath gene-phenotype relationships\n",
        "\n",
        "You can also explore the underlying ProxPath relationships."
      ]
    },
    {
      "cell_type": "code",
      "execution_count": 4,
      "metadata": {},
      "outputs": [
        {
          "name": "stdout",
          "output_type": "stream",
          "text": [
            "Path found for 1 phenotypes: ['APOPTOSIS']\n"
          ]
        },
        {
          "data": {
            "text/html": [
              "<div>\n",
              "<style scoped>\n",
              "    .dataframe tbody tr th:only-of-type {\n",
              "        vertical-align: middle;\n",
              "    }\n",
              "\n",
              "    .dataframe tbody tr th {\n",
              "        vertical-align: top;\n",
              "    }\n",
              "\n",
              "    .dataframe thead th {\n",
              "        text-align: right;\n",
              "    }\n",
              "</style>\n",
              "<table border=\"1\" class=\"dataframe\">\n",
              "  <thead>\n",
              "    <tr style=\"text-align: right;\">\n",
              "      <th></th>\n",
              "      <th>EndPathways</th>\n",
              "      <th>QueryNode</th>\n",
              "      <th>EndNode</th>\n",
              "      <th>Path_String</th>\n",
              "      <th>relations_path</th>\n",
              "      <th>Path_Score</th>\n",
              "      <th>Path_Length</th>\n",
              "      <th>Final_Effect</th>\n",
              "      <th>Effect</th>\n",
              "      <th>n</th>\n",
              "      <th>mean</th>\n",
              "      <th>sd</th>\n",
              "      <th>zscore</th>\n",
              "    </tr>\n",
              "  </thead>\n",
              "  <tbody>\n",
              "    <tr>\n",
              "      <th>2913</th>\n",
              "      <td>APOPTOSIS</td>\n",
              "      <td>BCL2</td>\n",
              "      <td>APOPTOSIS</td>\n",
              "      <td>BCL2--|APOPTOSIS</td>\n",
              "      <td>SIGNOR-249611</td>\n",
              "      <td>0.300</td>\n",
              "      <td>1</td>\n",
              "      <td>-1</td>\n",
              "      <td>down-regulates</td>\n",
              "      <td>75493</td>\n",
              "      <td>1.737625</td>\n",
              "      <td>0.526944</td>\n",
              "      <td>-2.728233</td>\n",
              "    </tr>\n",
              "    <tr>\n",
              "      <th>3557</th>\n",
              "      <td>APOPTOSIS</td>\n",
              "      <td>CASP3</td>\n",
              "      <td>APOPTOSIS</td>\n",
              "      <td>CASP3--&gt;APOPTOSIS</td>\n",
              "      <td>SIGNOR-89244</td>\n",
              "      <td>0.300</td>\n",
              "      <td>1</td>\n",
              "      <td>1</td>\n",
              "      <td>up-regulates</td>\n",
              "      <td>75493</td>\n",
              "      <td>1.737625</td>\n",
              "      <td>0.526944</td>\n",
              "      <td>-2.728233</td>\n",
              "    </tr>\n",
              "    <tr>\n",
              "      <th>3312</th>\n",
              "      <td>APOPTOSIS</td>\n",
              "      <td>EGFR</td>\n",
              "      <td>APOPTOSIS</td>\n",
              "      <td>EGFR--&gt;STAT5A--|APOPTOSIS</td>\n",
              "      <td>SIGNOR-146852;SIGNOR-256583</td>\n",
              "      <td>0.480</td>\n",
              "      <td>2</td>\n",
              "      <td>-1</td>\n",
              "      <td>down-regulates</td>\n",
              "      <td>75493</td>\n",
              "      <td>1.737625</td>\n",
              "      <td>0.526944</td>\n",
              "      <td>-2.386641</td>\n",
              "    </tr>\n",
              "    <tr>\n",
              "      <th>3539</th>\n",
              "      <td>APOPTOSIS</td>\n",
              "      <td>KRAS</td>\n",
              "      <td>APOPTOSIS</td>\n",
              "      <td>KRAS--&gt;PIK3CA--&gt;AKT--|APOPTOSIS</td>\n",
              "      <td>SIGNOR-175204;SIGNOR-244429;SIGNOR-260215</td>\n",
              "      <td>0.600</td>\n",
              "      <td>3</td>\n",
              "      <td>-1</td>\n",
              "      <td>down-regulates</td>\n",
              "      <td>75493</td>\n",
              "      <td>1.737625</td>\n",
              "      <td>0.526944</td>\n",
              "      <td>-2.158912</td>\n",
              "    </tr>\n",
              "    <tr>\n",
              "      <th>3531</th>\n",
              "      <td>APOPTOSIS</td>\n",
              "      <td>PI3K</td>\n",
              "      <td>APOPTOSIS</td>\n",
              "      <td>PI3K--&gt;AKT--|APOPTOSIS</td>\n",
              "      <td>SIGNOR-254950;SIGNOR-260215</td>\n",
              "      <td>0.531</td>\n",
              "      <td>2</td>\n",
              "      <td>-1</td>\n",
              "      <td>down-regulates</td>\n",
              "      <td>75493</td>\n",
              "      <td>1.737625</td>\n",
              "      <td>0.526944</td>\n",
              "      <td>-2.289856</td>\n",
              "    </tr>\n",
              "    <tr>\n",
              "      <th>3322</th>\n",
              "      <td>APOPTOSIS</td>\n",
              "      <td>PTEN</td>\n",
              "      <td>APOPTOSIS</td>\n",
              "      <td>PTEN--|PIP3--&gt;AKT--|APOPTOSIS</td>\n",
              "      <td>SIGNOR-228145;SIGNOR-236490;SIGNOR-260215</td>\n",
              "      <td>0.700</td>\n",
              "      <td>3</td>\n",
              "      <td>1</td>\n",
              "      <td>up-regulates</td>\n",
              "      <td>75493</td>\n",
              "      <td>1.737625</td>\n",
              "      <td>0.526944</td>\n",
              "      <td>-1.969139</td>\n",
              "    </tr>\n",
              "    <tr>\n",
              "      <th>2894</th>\n",
              "      <td>APOPTOSIS</td>\n",
              "      <td>TP53</td>\n",
              "      <td>APOPTOSIS</td>\n",
              "      <td>TP53--&gt;APOPTOSIS</td>\n",
              "      <td>SIGNOR-255678</td>\n",
              "      <td>0.300</td>\n",
              "      <td>1</td>\n",
              "      <td>1</td>\n",
              "      <td>up-regulates</td>\n",
              "      <td>75493</td>\n",
              "      <td>1.737625</td>\n",
              "      <td>0.526944</td>\n",
              "      <td>-2.728233</td>\n",
              "    </tr>\n",
              "  </tbody>\n",
              "</table>\n",
              "</div>"
            ],
            "text/plain": [
              "     EndPathways QueryNode    EndNode                      Path_String  \\\n",
              "2913   APOPTOSIS      BCL2  APOPTOSIS                 BCL2--|APOPTOSIS   \n",
              "3557   APOPTOSIS     CASP3  APOPTOSIS                CASP3-->APOPTOSIS   \n",
              "3312   APOPTOSIS      EGFR  APOPTOSIS        EGFR-->STAT5A--|APOPTOSIS   \n",
              "3539   APOPTOSIS      KRAS  APOPTOSIS  KRAS-->PIK3CA-->AKT--|APOPTOSIS   \n",
              "3531   APOPTOSIS      PI3K  APOPTOSIS           PI3K-->AKT--|APOPTOSIS   \n",
              "3322   APOPTOSIS      PTEN  APOPTOSIS    PTEN--|PIP3-->AKT--|APOPTOSIS   \n",
              "2894   APOPTOSIS      TP53  APOPTOSIS                 TP53-->APOPTOSIS   \n",
              "\n",
              "                                 relations_path  Path_Score  Path_Length  \\\n",
              "2913                              SIGNOR-249611       0.300            1   \n",
              "3557                               SIGNOR-89244       0.300            1   \n",
              "3312                SIGNOR-146852;SIGNOR-256583       0.480            2   \n",
              "3539  SIGNOR-175204;SIGNOR-244429;SIGNOR-260215       0.600            3   \n",
              "3531                SIGNOR-254950;SIGNOR-260215       0.531            2   \n",
              "3322  SIGNOR-228145;SIGNOR-236490;SIGNOR-260215       0.700            3   \n",
              "2894                              SIGNOR-255678       0.300            1   \n",
              "\n",
              "      Final_Effect          Effect      n      mean        sd    zscore  \n",
              "2913            -1  down-regulates  75493  1.737625  0.526944 -2.728233  \n",
              "3557             1    up-regulates  75493  1.737625  0.526944 -2.728233  \n",
              "3312            -1  down-regulates  75493  1.737625  0.526944 -2.386641  \n",
              "3539            -1  down-regulates  75493  1.737625  0.526944 -2.158912  \n",
              "3531            -1  down-regulates  75493  1.737625  0.526944 -2.289856  \n",
              "3322             1    up-regulates  75493  1.737625  0.526944 -1.969139  \n",
              "2894             1    up-regulates  75493  1.737625  0.526944 -2.728233  "
            ]
          },
          "execution_count": 4,
          "metadata": {},
          "output_type": "execute_result"
        }
      ],
      "source": [
        "# Get detailed ProxPath information\n",
        "pheno_df = BNMPy.proxpath(\n",
        "    genes=['TP53', 'MYC', 'BCL2','CASP3','PI3K','PTEN','KRAS','EGFR'],\n",
        "    phenotypes=['APOPTOSIS']\n",
        ")\n",
        "# this displays the shortest path from the gene to the phenotype\n",
        "pheno_df"
      ]
    },
    {
      "cell_type": "markdown",
      "metadata": {},
      "source": [
        "## Boolean network example\n",
        "\n",
        "Compute steady state of BN and calculate phenotype scores."
      ]
    },
    {
      "cell_type": "code",
      "execution_count": 8,
      "metadata": {},
      "outputs": [
        {
          "name": "stdout",
          "output_type": "stream",
          "text": [
            "No initial state provided, using a random initial state\n",
            "Network loaded successfully. There are 47 genes in the network.\n",
            "network genes: dict_keys(['AKT1', 'APAF1', 'APC', 'AktM', 'AktP', 'BAD', 'BCL2L1', 'BID', 'BIRC2', 'CASP12', 'CASP3', 'CASP6', 'CASP7', 'CASP8', 'CASP9', 'CFLAR', 'EGF', 'EGFR', 'FADD', 'IKBKB', 'JAK1', 'KRAS', 'MAP2K1', 'MAP2K4', 'MAP3K1', 'MAP3K14', 'MAPK1', 'MAPK8', 'MDM2', 'Mito', 'NFKB1', 'NFKBIA', 'PDPK1', 'PIK3CA', 'PIP3', 'PTEN', 'RAF1', 'RIPK1', 'RPS6KA1', 'SOS1', 'STAT3', 'TNF', 'TNFAIP3', 'TNFRSF1A', 'TP53', 'TRADD', 'TRAF2'])\n"
          ]
        }
      ],
      "source": [
        "# load the network from a file\n",
        "\n",
        "file = '../input_files/Eduati2020.txt'\n",
        "bn = BNMPy.load_network(file)\n",
        "print(f\"network genes: {bn.nodeDict.keys()}\")"
      ]
    },
    {
      "cell_type": "code",
      "execution_count": 9,
      "metadata": {},
      "outputs": [
        {
          "name": "stdout",
          "output_type": "stream",
          "text": [
            "Found 0 fixed points and 2 cyclic attractors\n",
            "--------------------------------\n",
            "No fixed points found\n",
            "--------------------------------\n",
            "Cyclic attractors: \n",
            "Cyclic attractor 1: [[1, 1, 1, 0, 0, 1, 1, 1, 0, 1, 1, 1, 1, 1, 1, 0, 1, 1, 1, 1, 1, 1, 1, 1, 1, 1, 1, 1, 1, 1, 1, 1, 0, 1, 1, 1, 1, 0, 1, 1, 1, 0, 1, 1, 1, 1, 1], [1, 1, 1, 0, 0, 1, 1, 1, 1, 1, 1, 1, 1, 1, 1, 1, 1, 1, 0, 1, 1, 1, 1, 1, 1, 0, 1, 1, 1, 1, 0, 0, 0, 1, 1, 1, 1, 1, 1, 1, 1, 0, 0, 0, 1, 0, 0]]\n",
            "Cyclic attractor 2: [[0, 1, 1, 0, 0, 1, 1, 1, 0, 1, 1, 1, 1, 1, 1, 0, 1, 1, 1, 1, 1, 1, 1, 1, 1, 1, 1, 1, 1, 1, 1, 1, 0, 1, 1, 1, 1, 0, 1, 1, 1, 0, 1, 1, 1, 1, 1], [0, 1, 1, 0, 0, 1, 1, 1, 1, 1, 1, 1, 1, 1, 1, 1, 1, 1, 0, 0, 1, 1, 1, 1, 1, 0, 1, 1, 1, 1, 0, 1, 0, 1, 1, 1, 1, 1, 1, 1, 1, 0, 0, 0, 1, 0, 0]]\n",
            "--------------------------------\n",
            "Node order: dict_keys(['AKT1', 'APAF1', 'APC', 'AktM', 'AktP', 'BAD', 'BCL2L1', 'BID', 'BIRC2', 'CASP12', 'CASP3', 'CASP6', 'CASP7', 'CASP8', 'CASP9', 'CFLAR', 'EGF', 'EGFR', 'FADD', 'IKBKB', 'JAK1', 'KRAS', 'MAP2K1', 'MAP2K4', 'MAP3K1', 'MAP3K14', 'MAPK1', 'MAPK8', 'MDM2', 'Mito', 'NFKB1', 'NFKBIA', 'PDPK1', 'PIK3CA', 'PIP3', 'PTEN', 'RAF1', 'RIPK1', 'RPS6KA1', 'SOS1', 'STAT3', 'TNF', 'TNFAIP3', 'TNFRSF1A', 'TP53', 'TRADD', 'TRAF2'])\n"
          ]
        }
      ],
      "source": [
        "# compute the steady state of the network\n",
        "calc = BNMPy.SteadyStateCalculator(bn)\n",
        "\n",
        "# Set experimental conditions (e.g., activate EGF, inhibit AKT1)\n",
        "calc.set_experimental_conditions(\n",
        "    stimuli=['EGF'],\n",
        "    inhibitors=['AKT1']\n",
        ")\n",
        "\n",
        "# steady state, add seed for reproducibility\n",
        "steady_state = calc.compute_steady_state(n_runs=10,n_steps=20000,seed=99)"
      ]
    },
    {
      "cell_type": "code",
      "execution_count": 10,
      "metadata": {},
      "outputs": [
        {
          "name": "stdout",
          "output_type": "stream",
          "text": [
            "AKT1 has dual effects on PROLIFERATION\n",
            "EGF has dual effects on PROLIFERATION\n",
            "IKBKB has dual effects on APOPTOSIS\n",
            "IKBKB has dual effects on PROLIFERATION\n",
            "MAP2K4 has dual effects on APOPTOSIS\n",
            "MAPK1 has dual effects on DIFFERENTIATION\n",
            "MAPK8 has dual effects on APOPTOSIS\n",
            "MAPK8 has dual effects on PROLIFERATION\n",
            "NFKBIA has dual effects on APOPTOSIS\n",
            "NFKBIA has dual effects on PROLIFERATION\n",
            "PDPK1 has dual effects on APOPTOSIS\n",
            "PDPK1 has dual effects on PROLIFERATION\n",
            "STAT3 has dual effects on PROLIFERATION\n",
            "Path found for 3 phenotypes: ['APOPTOSIS' 'DIFFERENTIATION' 'PROLIFERATION']\n",
            "                 APOPTOSIS  DIFFERENTIATION  PROLIFERATION\n",
            "Cycle_1_State_1        0.0              1.0            6.0\n",
            "Cycle_1_State_2       -1.0              1.0            7.0\n",
            "Cycle_2_State_1        1.0              0.0            5.0\n",
            "Cycle_2_State_2        0.0              0.0            6.0\n"
          ]
        }
      ],
      "source": [
        "# Calculate phenotype scores from BN steady state dictionary\n",
        "# Each attractor gets its own row in the output DataFrame\n",
        "\n",
        "phenotype_scores_bn = BNMPy.phenotype_score.phenotype_scores(\n",
        "    phenotypes=['APOPTOSIS', 'PROLIFERATION','DIFFERENTIATION'],\n",
        "    simulation_results=steady_state,\n",
        "    network=bn\n",
        ")\n",
        "\n",
        "print(phenotype_scores_bn)"
      ]
    },
    {
      "cell_type": "markdown",
      "metadata": {},
      "source": [
        "## PBN steady state\n",
        "\n",
        "For probabilistic networks, steady state returns a numpy array with probabilities.\n",
        "Since PBN steady states are averaged frequencies over multiple runs, this returns a single state row."
      ]
    },
    {
      "cell_type": "code",
      "execution_count": 11,
      "metadata": {},
      "outputs": [
        {
          "name": "stdout",
          "output_type": "stream",
          "text": [
            "No initial state provided, using a random initial state\n",
            "PBN loaded successfully. There are 47 genes in the network.\n"
          ]
        },
        {
          "data": {
            "text/plain": [
              "array([0.        , 0.56981937, 0.58508298, 0.51576351, 0.48536959,\n",
              "       0.71972272, 0.84676398, 0.84189829, 0.81730321, 0.89695394,\n",
              "       0.94894354, 0.95434246, 0.97220556, 0.97213891, 0.98493635,\n",
              "       0.86969273, 0.86962607, 0.9340132 , 0.74838366, 0.86082783,\n",
              "       0.89755382, 0.8671599 , 0.90868493, 0.94181164, 0.93521296,\n",
              "       0.55615544, 0.72825435, 0.83389989, 0.85309605, 0.86062787,\n",
              "       0.75838166, 0.7773112 , 0.77724455, 0.49723389, 0.57695128,\n",
              "       0.69206159, 0.78211024, 0.72425515, 0.72698794, 0.83776578,\n",
              "       0.86675998, 0.86682663, 0.38279011, 0.67166567, 0.81190429,\n",
              "       0.74091848, 0.70685863])"
            ]
          },
          "execution_count": 11,
          "metadata": {},
          "output_type": "execute_result"
        }
      ],
      "source": [
        "# convert the BN to a PBN\n",
        "pbn_string,_ = BNMPy.BN2PBN(bn, prob=0.5)\n",
        "pbn = BNMPy.load_network(pbn_string)\n",
        "\n",
        "# Create steady state calculator for PBN\n",
        "calc = BNMPy.SteadyStateCalculator(pbn)\n",
        "\n",
        "# Set the same experimental conditions\n",
        "calc.set_experimental_conditions(\n",
        "    stimuli=['EGF'],\n",
        "    inhibitors=['AKT1']\n",
        ")\n",
        "\n",
        "# Compute steady state using Monte Carlo (returns numpy array)\n",
        "steady_state = calc.compute_stationary_mc(\n",
        "    n_runs=3, \n",
        "    n_steps=10000, \n",
        "    seed=99\n",
        ")\n",
        "steady_state"
      ]
    },
    {
      "cell_type": "code",
      "execution_count": 12,
      "metadata": {},
      "outputs": [
        {
          "name": "stdout",
          "output_type": "stream",
          "text": [
            "AKT1 has dual effects on PROLIFERATION\n",
            "EGF has dual effects on PROLIFERATION\n",
            "IKBKB has dual effects on APOPTOSIS\n",
            "IKBKB has dual effects on PROLIFERATION\n",
            "MAP2K4 has dual effects on APOPTOSIS\n",
            "MAPK8 has dual effects on APOPTOSIS\n",
            "MAPK8 has dual effects on PROLIFERATION\n",
            "NFKBIA has dual effects on APOPTOSIS\n",
            "NFKBIA has dual effects on PROLIFERATION\n",
            "PDPK1 has dual effects on APOPTOSIS\n",
            "PDPK1 has dual effects on PROLIFERATION\n",
            "STAT3 has dual effects on PROLIFERATION\n",
            "Path found for 2 phenotypes: ['APOPTOSIS' 'PROLIFERATION']\n"
          ]
        },
        {
          "data": {
            "text/html": [
              "<div>\n",
              "<style scoped>\n",
              "    .dataframe tbody tr th:only-of-type {\n",
              "        vertical-align: middle;\n",
              "    }\n",
              "\n",
              "    .dataframe tbody tr th {\n",
              "        vertical-align: top;\n",
              "    }\n",
              "\n",
              "    .dataframe thead th {\n",
              "        text-align: right;\n",
              "    }\n",
              "</style>\n",
              "<table border=\"1\" class=\"dataframe\">\n",
              "  <thead>\n",
              "    <tr style=\"text-align: right;\">\n",
              "      <th></th>\n",
              "      <th>APOPTOSIS</th>\n",
              "      <th>PROLIFERATION</th>\n",
              "    </tr>\n",
              "  </thead>\n",
              "  <tbody>\n",
              "    <tr>\n",
              "      <th>State_1</th>\n",
              "      <td>0.381057</td>\n",
              "      <td>5.313671</td>\n",
              "    </tr>\n",
              "  </tbody>\n",
              "</table>\n",
              "</div>"
            ],
            "text/plain": [
              "         APOPTOSIS  PROLIFERATION\n",
              "State_1   0.381057       5.313671"
            ]
          },
          "execution_count": 12,
          "metadata": {},
          "output_type": "execute_result"
        }
      ],
      "source": [
        "# Calculate phenotype scores from numpy array\n",
        "phenotype_scores_pbn = BNMPy.phenotype_scores(\n",
        "    phenotypes=['APOPTOSIS', 'PROLIFERATION'],\n",
        "    simulation_results=steady_state,\n",
        "    network=pbn\n",
        ")\n",
        "\n",
        "phenotype_scores_pbn"
      ]
    },
    {
      "cell_type": "markdown",
      "metadata": {},
      "source": [
        "## Multiple states from 2D Numpy array\n",
        "\n",
        "You can also pass multiple states at once using a 2D numpy array (rows = states, columns = genes)."
      ]
    },
    {
      "cell_type": "code",
      "execution_count": 13,
      "metadata": {},
      "outputs": [
        {
          "name": "stdout",
          "output_type": "stream",
          "text": [
            "EGFR has dual effects on PROLIFERATION\n",
            "Path found for 2 phenotypes: ['APOPTOSIS' 'PROLIFERATION']\n"
          ]
        },
        {
          "data": {
            "text/html": [
              "<div>\n",
              "<style scoped>\n",
              "    .dataframe tbody tr th:only-of-type {\n",
              "        vertical-align: middle;\n",
              "    }\n",
              "\n",
              "    .dataframe tbody tr th {\n",
              "        vertical-align: top;\n",
              "    }\n",
              "\n",
              "    .dataframe thead th {\n",
              "        text-align: right;\n",
              "    }\n",
              "</style>\n",
              "<table border=\"1\" class=\"dataframe\">\n",
              "  <thead>\n",
              "    <tr style=\"text-align: right;\">\n",
              "      <th></th>\n",
              "      <th>APOPTOSIS</th>\n",
              "      <th>PROLIFERATION</th>\n",
              "    </tr>\n",
              "  </thead>\n",
              "  <tbody>\n",
              "    <tr>\n",
              "      <th>State_1</th>\n",
              "      <td>2.0</td>\n",
              "      <td>-2.0</td>\n",
              "    </tr>\n",
              "    <tr>\n",
              "      <th>State_2</th>\n",
              "      <td>0.0</td>\n",
              "      <td>0.0</td>\n",
              "    </tr>\n",
              "    <tr>\n",
              "      <th>State_3</th>\n",
              "      <td>-2.0</td>\n",
              "      <td>2.0</td>\n",
              "    </tr>\n",
              "  </tbody>\n",
              "</table>\n",
              "</div>"
            ],
            "text/plain": [
              "         APOPTOSIS  PROLIFERATION\n",
              "State_1        2.0           -2.0\n",
              "State_2        0.0            0.0\n",
              "State_3       -2.0            2.0"
            ]
          },
          "execution_count": 13,
          "metadata": {},
          "output_type": "execute_result"
        }
      ],
      "source": [
        "# Create multiple states (e.g., from different time points or conditions)\n",
        "# Rows represent different states, columns represent genes\n",
        "multiple_states = np.array([\n",
        "    [1, 0, 0, 1, 0, 0],  # State 1\n",
        "    [1, 0, 0, 0, 1, 0],  # State 2\n",
        "    [0, 1, 1, 0, 0, 1],  # State 3\n",
        "])\n",
        "gene_names = ['TP53','MYC','BCL2','CASP3','KRAS','EGFR']\n",
        "\n",
        "# Calculate phenotype scores for all states at once\n",
        "phenotype_scores_multi = BNMPy.phenotype_scores(\n",
        "    genes=gene_names,\n",
        "    phenotypes=['APOPTOSIS', 'PROLIFERATION'],\n",
        "    simulation_results=multiple_states\n",
        ")\n",
        "phenotype_scores_multi"
      ]
    }
  ],
  "metadata": {
    "kernelspec": {
      "display_name": "logicmodelmerger",
      "language": "python",
      "name": "python3"
    },
    "language_info": {
      "codemirror_mode": {
        "name": "ipython",
        "version": 3
      },
      "file_extension": ".py",
      "mimetype": "text/x-python",
      "name": "python",
      "nbconvert_exporter": "python",
      "pygments_lexer": "ipython3",
      "version": "3.13.1"
    }
  },
  "nbformat": 4,
  "nbformat_minor": 2
}
