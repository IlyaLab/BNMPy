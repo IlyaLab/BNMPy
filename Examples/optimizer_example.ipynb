{
 "cells": [
  {
   "cell_type": "markdown",
   "metadata": {},
   "source": [
    "# PBN optimizer example\n",
    "This is an example of the probabilistic Boolean network parameter optimization functionality in BNMPy."
   ]
  },
  {
   "cell_type": "code",
   "execution_count": 10,
   "metadata": {},
   "outputs": [],
   "source": [
    "import sys\n",
    "import pandas as pd\n",
    "# import booleanNetwork module from ./src\n",
    "sys.path.append('../src')\n",
    "from BNMPy import PBN, BMatrix\n",
    "from BNMPy.steady_state import SteadyStateCalculator\n",
    "from Optimizer.experiment_data import ExperimentData"
   ]
  },
  {
   "cell_type": "markdown",
   "metadata": {},
   "source": [
    "# Read experimental data\n",
    "\n",
    "The example input data is from Trairatphisan et al. 2014:\n",
    "<img src=../data/Trairatphisan2014_case3.png width=\"400\" height=\"300\" />"
   ]
  },
  {
   "cell_type": "code",
   "execution_count": null,
   "metadata": {},
   "outputs": [
    {
     "data": {
      "text/html": [
       "<div>\n",
       "<style scoped>\n",
       "    .dataframe tbody tr th:only-of-type {\n",
       "        vertical-align: middle;\n",
       "    }\n",
       "\n",
       "    .dataframe tbody tr th {\n",
       "        vertical-align: top;\n",
       "    }\n",
       "\n",
       "    .dataframe thead th {\n",
       "        text-align: right;\n",
       "    }\n",
       "</style>\n",
       "<table border=\"1\" class=\"dataframe\">\n",
       "  <thead>\n",
       "    <tr style=\"text-align: right;\">\n",
       "      <th></th>\n",
       "      <th>Experiments</th>\n",
       "      <th>Stimuli</th>\n",
       "      <th>Inhibitors</th>\n",
       "      <th>Measured_nodes</th>\n",
       "      <th>Measured_values</th>\n",
       "    </tr>\n",
       "  </thead>\n",
       "  <tbody>\n",
       "    <tr>\n",
       "      <th>0</th>\n",
       "      <td>1</td>\n",
       "      <td>TGFa</td>\n",
       "      <td>TNFa</td>\n",
       "      <td>NFkB,ERK,C8,Akt</td>\n",
       "      <td>0.7,0.88,0,1</td>\n",
       "    </tr>\n",
       "    <tr>\n",
       "      <th>1</th>\n",
       "      <td>2</td>\n",
       "      <td>TNFa</td>\n",
       "      <td>TGFa</td>\n",
       "      <td>NFkB,ERK,C8,Akt</td>\n",
       "      <td>0.3,0.12,1,0</td>\n",
       "    </tr>\n",
       "    <tr>\n",
       "      <th>2</th>\n",
       "      <td>3</td>\n",
       "      <td>TGFa,TNFa</td>\n",
       "      <td>NaN</td>\n",
       "      <td>NFkB,ERK,C8,Akt</td>\n",
       "      <td>1,1,1,1</td>\n",
       "    </tr>\n",
       "    <tr>\n",
       "      <th>3</th>\n",
       "      <td>4</td>\n",
       "      <td>TGFa,TNFa</td>\n",
       "      <td>PI3K</td>\n",
       "      <td>NFkB,ERK,C8,Akt</td>\n",
       "      <td>0.51,0.804,1,0.3</td>\n",
       "    </tr>\n",
       "    <tr>\n",
       "      <th>4</th>\n",
       "      <td>5</td>\n",
       "      <td>TGFa,TNFa</td>\n",
       "      <td>Raf</td>\n",
       "      <td>NFkB,ERK,C8,Akt</td>\n",
       "      <td>1,0.52,1,1</td>\n",
       "    </tr>\n",
       "  </tbody>\n",
       "</table>\n",
       "</div>"
      ],
      "text/plain": [
       "   Experiments    Stimuli Inhibitors   Measured_nodes   Measured_values\n",
       "0            1       TGFa       TNFa  NFkB,ERK,C8,Akt      0.7,0.88,0,1\n",
       "1            2       TNFa       TGFa  NFkB,ERK,C8,Akt      0.3,0.12,1,0\n",
       "2            3  TGFa,TNFa        NaN  NFkB,ERK,C8,Akt           1,1,1,1\n",
       "3            4  TGFa,TNFa       PI3K  NFkB,ERK,C8,Akt  0.51,0.804,1,0.3\n",
       "4            5  TGFa,TNFa        Raf  NFkB,ERK,C8,Akt        1,0.52,1,1"
      ]
     },
     "execution_count": 7,
     "metadata": {},
     "output_type": "execute_result"
    }
   ],
   "source": [
    "# show the input csv format\n",
    "data = pd.read_csv('../data/Trairatphisan2014_case3.csv')\n",
    "data.head()"
   ]
  },
  {
   "cell_type": "code",
   "execution_count": 11,
   "metadata": {},
   "outputs": [
    {
     "data": {
      "text/plain": [
       "[{'id': 1,\n",
       "  'stimuli': ['TGFa'],\n",
       "  'inhibitors': ['TNFa'],\n",
       "  'measured_nodes': ['NFkB', 'ERK', 'C8', 'Akt'],\n",
       "  'measured_values': [0.7, 0.88, 0.0, 1.0],\n",
       "  'measurements': {'NFkB': 0.7, 'ERK': 0.88, 'C8': 0.0, 'Akt': 1.0}},\n",
       " {'id': 2,\n",
       "  'stimuli': ['TNFa'],\n",
       "  'inhibitors': ['TGFa'],\n",
       "  'measured_nodes': ['NFkB', 'ERK', 'C8', 'Akt'],\n",
       "  'measured_values': [0.3, 0.12, 1.0, 0.0],\n",
       "  'measurements': {'NFkB': 0.3, 'ERK': 0.12, 'C8': 1.0, 'Akt': 0.0}},\n",
       " {'id': 3,\n",
       "  'stimuli': ['TGFa', 'TNFa'],\n",
       "  'inhibitors': [],\n",
       "  'measured_nodes': ['NFkB', 'ERK', 'C8', 'Akt'],\n",
       "  'measured_values': [1.0, 1.0, 1.0, 1.0],\n",
       "  'measurements': {'NFkB': 1.0, 'ERK': 1.0, 'C8': 1.0, 'Akt': 1.0}},\n",
       " {'id': 4,\n",
       "  'stimuli': ['TGFa', 'TNFa'],\n",
       "  'inhibitors': ['PI3K'],\n",
       "  'measured_nodes': ['NFkB', 'ERK', 'C8', 'Akt'],\n",
       "  'measured_values': [0.51, 0.804, 1.0, 0.3],\n",
       "  'measurements': {'NFkB': 0.51, 'ERK': 0.804, 'C8': 1.0, 'Akt': 0.3}},\n",
       " {'id': 5,\n",
       "  'stimuli': ['TGFa', 'TNFa'],\n",
       "  'inhibitors': ['Raf'],\n",
       "  'measured_nodes': ['NFkB', 'ERK', 'C8', 'Akt'],\n",
       "  'measured_values': [1.0, 0.52, 1.0, 1.0],\n",
       "  'measurements': {'NFkB': 1.0, 'ERK': 0.52, 'C8': 1.0, 'Akt': 1.0}},\n",
       " {'id': 6,\n",
       "  'stimuli': ['TGFa', 'TNFa'],\n",
       "  'inhibitors': ['PI3K', 'Raf'],\n",
       "  'measured_nodes': ['NFkB', 'ERK', 'C8', 'Akt'],\n",
       "  'measured_values': [0.51, 0.324, 1.0, 0.3],\n",
       "  'measurements': {'NFkB': 0.51, 'ERK': 0.324, 'C8': 1.0, 'Akt': 0.3}}]"
      ]
     },
     "execution_count": 11,
     "metadata": {},
     "output_type": "execute_result"
    }
   ],
   "source": [
    "# load the experiment data\n",
    "experiments = ExperimentData.load_from_csv('../data/Trairatphisan2014_case3.csv')\n",
    "experiments"
   ]
  },
  {
   "cell_type": "code",
   "execution_count": 12,
   "metadata": {},
   "outputs": [
    {
     "data": {
      "text/plain": [
       "{'num_experiments': 6,\n",
       " 'unique_stimuli': ['TNFa', 'TGFa'],\n",
       " 'unique_inhibitors': ['TNFa', 'PI3K', 'Raf', 'TGFa'],\n",
       " 'unique_measured_nodes': ['ERK', 'NFkB', 'C8', 'Akt'],\n",
       " 'value_ranges': {'NFkB': {'min': 0.3, 'max': 1.0},\n",
       "  'ERK': {'min': 0.12, 'max': 1.0},\n",
       "  'C8': {'min': 0.0, 'max': 1.0},\n",
       "  'Akt': {'min': 0.0, 'max': 1.0}}}"
      ]
     },
     "execution_count": 12,
     "metadata": {},
     "output_type": "execute_result"
    }
   ],
   "source": [
    "# get the experiment summary\n",
    "ExperimentData.get_experiment_summary(experiments)"
   ]
  },
  {
   "cell_type": "code",
   "execution_count": 21,
   "metadata": {},
   "outputs": [
    {
     "name": "stdout",
     "output_type": "stream",
     "text": [
      "No initial state provided, using a random initial state\n"
     ]
    },
    {
     "data": {
      "text/plain": [
       "{'TGFa': 0,\n",
       " 'TNFa': 1,\n",
       " 'Raf': 2,\n",
       " 'PI3K': 3,\n",
       " 'Akt': 4,\n",
       " 'C8': 5,\n",
       " 'NFkB': 6,\n",
       " 'ERK': 7}"
      ]
     },
     "execution_count": 21,
     "metadata": {},
     "output_type": "execute_result"
    }
   ],
   "source": [
    "# load the network to be optimized\n",
    "pbn = BMatrix.load_pbn_from_file('../input_files/Trairatphisan2014_case3.txt')\n",
    "pbn.nodeDict"
   ]
  },
  {
   "cell_type": "code",
   "execution_count": 22,
   "metadata": {},
   "outputs": [
    {
     "data": {
      "text/plain": [
       "True"
      ]
     },
     "execution_count": 22,
     "metadata": {},
     "output_type": "execute_result"
    }
   ],
   "source": [
    "# validate the data (check if all the nodes are in the PBN and the values are between 0 and 1)\n",
    "ExperimentData.validate_experiments(experiments, pbn.nodeDict)"
   ]
  }
 ],
 "metadata": {
  "kernelspec": {
   "display_name": "logicmodelmerger",
   "language": "python",
   "name": "python3"
  },
  "language_info": {
   "codemirror_mode": {
    "name": "ipython",
    "version": 3
   },
   "file_extension": ".py",
   "mimetype": "text/x-python",
   "name": "python",
   "nbconvert_exporter": "python",
   "pygments_lexer": "ipython3",
   "version": "3.13.1"
  }
 },
 "nbformat": 4,
 "nbformat_minor": 2
}
