{
 "cells": [
  {
   "cell_type": "markdown",
   "metadata": {},
   "source": [
    "# SteadyStateCalculator\n",
    "\n",
    "Steady-state calculation capabilities for both Boolean Networks and Probabilistic Boolean Networks in BNMPy.  \n",
    "Refer to the `pbnStationary_TS.m` function in the `optPBN` MATLAB package."
   ]
  },
  {
   "cell_type": "code",
   "execution_count": 8,
   "metadata": {},
   "outputs": [],
   "source": [
    "import numpy as np\n",
    "from BNMPy.steady_state import SteadyStateCalculator\n",
    "from BNMPy import PBN, BMatrix"
   ]
  },
  {
   "cell_type": "code",
   "execution_count": 11,
   "metadata": {},
   "outputs": [],
   "source": [
    "network_string = \"\"\"\n",
    "N1 = N1, 1\n",
    "N2 = N2, 1\n",
    "N3 = N1, 0.6\n",
    "N3 = N1 & !N2, 0.4\n",
    "\"\"\"\n",
    "x0  =  np.array( [1, 1, 0] )  # initial state\n",
    "network = BMatrix.load_pbn_from_string(network_string, initial_state = x0)"
   ]
  },
  {
   "cell_type": "markdown",
   "metadata": {},
   "source": [
    "## Monte Carlo Method\n",
    "\n",
    "1. Performs several independent simulations from initial conditions\n",
    "2. Update with noise for dynamics\n",
    "3. Takes the mean across all runs and the second half of each trajectory\n",
    "\n",
    "**Parameters**:\n",
    "\n",
    "- `n_runs` (int, default=10): Number of independent simulation runs\n",
    "- `n_steps` (int, default=1000): Number of simulation steps per run\n",
    "- `p_noise` (float, default=0): Noise probability for `update_noise()`"
   ]
  },
  {
   "cell_type": "code",
   "execution_count": 13,
   "metadata": {},
   "outputs": [
    {
     "data": {
      "text/plain": [
       "array([1.        , 1.        , 0.59969503])"
      ]
     },
     "execution_count": 13,
     "metadata": {},
     "output_type": "execute_result"
    }
   ],
   "source": [
    "calc = SteadyStateCalculator(network)\n",
    "steady_state = calc.compute_steady_state(method='monte_carlo',n_runs=20,n_steps=20000,p_noise=0)\n",
    "steady_state"
   ]
  },
  {
   "cell_type": "markdown",
   "metadata": {},
   "source": [
    "When there is no noise, the steady state will start with the predefined initial state and be trapped in it.   \n",
    "Therefore we get 1s for N1 and N2, and 0.6 for N3 because there is 0.6 probability that N1 is 1."
   ]
  },
  {
   "cell_type": "code",
   "execution_count": 16,
   "metadata": {},
   "outputs": [
    {
     "data": {
      "text/plain": [
       "array([0.50064494, 0.5060144 , 0.40966403])"
      ]
     },
     "execution_count": 16,
     "metadata": {},
     "output_type": "execute_result"
    }
   ],
   "source": [
    "calc = SteadyStateCalculator(network)\n",
    "steady_state = calc.compute_steady_state(method='monte_carlo',n_runs=20,n_steps=20000,p_noise=0.05)\n",
    "steady_state"
   ]
  },
  {
   "cell_type": "markdown",
   "metadata": {},
   "source": [
    "When there is noise, the initial state is quickly forgotten because noise is independent of the state and drives both self-loops for N1 and N2 toward a uniform 0.5–0.5 equilibrium.  \n",
    "For N3, there are two possibilities:\n",
    "- f(N) = N1 (with p=0.6)         =>   expected value is 0.6*0.5=0.3\n",
    "- f(N) = N1 & !N2 (with p=0.4)   =>   expected value is 0.4\\*0.5\\*0.5=0.1\n",
    "  \n",
    "Therefore, the steady state for N3 is 0.3+0.1=0.4.\n"
   ]
  },
  {
   "cell_type": "markdown",
   "metadata": {},
   "source": [
    "## TSMC Method\n",
    "\n",
    "1. Runs multiple rounds of network simulation\n",
    "2. Uses transition probability analysis to determine required simulation length\n",
    "3. Calculates how many initial steps to discard (burn-in period)\n",
    "4. Ensures results meet specified statistical accuracy requirements\n",
    "5. In addition to the original function, `freeze_self_loop` ensure similar behavior to MC method\n",
    " - freeze_self_loop=False: MC with noise\n",
    " - freeze_self_loop=True: MC with no noise\n",
    "\n",
    "\n",
    "**Parameters**:\n",
    "\n",
    "- `epsilon` (float, default=0.001): Range of transition probability (smaller = more accurate)\n",
    "- `r` (float, default=0.025): Range of accuracy - most sensitive parameter (smaller = more accurate)\n",
    "- `s` (float, default=0.95): Probability of accuracy (closer to 1 = more confident)\n",
    "- `p_noise` (float, default=0): Noise probability for Monte Carlo method\n",
    "- `p_mir` (float, default=0.001): Perturbation probability (Miranda-Parga scheme)\n",
    "- `initial_nsteps` (int, default=1000): Initial number of simulation steps\n",
    "- `max_iterations` (int, default=100): Maximum convergence iterations\n",
    "- `freeze_self_loop` (bool, default=False): Freeze self-loop nodes (constant nodes)\n",
    "\n",
    "**Fix**:  \n",
    "\n",
    "In the original MATLAB code, pure identity rules such as A(t+1)=A(t) are treated as inputs and are therefore never perturbed; during Monte-Carlo estimation each iteration starts from a fresh random initial state, so the long-run mean of a self-loop naturally converges to 0.5. The TSMC approach, however, draws one random initial state and keeps it fixed for the entire trajectory. \n",
    "\n",
    "freeze_self_loops=False allows TSMC and Monte-Carlo converge to identical stationary distributions with similar perturbation probability."
   ]
  },
  {
   "cell_type": "code",
   "execution_count": 6,
   "metadata": {},
   "outputs": [
    {
     "data": {
      "text/plain": [
       "array([1.        , 1.        , 0.59946793])"
      ]
     },
     "execution_count": 6,
     "metadata": {},
     "output_type": "execute_result"
    }
   ],
   "source": [
    "calc = SteadyStateCalculator(network)\n",
    "steady_state = calc.compute_steady_state(method='tsmc',r=0.01,initial_nsteps=100,max_iterations=5000,freeze_self_loop=True)\n",
    "steady_state"
   ]
  },
  {
   "cell_type": "code",
   "execution_count": 5,
   "metadata": {},
   "outputs": [
    {
     "data": {
      "text/plain": [
       "array([0.49722676, 0.49558394, 0.40038888])"
      ]
     },
     "execution_count": 5,
     "metadata": {},
     "output_type": "execute_result"
    }
   ],
   "source": [
    "calc = SteadyStateCalculator(network)\n",
    "steady_state = calc.compute_steady_state(method='tsmc',r=0.01,p_mir=0.01,initial_nsteps=100,max_iterations=5000,freeze_self_loop=False)\n",
    "steady_state"
   ]
  },
  {
   "cell_type": "markdown",
   "metadata": {},
   "source": [
    "## Perturbations\n",
    "\n",
    "Apply experimental perturbations by fixing certain nodes to specific values.\n",
    "\n",
    "**Parameters**:\n",
    "\n",
    "- `stimuli` (list): Node names to fix at value 1\n",
    "- `inhibitors` (list): Node names to fix at value 0\n",
    "- `node_dict` (dict): Mapping from node names to indices (uses `network.nodeDict` if None)"
   ]
  },
  {
   "cell_type": "code",
   "execution_count": 3,
   "metadata": {},
   "outputs": [],
   "source": [
    "network_string = \"\"\"\n",
    "N1 = N1, 1\n",
    "N2 = N2, 1\n",
    "N3 = N1, 0.6\n",
    "N3 = N1 & !N2, 0.4\n",
    "\"\"\"\n",
    "x0  =  np.array( [1, 1, 0] )  # initial state\n",
    "network = BMatrix.load_pbn_from_string(network_string, initial_state = x0)\n",
    "calc = SteadyStateCalculator(network)"
   ]
  },
  {
   "cell_type": "code",
   "execution_count": 4,
   "metadata": {},
   "outputs": [
    {
     "data": {
      "text/plain": [
       "array([1., 0., 1.])"
      ]
     },
     "execution_count": 4,
     "metadata": {},
     "output_type": "execute_result"
    }
   ],
   "source": [
    "calc.set_experimental_conditions(stimuli=['N1'],inhibitors=['N2'])\n",
    "calc.compute_steady_state(method='monte_carlo',n_runs=20,n_steps=10000,p_noise=0)"
   ]
  },
  {
   "cell_type": "code",
   "execution_count": 5,
   "metadata": {},
   "outputs": [
    {
     "data": {
      "text/plain": [
       "array([1.        , 0.        , 0.95235953])"
      ]
     },
     "execution_count": 5,
     "metadata": {},
     "output_type": "execute_result"
    }
   ],
   "source": [
    "calc.compute_steady_state(method='monte_carlo',n_runs=20,n_steps=10000,p_noise=0.05)"
   ]
  },
  {
   "cell_type": "code",
   "execution_count": 7,
   "metadata": {},
   "outputs": [
    {
     "data": {
      "text/plain": [
       "array([1., 0., 1.])"
      ]
     },
     "execution_count": 7,
     "metadata": {},
     "output_type": "execute_result"
    }
   ],
   "source": [
    "calc.compute_steady_state(method='tsmc',r=0.01,initial_nsteps=100,max_iterations=5000)"
   ]
  }
 ],
 "metadata": {
  "kernelspec": {
   "display_name": "logicmodelmerger",
   "language": "python",
   "name": "python3"
  },
  "language_info": {
   "codemirror_mode": {
    "name": "ipython",
    "version": 3
   },
   "file_extension": ".py",
   "mimetype": "text/x-python",
   "name": "python",
   "nbconvert_exporter": "python",
   "pygments_lexer": "ipython3",
   "version": "3.13.1"
  }
 },
 "nbformat": 4,
 "nbformat_minor": 2
}
