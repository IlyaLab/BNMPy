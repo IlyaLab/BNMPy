{
 "cells": [
  {
   "cell_type": "markdown",
   "metadata": {},
   "source": [
    "# PBN optimizer example\n",
    "This is an example of the probabilistic Boolean network parameter optimization functionality in BNMPy."
   ]
  },
  {
   "cell_type": "code",
   "execution_count": 1,
   "metadata": {},
   "outputs": [],
   "source": [
    "import sys\n",
    "import time\n",
    "import pandas as pd\n",
    "import numpy as np\n",
    "# import booleanNetwork module from ./src\n",
    "sys.path.append('./src')\n",
    "from BNMPy import PBN, BMatrix\n",
    "from BNMPy.steady_state import SteadyStateCalculator\n",
    "from BNMPy.experiment_data import ExperimentData\n",
    "from BNMPy.parameter_optimizer import ParameterOptimizer"
   ]
  },
  {
   "cell_type": "code",
   "execution_count": 2,
   "metadata": {},
   "outputs": [
    {
     "name": "stdout",
     "output_type": "stream",
     "text": [
      "No initial state provided, using a random initial state\n"
     ]
    },
    {
     "data": {
      "text/plain": [
       "{'TGFa': 0,\n",
       " 'TNFa': 1,\n",
       " 'Raf': 2,\n",
       " 'PI3K': 3,\n",
       " 'Akt': 4,\n",
       " 'C8': 5,\n",
       " 'NFkB': 6,\n",
       " 'ERK': 7}"
      ]
     },
     "execution_count": 2,
     "metadata": {},
     "output_type": "execute_result"
    }
   ],
   "source": [
    "# load the network to be optimized\n",
    "# pbn = BMatrix.load_pbn_from_file('../input_files/Trairatphisan2014_case3.txt')\n",
    "string = \"\"\"\n",
    "TGFa = 1\n",
    "TNFa = 1\n",
    "Raf = TGFa, 1\n",
    "PI3K = TGFa, 1\n",
    "Akt = PI3K\n",
    "C8 = TNFa\n",
    "NFkB = PI3K, 0.5\n",
    "NFkB = TNFa, 0.5\n",
    "ERK = Raf, 0.5\n",
    "ERK = NFkB, 0.5\n",
    "\"\"\"\n",
    "pbn = BMatrix.load_pbn_from_string(string)\n",
    "pbn.nodeDict"
   ]
  },
  {
   "cell_type": "markdown",
   "metadata": {},
   "source": [
    "# Load network and experimental data\n",
    "\n",
    "The example input data is from Trairatphisan et al. 2014:\n",
    "<img src=./data/Trairatphisan2014_case3.png width=\"400\" height=\"300\" />"
   ]
  },
  {
   "cell_type": "code",
   "execution_count": 3,
   "metadata": {},
   "outputs": [
    {
     "data": {
      "text/html": [
       "<div>\n",
       "<style scoped>\n",
       "    .dataframe tbody tr th:only-of-type {\n",
       "        vertical-align: middle;\n",
       "    }\n",
       "\n",
       "    .dataframe tbody tr th {\n",
       "        vertical-align: top;\n",
       "    }\n",
       "\n",
       "    .dataframe thead th {\n",
       "        text-align: right;\n",
       "    }\n",
       "</style>\n",
       "<table border=\"1\" class=\"dataframe\">\n",
       "  <thead>\n",
       "    <tr style=\"text-align: right;\">\n",
       "      <th></th>\n",
       "      <th>Experiments</th>\n",
       "      <th>Stimuli</th>\n",
       "      <th>Stimuli_efficacy</th>\n",
       "      <th>Inhibitors</th>\n",
       "      <th>Inhibitors_efficacy</th>\n",
       "      <th>Measured_nodes</th>\n",
       "      <th>Measured_values</th>\n",
       "    </tr>\n",
       "  </thead>\n",
       "  <tbody>\n",
       "    <tr>\n",
       "      <th>0</th>\n",
       "      <td>1</td>\n",
       "      <td>TGFa</td>\n",
       "      <td>NaN</td>\n",
       "      <td>TNFa</td>\n",
       "      <td>NaN</td>\n",
       "      <td>NFkB,ERK,C8,Akt</td>\n",
       "      <td>0.7,0.88,0,1</td>\n",
       "    </tr>\n",
       "    <tr>\n",
       "      <th>1</th>\n",
       "      <td>2</td>\n",
       "      <td>TNFa</td>\n",
       "      <td>NaN</td>\n",
       "      <td>TGFa</td>\n",
       "      <td>NaN</td>\n",
       "      <td>NFkB,ERK,C8,Akt</td>\n",
       "      <td>0.3,0.12,1,0</td>\n",
       "    </tr>\n",
       "    <tr>\n",
       "      <th>2</th>\n",
       "      <td>3</td>\n",
       "      <td>TGFa,TNFa</td>\n",
       "      <td>NaN</td>\n",
       "      <td>NaN</td>\n",
       "      <td>NaN</td>\n",
       "      <td>NFkB,ERK,C8,Akt</td>\n",
       "      <td>1,1,1,1</td>\n",
       "    </tr>\n",
       "    <tr>\n",
       "      <th>3</th>\n",
       "      <td>4</td>\n",
       "      <td>TGFa,TNFa</td>\n",
       "      <td>NaN</td>\n",
       "      <td>PI3K</td>\n",
       "      <td>0.7</td>\n",
       "      <td>NFkB,ERK,C8,Akt</td>\n",
       "      <td>0.51,0.804,1,0.3</td>\n",
       "    </tr>\n",
       "    <tr>\n",
       "      <th>4</th>\n",
       "      <td>5</td>\n",
       "      <td>TGFa,TNFa</td>\n",
       "      <td>NaN</td>\n",
       "      <td>Raf</td>\n",
       "      <td>0.8</td>\n",
       "      <td>NFkB,ERK,C8,Akt</td>\n",
       "      <td>1,0.52,1,1</td>\n",
       "    </tr>\n",
       "  </tbody>\n",
       "</table>\n",
       "</div>"
      ],
      "text/plain": [
       "   Experiments    Stimuli  Stimuli_efficacy Inhibitors Inhibitors_efficacy  \\\n",
       "0            1       TGFa               NaN       TNFa                 NaN   \n",
       "1            2       TNFa               NaN       TGFa                 NaN   \n",
       "2            3  TGFa,TNFa               NaN        NaN                 NaN   \n",
       "3            4  TGFa,TNFa               NaN       PI3K                 0.7   \n",
       "4            5  TGFa,TNFa               NaN        Raf                 0.8   \n",
       "\n",
       "    Measured_nodes   Measured_values  \n",
       "0  NFkB,ERK,C8,Akt      0.7,0.88,0,1  \n",
       "1  NFkB,ERK,C8,Akt      0.3,0.12,1,0  \n",
       "2  NFkB,ERK,C8,Akt           1,1,1,1  \n",
       "3  NFkB,ERK,C8,Akt  0.51,0.804,1,0.3  \n",
       "4  NFkB,ERK,C8,Akt        1,0.52,1,1  "
      ]
     },
     "execution_count": 3,
     "metadata": {},
     "output_type": "execute_result"
    }
   ],
   "source": [
    "# show the input csv format\n",
    "data = pd.read_csv('./data/Trairatphisan2014_case3.csv')\n",
    "data.head()"
   ]
  },
  {
   "cell_type": "code",
   "execution_count": 2,
   "metadata": {},
   "outputs": [
    {
     "data": {
      "text/plain": [
       "[{'id': 1,\n",
       "  'stimuli': ['TGFa'],\n",
       "  'stimuli_efficacy': [1.0],\n",
       "  'inhibitors': ['TNFa'],\n",
       "  'inhibitors_efficacy': [1.0],\n",
       "  'measurements': {'NFkB': 0.7, 'ERK': 0.88, 'C8': 0.0, 'Akt': 1.0}},\n",
       " {'id': 2,\n",
       "  'stimuli': ['TNFa'],\n",
       "  'stimuli_efficacy': [1.0],\n",
       "  'inhibitors': ['TGFa'],\n",
       "  'inhibitors_efficacy': [1.0],\n",
       "  'measurements': {'NFkB': 0.3, 'ERK': 0.12, 'C8': 1.0, 'Akt': 0.0}},\n",
       " {'id': 3,\n",
       "  'stimuli': ['TGFa', 'TNFa'],\n",
       "  'stimuli_efficacy': [1.0, 1.0],\n",
       "  'inhibitors': [],\n",
       "  'inhibitors_efficacy': [],\n",
       "  'measurements': {'NFkB': 1.0, 'ERK': 1.0, 'C8': 1.0, 'Akt': 1.0}},\n",
       " {'id': 4,\n",
       "  'stimuli': ['TGFa', 'TNFa'],\n",
       "  'stimuli_efficacy': [1.0, 1.0],\n",
       "  'inhibitors': ['PI3K'],\n",
       "  'inhibitors_efficacy': [0.7],\n",
       "  'measurements': {'NFkB': 0.51, 'ERK': 0.804, 'C8': 1.0, 'Akt': 0.3}},\n",
       " {'id': 5,\n",
       "  'stimuli': ['TGFa', 'TNFa'],\n",
       "  'stimuli_efficacy': [1.0, 1.0],\n",
       "  'inhibitors': ['Raf'],\n",
       "  'inhibitors_efficacy': [0.8],\n",
       "  'measurements': {'NFkB': 1.0, 'ERK': 0.52, 'C8': 1.0, 'Akt': 1.0}},\n",
       " {'id': 6,\n",
       "  'stimuli': ['TGFa', 'TNFa'],\n",
       "  'stimuli_efficacy': [1.0, 1.0],\n",
       "  'inhibitors': ['PI3K', 'Raf'],\n",
       "  'inhibitors_efficacy': [0.7, 0.8],\n",
       "  'measurements': {'NFkB': 0.51, 'ERK': 0.324, 'C8': 1.0, 'Akt': 0.3}}]"
      ]
     },
     "execution_count": 2,
     "metadata": {},
     "output_type": "execute_result"
    }
   ],
   "source": [
    "# load the experiment data\n",
    "experiments = ExperimentData.load_from_csv('./data/Trairatphisan2014_case3.csv')\n",
    "experiments"
   ]
  },
  {
   "cell_type": "code",
   "execution_count": 4,
   "metadata": {},
   "outputs": [
    {
     "data": {
      "text/plain": [
       "{'num_experiments': 6,\n",
       " 'unique_stimuli': ['TGFa', 'TNFa'],\n",
       " 'unique_inhibitors': ['Raf', 'TGFa', 'PI3K', 'TNFa'],\n",
       " 'unique_measured_nodes': ['C8', 'ERK', 'NFkB', 'Akt'],\n",
       " 'value_ranges': {'NFkB': {'min': 0.3, 'max': 1.0},\n",
       "  'ERK': {'min': 0.12, 'max': 1.0},\n",
       "  'C8': {'min': 0.0, 'max': 1.0},\n",
       "  'Akt': {'min': 0.0, 'max': 1.0}},\n",
       " 'stimuli_efficacy_ranges': {'TGFa': {'min': 1.0, 'max': 1.0},\n",
       "  'TNFa': {'min': 1.0, 'max': 1.0}},\n",
       " 'inhibitors_efficacy_ranges': {'TNFa': {'min': 1.0, 'max': 1.0},\n",
       "  'TGFa': {'min': 1.0, 'max': 1.0},\n",
       "  'PI3K': {'min': 0.7, 'max': 0.7},\n",
       "  'Raf': {'min': 0.8, 'max': 0.8}}}"
      ]
     },
     "execution_count": 4,
     "metadata": {},
     "output_type": "execute_result"
    }
   ],
   "source": [
    "# get the experiment summary\n",
    "ExperimentData.get_experiment_summary(experiments)"
   ]
  },
  {
   "cell_type": "markdown",
   "metadata": {},
   "source": [
    "# Simulate the network before optimization"
   ]
  },
  {
   "cell_type": "code",
   "execution_count": 6,
   "metadata": {},
   "outputs": [
    {
     "data": {
      "text/plain": [
       "array([1.        , 1.        , 0.95132973, 0.32117576, 0.33955209,\n",
       "       0.95062987, 0.64473105, 0.76828634])"
      ]
     },
     "execution_count": 6,
     "metadata": {},
     "output_type": "execute_result"
    }
   ],
   "source": [
    "# This is the default network\n",
    "# Experiment 1: TGFa = 1, TNFa = 0, PI3K = 0 with 70% efficacy\n",
    "calc = SteadyStateCalculator(pbn)\n",
    "calc.set_experimental_conditions(stimuli=['TGFa','TNFa'],inhibitors=['PI3K'],inhibitors_efficacy=[0.7])\n",
    "calc.compute_steady_state(method='monte_carlo',n_runs=10,n_steps=10000,p_noise=0.05)"
   ]
  },
  {
   "cell_type": "code",
   "execution_count": 7,
   "metadata": {},
   "outputs": [
    {
     "data": {
      "text/plain": [
       "array([1.        , 1.        , 0.99883748, 0.29900023, 0.3000465 ,\n",
       "       0.99953499, 0.65182516, 0.82631946])"
      ]
     },
     "execution_count": 7,
     "metadata": {},
     "output_type": "execute_result"
    }
   ],
   "source": [
    "calc.compute_steady_state(method='tsmc',r=0.01,initial_nsteps=100,max_iterations=5000)"
   ]
  },
  {
   "cell_type": "markdown",
   "metadata": {},
   "source": [
    "# Partical swarm optimization"
   ]
  },
  {
   "cell_type": "code",
   "execution_count": 5,
   "metadata": {},
   "outputs": [],
   "source": [
    "# Configure optimizer\n",
    "config = {\n",
    "    'pso_params': {\n",
    "        'n_particles': 40,  # 20*number of parameters to optimize\n",
    "        'iters': 1000,\n",
    "        'options': {\n",
    "            'c1': 0.5, # Cognitive parameter\n",
    "            'c2': 0.3, # Social parameter\n",
    "            'w': 0.9 # Inertia weight\n",
    "        },\n",
    "        'ftol': - np.inf # early stop disabled\n",
    "    },\n",
    "    'steady_state': {\n",
    "        'method': 'tsmc',\n",
    "            'tsmc_params': {\n",
    "                'epsilon': 0.001, # range of transition probability [Default=0.001]\n",
    "                'r': 0.02, # range of accuracy (most sensitive) [Default=0.025]\n",
    "                's': 0.95, # probability to acquire defined accuracy [Default=0.95]\n",
    "                'p_mir': 0.001, # perturbation in Miranda's & Parga's scheme [Default=0.001, 0.1%]\n",
    "                'initial_nsteps': 100, # initial simulation steps [Recommended at 100 steps for n < 100]\n",
    "                'max_iterations': 5000 # maximum convergence iterations [Default=5000]\n",
    "            },\n",
    "    },\n",
    "    'max_try': 1,  # Maximum number of attempts if optimization fails\n",
    "    'success_threshold': 0.01 # threshold for accepting fit\n",
    "}"
   ]
  },
  {
   "cell_type": "code",
   "execution_count": 9,
   "metadata": {},
   "outputs": [
    {
     "name": "stderr",
     "output_type": "stream",
     "text": [
      "2025-06-26 13:51:00,799 - pyswarms.single.global_best - INFO - Optimize for 1000 iters with {'c1': 0.5, 'c2': 0.3, 'w': 0.9}\n"
     ]
    },
    {
     "name": "stdout",
     "output_type": "stream",
     "text": [
      "\n",
      "Running optimization using method: particle_swarm\n",
      "Maximum attempts: 1\n",
      "\n",
      "--- Attempt 1/1 ---\n"
     ]
    },
    {
     "name": "stderr",
     "output_type": "stream",
     "text": [
      "pyswarms.single.global_best: 100%|██████████|1000/1000, best_cost=0.000126\n",
      "2025-06-26 15:26:54,732 - pyswarms.single.global_best - INFO - Optimization finished | best cost: 0.00012558968979802453, best pos: [0.63586124 0.27103265 0.76631473 0.50805163]\n"
     ]
    },
    {
     "name": "stdout",
     "output_type": "stream",
     "text": [
      "\n",
      "Successful optimization found in attempt 1\n",
      "  - SSE: 0.000126\n",
      "\n",
      "--- Optimization finished. Best SSE found: 0.000126 ---\n",
      "\n",
      "--- Optimized PBN Rules ---\n",
      "TGFa = 1, 1.0000\n",
      "TNFa = 1, 1.0000\n",
      "Raf = TGFa, 1.0000\n",
      "PI3K = TGFa, 1.0000\n",
      "Akt = PI3K, 1.0000\n",
      "C8 = TNFa, 1.0000\n",
      "NFkB = PI3K, 0.7011\n",
      "NFkB = TNFa, 0.2989\n",
      "ERK = Raf, 0.6013\n",
      "ERK = NFkB, 0.3987\n",
      "---------------------------\n",
      "\n",
      "\n",
      "--- Node Deltas (Steady-State vs Measurements) ---\n",
      "\n",
      "Experiment 1:\n",
      "  Stimuli: ['TGFa'] (efficacy: [1.0])\n",
      "  Inhibitors: ['TNFa'] (efficacy: [1.0])\n",
      "    NFkB: Predicted=0.6949, Measured=0.7000, Delta=-0.0051\n",
      "    ERK: Predicted=0.8740, Measured=0.8800, Delta=-0.0060\n",
      "    Experiment SSE: 0.000069\n",
      "\n",
      "Experiment 2:\n",
      "  Stimuli: ['TNFa'] (efficacy: [1.0])\n",
      "  Inhibitors: ['TGFa'] (efficacy: [1.0])\n",
      "    NFkB: Predicted=0.3076, Measured=0.3000, Delta=+0.0076\n",
      "    ERK: Predicted=0.1300, Measured=0.1200, Delta=+0.0100\n",
      "    Experiment SSE: 0.000165\n",
      "\n",
      "Experiment 3:\n",
      "  Stimuli: ['TGFa', 'TNFa'] (efficacy: [1.0, 1.0])\n",
      "  Inhibitors: [] (efficacy: [])\n",
      "    NFkB: Predicted=1.0000, Measured=1.0000, Delta=+0.0000\n",
      "    ERK: Predicted=1.0000, Measured=1.0000, Delta=+0.0000\n",
      "    Experiment SSE: 0.000000\n",
      "\n",
      "Experiment 4:\n",
      "  Stimuli: ['TGFa', 'TNFa'] (efficacy: [1.0, 1.0])\n",
      "  Inhibitors: ['PI3K'] (efficacy: [0.7])\n",
      "    NFkB: Predicted=0.5137, Measured=0.5100, Delta=+0.0037\n",
      "    ERK: Predicted=0.8136, Measured=0.8040, Delta=+0.0096\n",
      "    Experiment SSE: 0.000181\n",
      "\n",
      "Experiment 5:\n",
      "  Stimuli: ['TGFa', 'TNFa'] (efficacy: [1.0, 1.0])\n",
      "  Inhibitors: ['Raf'] (efficacy: [0.8])\n",
      "    NFkB: Predicted=0.9975, Measured=1.0000, Delta=-0.0025\n",
      "    ERK: Predicted=0.5000, Measured=0.5200, Delta=-0.0200\n",
      "    Experiment SSE: 0.000417\n",
      "\n",
      "Experiment 6:\n",
      "  Stimuli: ['TGFa', 'TNFa'] (efficacy: [1.0, 1.0])\n",
      "  Inhibitors: ['PI3K', 'Raf'] (efficacy: [0.7, 0.8])\n",
      "    NFkB: Predicted=0.4970, Measured=0.5100, Delta=-0.0130\n",
      "    ERK: Predicted=0.3283, Measured=0.3240, Delta=+0.0043\n",
      "    Experiment SSE: 0.000188\n",
      "\n",
      "--- Summary Statistics Across All Experiments ---\n",
      "NFkB:\n",
      "  Mean Delta: -0.0016 ± 0.0066\n",
      "  RMSE: 0.0067\n",
      "  MAE: 0.0053\n",
      "  Measurements: 6\n",
      "ERK:\n",
      "  Mean Delta: -0.0003 ± 0.0104\n",
      "  RMSE: 0.0104\n",
      "  MAE: 0.0083\n",
      "  Measurements: 6\n",
      "\n",
      "Overall Performance:\n",
      "  Total measurements: 12\n",
      "  Overall MAE: 0.0068\n",
      "  Overall RMSE: 0.0087\n",
      "----------------------------------------------------\n",
      "\n",
      "Optimization took 5754.09 seconds\n"
     ]
    }
   ],
   "source": [
    "# Initialize optimizer\n",
    "optimizer = ParameterOptimizer(pbn, './data/Trairatphisan2014_case3.csv', config=config, nodes_to_optimize=['NFkB','ERK'])\n",
    "\n",
    "# Run optimization\n",
    "start_time = time.time()\n",
    "result = optimizer.optimize(method='particle_swarm')\n",
    "end_time = time.time()\n",
    "print(f\"Optimization took {end_time - start_time:.2f} seconds\")"
   ]
  },
  {
   "cell_type": "code",
   "execution_count": 10,
   "metadata": {},
   "outputs": [
    {
     "name": "stdout",
     "output_type": "stream",
     "text": [
      "Optimization Results:\n",
      "Success: True\n",
      "Final SSE: 0.000126\n",
      "Number of iterations: 1000\n",
      "\n",
      "Optimized Rules:\n",
      "TGFa = 1, 1.0000\n",
      "TNFa = 1, 1.0000\n",
      "Raf = TGFa, 1.0000\n",
      "PI3K = TGFa, 1.0000\n",
      "Akt = PI3K, 1.0000\n",
      "C8 = TNFa, 1.0000\n",
      "NFkB = PI3K, 0.7011\n",
      "NFkB = TNFa, 0.2989\n",
      "ERK = Raf, 0.6013\n",
      "ERK = NFkB, 0.3987\n"
     ]
    }
   ],
   "source": [
    "# Print results\n",
    "print(\"Optimization Results:\")\n",
    "print(f\"Success: {result.success}\")\n",
    "print(f\"Final SSE: {result.fun:.6f}\")\n",
    "print(f\"Number of iterations: {result.nit}\")\n",
    "print(\"\\nOptimized Rules:\")\n",
    "print(optimizer.get_pbn_rules_string())"
   ]
  },
  {
   "cell_type": "code",
   "execution_count": 11,
   "metadata": {},
   "outputs": [
    {
     "data": {
      "image/png": "[encoded data removed]",
      "text/plain": [
       "<Figure size 1000x600 with 1 Axes>"
      ]
     },
     "metadata": {},
     "output_type": "display_data"
    }
   ],
   "source": [
    "optimizer.plot_optimization_history(result)"
   ]
  },
  {
   "cell_type": "markdown",
   "metadata": {},
   "source": [
    "## Compare with optPBN"
   ]
  },
  {
   "cell_type": "code",
   "execution_count": 3,
   "metadata": {},
   "outputs": [],
   "source": [
    "# Configure optimizer\n",
    "config = {\n",
    "    'pso_params': {\n",
    "        'n_particles': 40,  # 20*number of parameters to optimize\n",
    "        'iters': 200,\n",
    "        'options': {\n",
    "            'c1': 0.5, # Cognitive parameter\n",
    "            'c2': 0.3, # Social parameter\n",
    "            'w': 0.9 # Inertia weight\n",
    "        },\n",
    "        'ftol': 0.00001, # Function tolerance\n",
    "        'ftol_iter': 20, # Iterations to check\n",
    "    },\n",
    "    'steady_state': {\n",
    "        'method': 'tsmc',\n",
    "            'tsmc_params': {\n",
    "                'epsilon': 0.001, # range of transition probability [Default=0.001]\n",
    "                'r': 0.005, # range of accuracy (most sensitive) [Default=0.025]\n",
    "                's': 0.95, # probability to acquire defined accuracy [Default=0.95]\n",
    "                'p_mir': 0.001, # perturbation in Miranda's & Parga's scheme [Default=0.001, 0.1%]\n",
    "                'initial_nsteps': 100, # initial simulation steps [Recommended at 100 steps for n < 100]\n",
    "                'max_iterations': 5000 # maximum convergence iterations [Default=5000]\n",
    "            },\n",
    "    },\n",
    "    'max_try': 3,  # Maximum number of attempts if optimization fails\n",
    "    'success_threshold': 0.00018448,  # An SSE below this is always a success\n",
    "    'display_rules_every': 0  # Display optimized rules every n iterations (0 = disabled)\n",
    "}"
   ]
  },
  {
   "cell_type": "code",
   "execution_count": 4,
   "metadata": {},
   "outputs": [
    {
     "name": "stderr",
     "output_type": "stream",
     "text": [
      "2025-07-08 14:01:38,215 - pyswarms.single.global_best - INFO - Optimize for 200 iters with {'c1': 0.5, 'c2': 0.3, 'w': 0.9}\n"
     ]
    },
    {
     "name": "stdout",
     "output_type": "stream",
     "text": [
      "\n",
      "Running optimization using method: particle_swarm\n",
      "Maximum attempts: 3\n",
      "\n",
      "--- Attempt 1/3 ---\n",
      "PSO early stopping enabled:\n",
      "  - Function tolerance: 1e-05\n",
      "  - Tolerance iterations: 20\n",
      "\n",
      "\n",
      "PSO Setup:\n",
      "  - Particles: 40\n",
      "  - Max iterations: 200\n",
      "  - Problem dimensions: 4\n",
      "  - Total function evaluations: 8000\n",
      "\n"
     ]
    },
    {
     "name": "stderr",
     "output_type": "stream",
     "text": [
      "pyswarms.single.global_best:   0%|          |1/200, best_cost=0.00295"
     ]
    },
    {
     "name": "stdout",
     "output_type": "stream",
     "text": [
      "PSO Iteration 1: Current best SSE: 0.002952, Global best SSE: 0.002952\n"
     ]
    },
    {
     "name": "stderr",
     "output_type": "stream",
     "text": [
      "pyswarms.single.global_best:   1%|          |2/200, best_cost=0.00295"
     ]
    },
    {
     "name": "stdout",
     "output_type": "stream",
     "text": [
      "PSO Iteration 2: Current best SSE: 0.025379, Global best SSE: 0.002952\n"
     ]
    },
    {
     "name": "stderr",
     "output_type": "stream",
     "text": [
      "pyswarms.single.global_best:   2%|▏         |3/200, best_cost=0.00295"
     ]
    },
    {
     "name": "stdout",
     "output_type": "stream",
     "text": [
      "PSO Iteration 3: Current best SSE: 0.005174, Global best SSE: 0.002952\n"
     ]
    },
    {
     "name": "stderr",
     "output_type": "stream",
     "text": [
      "pyswarms.single.global_best:   2%|▏         |4/200, best_cost=0.00295"
     ]
    },
    {
     "name": "stdout",
     "output_type": "stream",
     "text": [
      "PSO Iteration 4: Current best SSE: 0.003526, Global best SSE: 0.002952\n"
     ]
    },
    {
     "name": "stderr",
     "output_type": "stream",
     "text": [
      "pyswarms.single.global_best:   2%|▎         |5/200, best_cost=0.00295"
     ]
    },
    {
     "name": "stdout",
     "output_type": "stream",
     "text": [
      "PSO Iteration 5: Current best SSE: 0.003927, Global best SSE: 0.002952\n"
     ]
    },
    {
     "name": "stderr",
     "output_type": "stream",
     "text": [
      "pyswarms.single.global_best:   3%|▎         |6/200, best_cost=0.00295"
     ]
    },
    {
     "name": "stdout",
     "output_type": "stream",
     "text": [
      "PSO Iteration 6: Current best SSE: 0.003018, Global best SSE: 0.002952\n"
     ]
    },
    {
     "name": "stderr",
     "output_type": "stream",
     "text": [
      "pyswarms.single.global_best:   4%|▎         |7/200, best_cost=0.00295"
     ]
    },
    {
     "name": "stdout",
     "output_type": "stream",
     "text": [
      "PSO Iteration 7: Current best SSE: 0.005616, Global best SSE: 0.002952\n"
     ]
    },
    {
     "name": "stderr",
     "output_type": "stream",
     "text": [
      "pyswarms.single.global_best:   4%|▍         |8/200, best_cost=0.00295"
     ]
    },
    {
     "name": "stdout",
     "output_type": "stream",
     "text": [
      "PSO Iteration 8: Current best SSE: 0.003240, Global best SSE: 0.002952\n"
     ]
    },
    {
     "name": "stderr",
     "output_type": "stream",
     "text": [
      "pyswarms.single.global_best:   4%|▍         |9/200, best_cost=0.000184"
     ]
    },
    {
     "name": "stdout",
     "output_type": "stream",
     "text": [
      "PSO Iteration 9: Current best SSE: 0.000184, Global best SSE: 0.000184\n"
     ]
    },
    {
     "name": "stderr",
     "output_type": "stream",
     "text": [
      "pyswarms.single.global_best:   5%|▌         |10/200, best_cost=0.000184"
     ]
    },
    {
     "name": "stdout",
     "output_type": "stream",
     "text": [
      "PSO Iteration 10: Current best SSE: 0.003764, Global best SSE: 0.000184\n"
     ]
    },
    {
     "name": "stderr",
     "output_type": "stream",
     "text": [
      "pyswarms.single.global_best:   6%|▌         |11/200, best_cost=0.000184"
     ]
    },
    {
     "name": "stdout",
     "output_type": "stream",
     "text": [
      "PSO Iteration 11: Current best SSE: 0.002294, Global best SSE: 0.000184\n"
     ]
    },
    {
     "name": "stderr",
     "output_type": "stream",
     "text": [
      "pyswarms.single.global_best:   6%|▌         |12/200, best_cost=0.000184"
     ]
    },
    {
     "name": "stdout",
     "output_type": "stream",
     "text": [
      "PSO Iteration 12: Current best SSE: 0.018450, Global best SSE: 0.000184\n"
     ]
    },
    {
     "name": "stderr",
     "output_type": "stream",
     "text": [
      "pyswarms.single.global_best:   6%|▋         |13/200, best_cost=0.000184"
     ]
    },
    {
     "name": "stdout",
     "output_type": "stream",
     "text": [
      "PSO Iteration 13: Current best SSE: 0.000641, Global best SSE: 0.000184\n"
     ]
    },
    {
     "name": "stderr",
     "output_type": "stream",
     "text": [
      "pyswarms.single.global_best:   7%|▋         |14/200, best_cost=0.000184"
     ]
    },
    {
     "name": "stdout",
     "output_type": "stream",
     "text": [
      "PSO Iteration 14: Current best SSE: 0.002759, Global best SSE: 0.000184\n"
     ]
    },
    {
     "name": "stderr",
     "output_type": "stream",
     "text": [
      "pyswarms.single.global_best:   8%|▊         |15/200, best_cost=0.000184"
     ]
    },
    {
     "name": "stdout",
     "output_type": "stream",
     "text": [
      "PSO Iteration 15: Current best SSE: 0.003183, Global best SSE: 0.000184\n"
     ]
    },
    {
     "name": "stderr",
     "output_type": "stream",
     "text": [
      "pyswarms.single.global_best:   8%|▊         |16/200, best_cost=0.000184"
     ]
    },
    {
     "name": "stdout",
     "output_type": "stream",
     "text": [
      "PSO Iteration 16: Current best SSE: 0.002119, Global best SSE: 0.000184\n"
     ]
    },
    {
     "name": "stderr",
     "output_type": "stream",
     "text": [
      "pyswarms.single.global_best:   8%|▊         |17/200, best_cost=0.000184"
     ]
    },
    {
     "name": "stdout",
     "output_type": "stream",
     "text": [
      "PSO Iteration 17: Current best SSE: 0.005992, Global best SSE: 0.000184\n"
     ]
    },
    {
     "name": "stderr",
     "output_type": "stream",
     "text": [
      "pyswarms.single.global_best:   9%|▉         |18/200, best_cost=0.000184"
     ]
    },
    {
     "name": "stdout",
     "output_type": "stream",
     "text": [
      "PSO Iteration 18: Current best SSE: 0.003256, Global best SSE: 0.000184\n"
     ]
    },
    {
     "name": "stderr",
     "output_type": "stream",
     "text": [
      "pyswarms.single.global_best:  10%|▉         |19/200, best_cost=0.000184"
     ]
    },
    {
     "name": "stdout",
     "output_type": "stream",
     "text": [
      "PSO Iteration 19: Current best SSE: 0.005244, Global best SSE: 0.000184\n"
     ]
    },
    {
     "name": "stderr",
     "output_type": "stream",
     "text": [
      "pyswarms.single.global_best:  10%|█         |20/200, best_cost=0.000184"
     ]
    },
    {
     "name": "stdout",
     "output_type": "stream",
     "text": [
      "PSO Iteration 20: Current best SSE: 0.000403, Global best SSE: 0.000184\n"
     ]
    },
    {
     "name": "stderr",
     "output_type": "stream",
     "text": [
      "pyswarms.single.global_best:  10%|█         |21/200, best_cost=0.000184"
     ]
    },
    {
     "name": "stdout",
     "output_type": "stream",
     "text": [
      "PSO Iteration 21: Current best SSE: 0.002595, Global best SSE: 0.000184\n"
     ]
    },
    {
     "name": "stderr",
     "output_type": "stream",
     "text": [
      "pyswarms.single.global_best:  11%|█         |22/200, best_cost=0.000184"
     ]
    },
    {
     "name": "stdout",
     "output_type": "stream",
     "text": [
      "PSO Iteration 22: Current best SSE: 0.001019, Global best SSE: 0.000184\n"
     ]
    },
    {
     "name": "stderr",
     "output_type": "stream",
     "text": [
      "pyswarms.single.global_best:  12%|█▏        |23/200, best_cost=0.000184"
     ]
    },
    {
     "name": "stdout",
     "output_type": "stream",
     "text": [
      "PSO Iteration 23: Current best SSE: 0.002001, Global best SSE: 0.000184\n"
     ]
    },
    {
     "name": "stderr",
     "output_type": "stream",
     "text": [
      "pyswarms.single.global_best:  12%|█▏        |24/200, best_cost=0.000184"
     ]
    },
    {
     "name": "stdout",
     "output_type": "stream",
     "text": [
      "PSO Iteration 24: Current best SSE: 0.003598, Global best SSE: 0.000184\n"
     ]
    },
    {
     "name": "stderr",
     "output_type": "stream",
     "text": [
      "pyswarms.single.global_best:  12%|█▎        |25/200, best_cost=0.000184"
     ]
    },
    {
     "name": "stdout",
     "output_type": "stream",
     "text": [
      "PSO Iteration 25: Current best SSE: 0.000361, Global best SSE: 0.000184\n"
     ]
    },
    {
     "name": "stderr",
     "output_type": "stream",
     "text": [
      "pyswarms.single.global_best:  13%|█▎        |26/200, best_cost=0.000184"
     ]
    },
    {
     "name": "stdout",
     "output_type": "stream",
     "text": [
      "PSO Iteration 26: Current best SSE: 0.000548, Global best SSE: 0.000184\n"
     ]
    },
    {
     "name": "stderr",
     "output_type": "stream",
     "text": [
      "pyswarms.single.global_best:  14%|█▎        |27/200, best_cost=0.000184"
     ]
    },
    {
     "name": "stdout",
     "output_type": "stream",
     "text": [
      "PSO Iteration 27: Current best SSE: 0.001936, Global best SSE: 0.000184\n"
     ]
    },
    {
     "name": "stderr",
     "output_type": "stream",
     "text": [
      "pyswarms.single.global_best:  14%|█▍        |28/200, best_cost=0.000184"
     ]
    },
    {
     "name": "stdout",
     "output_type": "stream",
     "text": [
      "PSO Iteration 28: Current best SSE: 0.001048, Global best SSE: 0.000184\n"
     ]
    },
    {
     "name": "stderr",
     "output_type": "stream",
     "text": [
      "pyswarms.single.global_best:  14%|█▍        |28/200, best_cost=0.000184\n",
      "2025-07-08 14:44:08,892 - pyswarms.single.global_best - INFO - Optimization finished | best cost: 0.00018414786623827229, best pos: [0.81250221 0.35592477 0.66047453 0.42290663]\n"
     ]
    },
    {
     "name": "stdout",
     "output_type": "stream",
     "text": [
      "PSO Iteration 29: Current best SSE: 0.000873, Global best SSE: 0.000184\n",
      "Total time: 2550.68 seconds\n",
      "\n",
      "Successful optimization found in attempt 1\n",
      "  - SSE: 0.000184\n",
      "\n",
      "--- Optimization finished. Best SSE found: 0.000184 ---\n",
      "\n",
      "--- Optimized PBN Rules ---\n",
      "TGFa = 1, 1.0000\n",
      "TNFa = 1, 1.0000\n",
      "Raf = TGFa, 1.0000\n",
      "PI3K = TGFa, 1.0000\n",
      "Akt = PI3K, 1.0000\n",
      "C8 = TNFa, 1.0000\n",
      "NFkB = PI3K, 0.6954\n",
      "NFkB = TNFa, 0.3046\n",
      "ERK = Raf, 0.6096\n",
      "ERK = NFkB, 0.3904\n",
      "---------------------------\n",
      "\n",
      "Optimization took 2550.68 seconds\n"
     ]
    }
   ],
   "source": [
    "# Initialize optimizer\n",
    "optimizer = ParameterOptimizer(pbn, './data/Trairatphisan2014_case3.csv', config=config, nodes_to_optimize=['NFkB','ERK'], verbose=True)\n",
    "\n",
    "# Run optimization\n",
    "start_time = time.time()\n",
    "result = optimizer.optimize(method='particle_swarm')\n",
    "end_time = time.time()\n",
    "print(f\"Optimization took {end_time - start_time:.2f} seconds\")"
   ]
  },
  {
   "cell_type": "code",
   "execution_count": 5,
   "metadata": {},
   "outputs": [
    {
     "data": {
      "image/png": "[encoded data removed]",
      "text/plain": [
       "<Figure size 1000x600 with 1 Axes>"
      ]
     },
     "metadata": {},
     "output_type": "display_data"
    }
   ],
   "source": [
    "optimizer.plot_optimization_history(result)"
   ]
  },
  {
   "cell_type": "markdown",
   "metadata": {},
   "source": [
    "# Differential evolution optimization"
   ]
  },
  {
   "cell_type": "code",
   "execution_count": 9,
   "metadata": {},
   "outputs": [],
   "source": [
    "# Configure optimizer\n",
    "config = {\n",
    "    'de_params': {\n",
    "        'strategy': 'best1bin',\n",
    "        'maxiter': 5000,\n",
    "        'popsize': 15,\n",
    "        'tol': 0.0001, \n",
    "        'atol': 0,\n",
    "        'mutation': (0.5, 1),\n",
    "        'recombination': 0.7,\n",
    "        'seed': None,\n",
    "        'disp': False,\n",
    "        'init': 'sobol',\n",
    "        'updating': 'deferred',\n",
    "        'workers': -1,\n",
    "        'early_stopping': False  # Control early stopping\n",
    "    },\n",
    "    'steady_state': {\n",
    "        'method': 'tsmc',\n",
    "            'tsmc_params': {\n",
    "                'epsilon': 0.001, # range of transition probability [Default=0.001]\n",
    "                'r': 0.025, # range of accuracy (most sensitive) [Default=0.025]\n",
    "                's': 0.95, # probability to acquire defined accuracy [Default=0.95]\n",
    "                'p_mir': 0.001, # perturbation in Miranda's & Parga's scheme [Default=0.001, 0.1%]\n",
    "                'initial_nsteps': 100, # initial simulation steps [Recommended at 100 steps for n < 100]\n",
    "                'max_iterations': 5000 # maximum convergence iterations [Default=5000]\n",
    "            },\n",
    "    },\n",
    "    'max_try': 2,  # Maximum number of attempts if optimization fails\n",
    "    'success_threshold': 0.0001,  # An SSE below this is always a success (global)\n",
    "    'display_rules_every': 0  # Display optimized rules every n iterations (0 = disabled)\n",
    "    }"
   ]
  },
  {
   "cell_type": "code",
   "execution_count": 10,
   "metadata": {},
   "outputs": [
    {
     "name": "stdout",
     "output_type": "stream",
     "text": [
      "\n",
      "Running optimization using method: differential_evolution\n",
      "Maximum attempts: 2\n",
      "\n",
      "--- Attempt 1/2 ---\n",
      "[██████████████████████████████] 100.0% | Iter: 5000/5000 | Best SSE: 0.000132 | Conv: 0.0005\n",
      "Total time: 4054.84 seconds\n",
      "Optimization attempt 1 did not succeed: Maximum number of iterations has been exceeded. (SSE: 0.000176)\n",
      "Optimized rules: ['NFkB = PI3K, 0.7037', 'NFkB = TNFa, 0.2963', 'ERK = Raf, 0.6006', 'ERK = NFkB, 0.3994']\n",
      "\n",
      "--- Attempt 2/2 ---\n",
      "[██████████████████████████████] 100.0% | Iter: 5000/5000 | Best SSE: 0.000302 | Conv: 0.0005\n",
      "Total time: 3995.90 seconds\n",
      "Optimization attempt 2 did not succeed: Maximum number of iterations has been exceeded. (SSE: 0.000145)\n",
      "Optimized rules: ['NFkB = PI3K, 0.7009', 'NFkB = TNFa, 0.2991', 'ERK = Raf, 0.5948', 'ERK = NFkB, 0.4052']\n",
      "\n",
      "--- Optimization finished. Best SSE found: 0.000145 ---\n",
      "\n",
      "--- Optimized PBN Rules ---\n",
      "TGFa = 1, 1.0000\n",
      "TNFa = 1, 1.0000\n",
      "Raf = TGFa, 1.0000\n",
      "PI3K = TGFa, 1.0000\n",
      "Akt = PI3K, 1.0000\n",
      "C8 = TNFa, 1.0000\n",
      "NFkB = PI3K, 0.7009\n",
      "NFkB = TNFa, 0.2991\n",
      "ERK = Raf, 0.5948\n",
      "ERK = NFkB, 0.4052\n",
      "---------------------------\n",
      "\n",
      "Optimization took 8050.75 seconds\n"
     ]
    }
   ],
   "source": [
    "# Initialize optimizer\n",
    "optimizer = ParameterOptimizer(pbn, './data/Trairatphisan2014_case3.csv', config=config, nodes_to_optimize=['NFkB','ERK'], verbose=False)\n",
    "\n",
    "# Run optimization\n",
    "start_time = time.time()\n",
    "result = optimizer.optimize(method='differential_evolution')\n",
    "end_time = time.time()\n",
    "print(f\"Optimization took {end_time - start_time:.2f} seconds\")"
   ]
  }
 ],
 "metadata": {
  "kernelspec": {
   "display_name": "logicmodelmerger",
   "language": "python",
   "name": "python3"
  },
  "language_info": {
   "codemirror_mode": {
    "name": "ipython",
    "version": 3
   },
   "file_extension": ".py",
   "mimetype": "text/x-python",
   "name": "python",
   "nbconvert_exporter": "python",
   "pygments_lexer": "ipython3",
   "version": "3.13.1"
  }
 },
 "nbformat": 4,
 "nbformat_minor": 2
}
