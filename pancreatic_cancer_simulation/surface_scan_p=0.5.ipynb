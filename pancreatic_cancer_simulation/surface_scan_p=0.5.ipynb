{
 "cells": [
  {
   "cell_type": "markdown",
   "metadata": {},
   "source": [
    "# Surface scan for a PBN objective function\n",
    "This can perform 1-D scan for a single node or 2-D scan for two nodes,\n",
    "each node must have exactly two alternative rules.  "
   ]
  },
  {
   "cell_type": "code",
   "execution_count": 13,
   "metadata": {},
   "outputs": [
    {
     "name": "stdout",
     "output_type": "stream",
     "text": [
      "No initial state provided, using a random initial state\n",
      "PBN loaded successfully. There are 46 genes in the network.\n"
     ]
    }
   ],
   "source": [
    "import sys\n",
    "import importlib\n",
    "import numpy as np\n",
    "import matplotlib.pyplot as plt\n",
    "sys.path.append('./src')\n",
    "from BNMPy import booleanNetwork as bn\n",
    "from BNMPy import BMatrix\n",
    "from Optimizer.simulation_evaluator import SimulationEvaluator\n",
    "from Optimizer.experiment_data import ExperimentData\n",
    "\n",
    "network_file = '../input_files/Eduati2020_standardized_no_expand.txt'\n",
    "data_aspc1_file = '../data/Eduati2020_AsPC1_cleaned.csv'\n",
    "\n",
    "config = {\n",
    "            'steady_state': {\n",
    "                'method': 'monte_carlo', \n",
    "                'monte_carlo_params': {\n",
    "                    'n_runs': 2,\n",
    "                    'n_steps': 10000,\n",
    "                    'p_noise': 0\n",
    "                }\n",
    "            }\n",
    "        }\n",
    "\n",
    "def BN2PBN(bn_string, prob=0.5):\n",
    "    \"\"\"\n",
    "    Expand the boolean network to a PBN by adding a self-loop as alternative function\n",
    "    prob: probability of the equations from the original BN\n",
    "\n",
    "    Returns:\n",
    "        pbn_string: string of the PBN\n",
    "        nodes_to_optimize: list of nodes excludes input nodes\n",
    "    \"\"\"\n",
    "    # Parse equations from BN\n",
    "    bn_equations = {}\n",
    "    for line in bn_string.strip().split('\\n'):\n",
    "        if '=' in line:\n",
    "            target, rule = line.split('=', 1)\n",
    "            bn_equations[target.strip()] = rule.strip()\n",
    "    \n",
    "    # Expand rules\n",
    "    pbn_equations = []\n",
    "    nodes_to_optimize = []\n",
    "\n",
    "    for target in bn_equations.keys():\n",
    "        if bn_equations[target] == target:\n",
    "            # If its already a self-loop (e.g., a input node)\n",
    "            pbn_equations.append(f\"{target} = {bn_equations[target]}, 1\")\n",
    "        else:\n",
    "            # Add the original rule with a prob\n",
    "            pbn_equations.append(f\"{target} = {bn_equations[target]}, {prob}\")\n",
    "            # Add the alternative rule\n",
    "            pbn_equations.append(f\"{target} = {target}, {round(1-prob,2)}\")\n",
    "            nodes_to_optimize.append(target)\n",
    "    \n",
    "    # remove equations with prob = 0\n",
    "    pbn_equations = [eq for eq in pbn_equations if eq.split(',')[1] != ' 0']\n",
    "    pbn_string = '\\n'.join(pbn_equations)\n",
    "    return pbn_string, nodes_to_optimize\n",
    "\n",
    "with open(network_file, 'r') as f:\n",
    "    bn_string = f.read()\n",
    "\n",
    "pbn_string, _ = BN2PBN(bn_string, prob=0.5)\n",
    "pbn = BMatrix.load_pbn_from_string(pbn_string)\n",
    "\n",
    "def build_parameter_grid(n_nodes, steps):\n",
    "    \"\"\"Return an iterator over (prob_vec, grid_coords).\"\"\"\n",
    "    if n_nodes == 1:\n",
    "        grid = np.linspace(0.0, 1.0, steps[0])\n",
    "        for p in grid:\n",
    "            yield np.array([p, 1.0 - p]), (p,)\n",
    "    elif n_nodes == 2:\n",
    "        g1 = np.linspace(0.0, 1.0, steps[0])\n",
    "        g2 = np.linspace(0.0, 1.0, steps[1])\n",
    "        for p1 in g1:\n",
    "            for p2 in g2:\n",
    "                prob_vec = np.array([p1, 1.0 - p1, p2, 1.0 - p2])\n",
    "                yield prob_vec, (p1, p2)\n",
    "    else:\n",
    "        raise ValueError(\"Surface scan supports only 1 or 2 nodes.\")\n",
    "\n",
    "def surface_scan(nodes, steps):\n",
    "    experiments = ExperimentData.load_from_csv(data_aspc1_file)\n",
    "    steps = [steps] * len(nodes)\n",
    "    evaluator = SimulationEvaluator(\n",
    "        pbn,\n",
    "        experiments,\n",
    "        config=config,             \n",
    "        nodes_to_optimize=nodes   \n",
    "    )\n",
    "    dim = len(nodes)\n",
    "    mse_values = []\n",
    "    i = 0\n",
    "    print(f\"Scanning {dim}-D surface over {steps[0]} steps …\")\n",
    "    for prob_vec, coords in build_parameter_grid(dim, steps):\n",
    "        i += 1\n",
    "        mse = evaluator.objective_function(prob_vec)\n",
    "        print(f\"Running step {i}/{steps[0]}   MSE: {mse}\")\n",
    "        mse_values.append((coords, mse))\n",
    "\n",
    "    # ---------- plotting ----------\n",
    "    if dim == 1:\n",
    "        xs = [c[0] for c, _ in mse_values]\n",
    "        ys = [m for _, m in mse_values]\n",
    "        plt.plot(xs, ys, marker=\"o\")\n",
    "        plt.xlabel(f\"P({nodes[0]} rule #1)\")\n",
    "        plt.ylabel(\"MSE\")\n",
    "        plt.title(f\"Objective surface for {nodes[0]}\")\n",
    "    else:\n",
    "        g1 = np.linspace(0.0, 1.0, steps[0])\n",
    "        g2 = np.linspace(0.0, 1.0, steps[1])\n",
    "        Z = np.zeros((len(g2), len(g1)))\n",
    "        for (p1, p2), mse in mse_values:\n",
    "            i = np.where(np.isclose(g1, p1))[0][0]\n",
    "            j = np.where(np.isclose(g2, p2))[0][0]\n",
    "            Z[j, i] = mse\n",
    "        plt.imshow(Z, origin=\"lower\",\n",
    "                    extent=[0, 1, 0, 1], aspect=\"auto\")\n",
    "        plt.colorbar(label=\"MSE\")\n",
    "        plt.xlabel(f\"P({nodes[0]} rule #1)\")\n",
    "        plt.ylabel(f\"P({nodes[1]} rule #1)\")\n",
    "        plt.title(f\"Objective surface for {nodes[0]} vs {nodes[1]}\")\n",
    "    plt.tight_layout()\n",
    "    plt.show()\n",
    "    "
   ]
  },
  {
   "cell_type": "code",
   "execution_count": 8,
   "metadata": {},
   "outputs": [
    {
     "data": {
      "text/plain": [
       "'AKT1 = AktM & AktP, 0.5\\nAKT1 = AKT1, 0.5\\nAPAF1 = TP53, 0.5\\nAPAF1 = APAF1, 0.5\\nAPC = APAF1 & CASP9 & Mito | ! BIRC2, 0.5\\nAPC = APC, 0.5\\nAktM = PDPK1 & PIP3, 0.5\\nAktM = AktM, 0.5\\nAktP = PDPK1 & PIP3, 0.5\\nAktP = AktP, 0.5\\nBAD = TP53 | ! RPS6KA1 | ! AKT1, 0.5\\nBAD = BAD, 0.5\\nBCL2L1 = ! TP53 | STAT3 | NFKB1 | ! BAD, 0.5\\nBCL2L1 = BCL2L1, 0.5\\nBID = MAPK8 & TP53 | CASP8 & TP53 | ! BCL2L1, 0.5\\nBID = BID, 0.5\\nBIRC2 = ! CASP3 & ! CASP6 | NFKB1 | ! Mito, 0.5\\nBIRC2 = BIRC2, 0.5\\nCASP12 = CASP7, 0.5\\nCASP12 = CASP12, 0.5\\nCASP3 = ! BIRC2 | CASP8 | CASP6 | APC, 0.5\\nCASP3 = CASP3, 0.5\\nCASP6 = ! BIRC2 | CASP3, 0.5\\nCASP6 = CASP6, 0.5\\nCASP7 = ! BIRC2 | CASP8 | APC, 0.5\\nCASP7 = CASP7, 0.5\\nCASP8 = complexIIB | complexIIA | CASP6, 0.5\\nCASP8 = CASP8, 0.5\\nCASP9 = ! BIRC2 | ! MAPK1 | CASP3 | CASP12 | ! AKT1, 0.5\\nCASP9 = CASP9, 0.5\\nCFLAR = NFKB1, 0.5\\nCFLAR = CFLAR, 0.5\\nEGF = EGF, 1\\nEGFR = EGF, 0.5\\nEGFR = EGFR, 0.5\\nIKBKB = complexI | PDPK1 | AKT1 | ! TNFAIP3, 0.5\\nIKBKB = IKBKB, 0.5\\nJAK1 = EGFR, 0.5\\nJAK1 = JAK1, 0.5\\nKRAS = SOS1, 0.5\\nKRAS = KRAS, 0.5\\nMAP2K1 = RAF1 | PDPK1, 0.5\\nMAP2K1 = MAP2K1, 0.5\\nMAP2K4 = MAP3K1 | ! AKT1, 0.5\\nMAP2K4 = MAP2K4, 0.5\\nMAP3K1 = complexI | KRAS, 0.5\\nMAP3K1 = MAP3K1, 0.5\\nMAP3K14 = ! BIRC2, 0.5\\nMAP3K14 = MAP3K14, 0.5\\nMAPK1 = MAP2K1, 0.5\\nMAPK1 = MAPK1, 0.5\\nMAPK8 = MAP2K4, 0.5\\nMAPK8 = MAPK8, 0.5\\nMDM2 = TP53 | AKT1, 0.5\\nMDM2 = MDM2, 0.5\\nMito = ! BCL2L1 | BID, 0.5\\nMito = Mito, 0.5\\nNFKB1 = MAP3K14 | ! NFKBIA, 0.5\\nNFKB1 = NFKB1, 0.5\\nNFKBIA = NFKB1 | ! IKBKB, 0.5\\nNFKBIA = NFKBIA, 0.5\\nPDPK1 = PDPK1, 1\\nPIK3CA = KRAS | EGFR, 0.5\\nPIK3CA = PIK3CA, 0.5\\nPIP3 = ! PTEN | PIK3CA, 0.5\\nPIP3 = PIP3, 0.5\\nPTEN = TP53, 0.5\\nPTEN = PTEN, 0.5\\nRAF1 = KRAS, 0.5\\nRAF1 = RAF1, 0.5\\nRPS6KA1 = MAPK1, 0.5\\nRPS6KA1 = RPS6KA1, 0.5\\nSOS1 = ! MAPK1 | EGFR, 0.5\\nSOS1 = SOS1, 0.5\\nSTAT3 = JAK1, 0.5\\nSTAT3 = STAT3, 0.5\\nTNF = TNF, 1\\nTNFAIP3 = NFKB1, 0.5\\nTNFAIP3 = TNFAIP3, 0.5\\nTNFRSF1A = NFKB1 | TNF, 0.5\\nTNFRSF1A = TNFRSF1A, 0.5\\nTP53 = ! MDM2 | MAPK8 | MAPK1, 0.5\\nTP53 = TP53, 0.5\\ncomplexI = TNFRSF1A, 0.5\\ncomplexI = complexI, 0.5\\ncomplexIIA = complexI | ! CFLAR, 0.5\\ncomplexIIA = complexIIA, 0.5\\ncomplexIIB = complexI | ! BIRC2, 0.5\\ncomplexIIB = complexIIB, 0.5'"
      ]
     },
     "execution_count": 8,
     "metadata": {},
     "output_type": "execute_result"
    }
   ],
   "source": [
    "pbn_string"
   ]
  },
  {
   "cell_type": "code",
   "execution_count": 2,
   "metadata": {},
   "outputs": [
    {
     "name": "stdout",
     "output_type": "stream",
     "text": [
      "Scanning 1-D surface over 30 steps …\n",
      "Running step 1/30   MSE: 0.3285919901716396\n",
      "Running step 2/30   MSE: 0.32861162962027013\n",
      "Running step 3/30   MSE: 0.3302960475691386\n",
      "Running step 4/30   MSE: 0.32863459229999914\n",
      "Running step 5/30   MSE: 0.33192041869112676\n",
      "Running step 6/30   MSE: 0.3298063500338456\n",
      "Running step 7/30   MSE: 0.3286717731195593\n",
      "Running step 8/30   MSE: 0.32890089736753175\n",
      "Running step 9/30   MSE: 0.3286347521362144\n",
      "Running step 10/30   MSE: 0.3280488263763561\n",
      "Running step 11/30   MSE: 0.3291688585158858\n",
      "Running step 12/30   MSE: 0.32872569062930646\n",
      "Running step 13/30   MSE: 0.32928090315207453\n",
      "Running step 14/30   MSE: 0.32911901151773076\n",
      "Running step 15/30   MSE: 0.32958860864032236\n",
      "Running step 16/30   MSE: 0.32849499338373667\n",
      "Running step 17/30   MSE: 0.32689513478135823\n",
      "Running step 18/30   MSE: 0.32857032189007124\n",
      "Running step 19/30   MSE: 0.3307602365079252\n",
      "Running step 20/30   MSE: 0.32747781163314277\n",
      "Running step 21/30   MSE: 0.3303734300165248\n",
      "Running step 22/30   MSE: 0.32845606135685224\n",
      "Running step 23/30   MSE: 0.3283283262724381\n",
      "Running step 24/30   MSE: 0.3294762274715666\n",
      "Running step 25/30   MSE: 0.3298515421832114\n",
      "Running step 26/30   MSE: 0.3287836193528467\n",
      "Running step 27/30   MSE: 0.3300549687970646\n",
      "Running step 28/30   MSE: 0.3290457950455249\n",
      "Running step 29/30   MSE: 0.32844812619035185\n",
      "Running step 30/30   MSE: 0.32996024802037893\n"
     ]
    },
    {
     "data": {
      "image/png": "[encoded data removed]",
      "text/plain": [
       "<Figure size 640x480 with 1 Axes>"
      ]
     },
     "metadata": {},
     "output_type": "display_data"
    }
   ],
   "source": [
    "surface_scan(['CASP8'], 30)"
   ]
  },
  {
   "cell_type": "code",
   "execution_count": 5,
   "metadata": {},
   "outputs": [
    {
     "name": "stdout",
     "output_type": "stream",
     "text": [
      "Scanning 1-D surface over 30 steps …\n",
      "Running step 1/30   MSE: 0.3454107424481567\n",
      "Running step 2/30   MSE: 0.3437105949205118\n",
      "Running step 3/30   MSE: 0.34222124840044027\n",
      "Running step 4/30   MSE: 0.34141009572271797\n",
      "Running step 5/30   MSE: 0.3391675279860181\n",
      "Running step 6/30   MSE: 0.33768115204044746\n",
      "Running step 7/30   MSE: 0.3370029205695223\n",
      "Running step 8/30   MSE: 0.3374109015045952\n",
      "Running step 9/30   MSE: 0.3350781301098342\n",
      "Running step 10/30   MSE: 0.33529665961565824\n",
      "Running step 11/30   MSE: 0.33316330840817304\n",
      "Running step 12/30   MSE: 0.332575338914676\n",
      "Running step 13/30   MSE: 0.33162127598990376\n",
      "Running step 14/30   MSE: 0.33030379467575444\n",
      "Running step 15/30   MSE: 0.32976271972653154\n",
      "Running step 16/30   MSE: 0.32915573033279255\n",
      "Running step 17/30   MSE: 0.32821940920357434\n",
      "Running step 18/30   MSE: 0.3271097695709427\n",
      "Running step 19/30   MSE: 0.32445787677349736\n",
      "Running step 20/30   MSE: 0.3251353469765897\n",
      "Running step 21/30   MSE: 0.32357040975634377\n",
      "Running step 22/30   MSE: 0.3239414140067764\n",
      "Running step 23/30   MSE: 0.32136394325492024\n",
      "Running step 24/30   MSE: 0.32215361633947637\n",
      "Running step 25/30   MSE: 0.32130785735902034\n",
      "Running step 26/30   MSE: 0.32192716679302913\n",
      "Running step 27/30   MSE: 0.3186854648320778\n",
      "Running step 28/30   MSE: 0.31787097167640666\n",
      "Running step 29/30   MSE: 0.31776086640470264\n",
      "Running step 30/30   MSE: 0.31869139578758116\n"
     ]
    },
    {
     "data": {
      "image/png": "[encoded data removed]",
      "text/plain": [
       "<Figure size 640x480 with 1 Axes>"
      ]
     },
     "metadata": {},
     "output_type": "display_data"
    }
   ],
   "source": [
    "surface_scan(['CASP12'], 30)"
   ]
  },
  {
   "cell_type": "code",
   "execution_count": 3,
   "metadata": {},
   "outputs": [
    {
     "name": "stdout",
     "output_type": "stream",
     "text": [
      "Scanning 1-D surface over 30 steps …\n",
      "Running step 1/30   MSE: 0.3213536335868502\n",
      "Running step 2/30   MSE: 0.32927089032013346\n",
      "Running step 3/30   MSE: 0.3262996637828408\n",
      "Running step 4/30   MSE: 0.3285479782688461\n",
      "Running step 5/30   MSE: 0.3292693625035109\n",
      "Running step 6/30   MSE: 0.32771054982967\n",
      "Running step 7/30   MSE: 0.3280259213245639\n",
      "Running step 8/30   MSE: 0.3293681307749105\n",
      "Running step 9/30   MSE: 0.33077552090048307\n",
      "Running step 10/30   MSE: 0.3287478554173762\n",
      "Running step 11/30   MSE: 0.32903616082848414\n",
      "Running step 12/30   MSE: 0.3286216677274175\n",
      "Running step 13/30   MSE: 0.3293923862708086\n",
      "Running step 14/30   MSE: 0.3276898787251126\n",
      "Running step 15/30   MSE: 0.3296840073328155\n",
      "Running step 16/30   MSE: 0.32872365296792844\n",
      "Running step 17/30   MSE: 0.3283116008405999\n",
      "Running step 18/30   MSE: 0.32951400872189324\n",
      "Running step 19/30   MSE: 0.327302664236518\n",
      "Running step 20/30   MSE: 0.32791349685621674\n",
      "Running step 21/30   MSE: 0.3306945616303407\n",
      "Running step 22/30   MSE: 0.3270303072184941\n",
      "Running step 23/30   MSE: 0.32853349295663176\n",
      "Running step 24/30   MSE: 0.32879388877467874\n",
      "Running step 25/30   MSE: 0.32693544469800745\n",
      "Running step 26/30   MSE: 0.32755565375315265\n",
      "Running step 27/30   MSE: 0.3286277408851533\n",
      "Running step 28/30   MSE: 0.3283034783857163\n",
      "Running step 29/30   MSE: 0.32846718580844314\n",
      "Running step 30/30   MSE: 0.3298654354245815\n"
     ]
    },
    {
     "data": {
      "image/png": "[encoded data removed]",
      "text/plain": [
       "<Figure size 640x480 with 1 Axes>"
      ]
     },
     "metadata": {},
     "output_type": "display_data"
    }
   ],
   "source": [
    "surface_scan(['CASP6'], 30)"
   ]
  },
  {
   "cell_type": "code",
   "execution_count": 4,
   "metadata": {},
   "outputs": [
    {
     "name": "stdout",
     "output_type": "stream",
     "text": [
      "Scanning 1-D surface over 30 steps …\n",
      "Running step 1/30   MSE: 0.33132347497937076\n",
      "Running step 2/30   MSE: 0.3306514668993401\n",
      "Running step 3/30   MSE: 0.3328105015864576\n",
      "Running step 4/30   MSE: 0.3317500572343705\n",
      "Running step 5/30   MSE: 0.3317121013295962\n",
      "Running step 6/30   MSE: 0.33119106860624076\n",
      "Running step 7/30   MSE: 0.3299221589044983\n",
      "Running step 8/30   MSE: 0.3305846727987784\n",
      "Running step 9/30   MSE: 0.3286839060229339\n",
      "Running step 10/30   MSE: 0.33136408641918347\n",
      "Running step 11/30   MSE: 0.3295962634844045\n",
      "Running step 12/30   MSE: 0.33024258705621906\n",
      "Running step 13/30   MSE: 0.33064352153722526\n",
      "Running step 14/30   MSE: 0.3292339259220054\n",
      "Running step 15/30   MSE: 0.3278659003531684\n",
      "Running step 16/30   MSE: 0.3272563096779173\n",
      "Running step 17/30   MSE: 0.32976238585495843\n",
      "Running step 18/30   MSE: 0.3283993794280054\n",
      "Running step 19/30   MSE: 0.32739522403555754\n",
      "Running step 20/30   MSE: 0.32958002133200376\n",
      "Running step 21/30   MSE: 0.3273386919866828\n",
      "Running step 22/30   MSE: 0.3278554732488645\n",
      "Running step 23/30   MSE: 0.32600390613315955\n",
      "Running step 24/30   MSE: 0.3274429424420358\n",
      "Running step 25/30   MSE: 0.3259622391367553\n",
      "Running step 26/30   MSE: 0.3274939740088326\n",
      "Running step 27/30   MSE: 0.32649044820461115\n",
      "Running step 28/30   MSE: 0.32591833444024265\n",
      "Running step 29/30   MSE: 0.32646434661137586\n",
      "Running step 30/30   MSE: 0.3263257754990252\n"
     ]
    },
    {
     "data": {
      "image/png": "[encoded data removed]",
      "text/plain": [
       "<Figure size 640x480 with 1 Axes>"
      ]
     },
     "metadata": {},
     "output_type": "display_data"
    }
   ],
   "source": [
    "surface_scan(['CASP7'], 30)"
   ]
  },
  {
   "cell_type": "code",
   "execution_count": 5,
   "metadata": {},
   "outputs": [
    {
     "name": "stdout",
     "output_type": "stream",
     "text": [
      "Scanning 1-D surface over 30 steps …\n",
      "Running step 1/30   MSE: 0.3216837212648806\n",
      "Running step 2/30   MSE: 0.3210316930068979\n",
      "Running step 3/30   MSE: 0.32263122218626333\n",
      "Running step 4/30   MSE: 0.32323760294303244\n",
      "Running step 5/30   MSE: 0.3229526623038802\n",
      "Running step 6/30   MSE: 0.3244785209331358\n",
      "Running step 7/30   MSE: 0.3238807009079798\n",
      "Running step 8/30   MSE: 0.3235116801984029\n",
      "Running step 9/30   MSE: 0.32483362812976224\n",
      "Running step 10/30   MSE: 0.3249150165548732\n",
      "Running step 11/30   MSE: 0.3225232759636829\n",
      "Running step 12/30   MSE: 0.3252815191686976\n",
      "Running step 13/30   MSE: 0.324745761512722\n",
      "Running step 14/30   MSE: 0.32507903405807187\n",
      "Running step 15/30   MSE: 0.3258103354159525\n",
      "Running step 16/30   MSE: 0.32646294919124774\n",
      "Running step 17/30   MSE: 0.32566062766586573\n",
      "Running step 18/30   MSE: 0.32591639502606423\n",
      "Running step 19/30   MSE: 0.3256574586645556\n",
      "Running step 20/30   MSE: 0.324940472775725\n",
      "Running step 21/30   MSE: 0.32413236575064613\n",
      "Running step 22/30   MSE: 0.32785049710673503\n",
      "Running step 23/30   MSE: 0.3270265096569734\n",
      "Running step 24/30   MSE: 0.32874282571528124\n",
      "Running step 25/30   MSE: 0.33098670372332123\n",
      "Running step 26/30   MSE: 0.32485662729898246\n",
      "Running step 27/30   MSE: 0.32854613168192953\n",
      "Running step 28/30   MSE: 0.3301375373596404\n",
      "Running step 29/30   MSE: 0.32943771566486957\n",
      "Running step 30/30   MSE: 0.327763639698166\n"
     ]
    },
    {
     "data": {
      "image/png": "[encoded data removed]",
      "text/plain": [
       "<Figure size 640x480 with 1 Axes>"
      ]
     },
     "metadata": {},
     "output_type": "display_data"
    }
   ],
   "source": [
    "surface_scan(['BIRC2'], 30)"
   ]
  },
  {
   "cell_type": "code",
   "execution_count": 6,
   "metadata": {},
   "outputs": [
    {
     "name": "stdout",
     "output_type": "stream",
     "text": [
      "Scanning 2-D surface over 20 steps …\n",
      "Running step 1/20   MSE: 0.3460633787536347\n",
      "Running step 2/20   MSE: 0.3436182830139954\n",
      "Running step 3/20   MSE: 0.34124121205460123\n",
      "Running step 4/20   MSE: 0.3402175137675824\n",
      "Running step 5/20   MSE: 0.3398595236157528\n",
      "Running step 6/20   MSE: 0.33507091952735285\n",
      "Running step 7/20   MSE: 0.3337840386782617\n",
      "Running step 8/20   MSE: 0.33362569628172145\n",
      "Running step 9/20   MSE: 0.3327297158477007\n",
      "Running step 10/20   MSE: 0.3308067484852421\n",
      "Running step 11/20   MSE: 0.3297423108304388\n",
      "Running step 12/20   MSE: 0.32520624638965984\n",
      "Running step 13/20   MSE: 0.3257701136817142\n",
      "Running step 14/20   MSE: 0.3274876881676144\n",
      "Running step 15/20   MSE: 0.325396175284038\n",
      "Running step 16/20   MSE: 0.3265910446549645\n",
      "Running step 17/20   MSE: 0.32577573942617594\n",
      "Running step 18/20   MSE: 0.3236072989953158\n",
      "Running step 19/20   MSE: 0.3205850428843287\n",
      "Running step 20/20   MSE: 0.3199839009478166\n",
      "Running step 21/20   MSE: 0.3464256464994978\n",
      "Running step 22/20   MSE: 0.3441567737103107\n",
      "Running step 23/20   MSE: 0.3427925152348265\n",
      "Running step 24/20   MSE: 0.33918983678537296\n",
      "Running step 25/20   MSE: 0.33835976146060104\n",
      "Running step 26/20   MSE: 0.3359655730727281\n",
      "Running step 27/20   MSE: 0.3351188048106014\n",
      "Running step 28/20   MSE: 0.33357393517858\n",
      "Running step 29/20   MSE: 0.3317765278036531\n",
      "Running step 30/20   MSE: 0.33087799904854165\n",
      "Running step 31/20   MSE: 0.32953253957021766\n",
      "Running step 32/20   MSE: 0.3282010982224464\n",
      "Running step 33/20   MSE: 0.3276945540121703\n",
      "Running step 34/20   MSE: 0.32818780018418464\n",
      "Running step 35/20   MSE: 0.3231829619475273\n",
      "Running step 36/20   MSE: 0.32739807641170054\n",
      "Running step 37/20   MSE: 0.3253467247750062\n",
      "Running step 38/20   MSE: 0.3221419757621702\n",
      "Running step 39/20   MSE: 0.3238080416264836\n",
      "Running step 40/20   MSE: 0.32260320397924075\n",
      "Running step 41/20   MSE: 0.3465635340594227\n",
      "Running step 42/20   MSE: 0.34390008682433637\n",
      "Running step 43/20   MSE: 0.3419317864670521\n",
      "Running step 44/20   MSE: 0.3396184485453356\n",
      "Running step 45/20   MSE: 0.3373647181183875\n",
      "Running step 46/20   MSE: 0.3352532404835641\n",
      "Running step 47/20   MSE: 0.3356114303081937\n",
      "Running step 48/20   MSE: 0.3337699536811571\n",
      "Running step 49/20   MSE: 0.3339014265830903\n",
      "Running step 50/20   MSE: 0.3283752899701731\n",
      "Running step 51/20   MSE: 0.33017444563552534\n",
      "Running step 52/20   MSE: 0.3321752808060007\n",
      "Running step 53/20   MSE: 0.32784785669387984\n",
      "Running step 54/20   MSE: 0.3281356635676223\n",
      "Running step 55/20   MSE: 0.3274727538089019\n",
      "Running step 56/20   MSE: 0.32565511276513914\n",
      "Running step 57/20   MSE: 0.32869914515872695\n",
      "Running step 58/20   MSE: 0.32052546022656\n",
      "Running step 59/20   MSE: 0.32305834793144916\n",
      "Running step 60/20   MSE: 0.32287191938473353\n",
      "Running step 61/20   MSE: 0.34635022201277066\n",
      "Running step 62/20   MSE: 0.34412648845741317\n",
      "Running step 63/20   MSE: 0.34222359522191953\n",
      "Running step 64/20   MSE: 0.33989684133311127\n",
      "Running step 65/20   MSE: 0.3382376002825248\n",
      "Running step 66/20   MSE: 0.33493165038738104\n",
      "Running step 67/20   MSE: 0.3336327435884999\n",
      "Running step 68/20   MSE: 0.33201498489328857\n",
      "Running step 69/20   MSE: 0.32923656386904093\n",
      "Running step 70/20   MSE: 0.3309228033942573\n",
      "Running step 71/20   MSE: 0.33054876723798843\n",
      "Running step 72/20   MSE: 0.3288676538084245\n",
      "Running step 73/20   MSE: 0.3263315742812883\n",
      "Running step 74/20   MSE: 0.32920591571543084\n",
      "Running step 75/20   MSE: 0.32501916373200107\n",
      "Running step 76/20   MSE: 0.3282045966729569\n",
      "Running step 77/20   MSE: 0.32489393918932774\n",
      "Running step 78/20   MSE: 0.32066939802303795\n",
      "Running step 79/20   MSE: 0.3235632073880269\n",
      "Running step 80/20   MSE: 0.3243837733266878\n",
      "Running step 81/20   MSE: 0.34614552224139034\n",
      "Running step 82/20   MSE: 0.343959943505373\n",
      "Running step 83/20   MSE: 0.3411922703674861\n",
      "Running step 84/20   MSE: 0.340534703882192\n",
      "Running step 85/20   MSE: 0.3392624280520213\n",
      "Running step 86/20   MSE: 0.33682816073025595\n",
      "Running step 87/20   MSE: 0.3351856024263321\n",
      "Running step 88/20   MSE: 0.33073245702745513\n",
      "Running step 89/20   MSE: 0.32972241936932833\n",
      "Running step 90/20   MSE: 0.33144610840372174\n",
      "Running step 91/20   MSE: 0.3272358610717156\n",
      "Running step 92/20   MSE: 0.3303950279462759\n",
      "Running step 93/20   MSE: 0.32647531323179335\n",
      "Running step 94/20   MSE: 0.3240061674408546\n",
      "Running step 95/20   MSE: 0.3247509875879279\n",
      "Running step 96/20   MSE: 0.32646968472325055\n",
      "Running step 97/20   MSE: 0.3223524958999575\n",
      "Running step 98/20   MSE: 0.32381409809179545\n",
      "Running step 99/20   MSE: 0.3238224405622275\n",
      "Running step 100/20   MSE: 0.319059860701749\n",
      "Running step 101/20   MSE: 0.3465099134621029\n",
      "Running step 102/20   MSE: 0.34393671929300074\n",
      "Running step 103/20   MSE: 0.34183737913257256\n",
      "Running step 104/20   MSE: 0.33912562407230096\n",
      "Running step 105/20   MSE: 0.3376827558730049\n",
      "Running step 106/20   MSE: 0.3345532284353166\n",
      "Running step 107/20   MSE: 0.33430610959890233\n",
      "Running step 108/20   MSE: 0.3343660994920944\n",
      "Running step 109/20   MSE: 0.3344308989012911\n",
      "Running step 110/20   MSE: 0.3287173583868024\n",
      "Running step 111/20   MSE: 0.3286181746277105\n",
      "Running step 112/20   MSE: 0.32878099464575256\n",
      "Running step 113/20   MSE: 0.3294627701044273\n",
      "Running step 114/20   MSE: 0.3250385807806664\n",
      "Running step 115/20   MSE: 0.32125917148056365\n",
      "Running step 116/20   MSE: 0.32430755021756247\n",
      "Running step 117/20   MSE: 0.3197078882662945\n",
      "Running step 118/20   MSE: 0.32314657082019194\n",
      "Running step 119/20   MSE: 0.32645581932482093\n",
      "Running step 120/20   MSE: 0.321511057897732\n",
      "Running step 121/20   MSE: 0.34646210247744835\n",
      "Running step 122/20   MSE: 0.343646925232685\n",
      "Running step 123/20   MSE: 0.34200370308286543\n",
      "Running step 124/20   MSE: 0.3396059489113487\n",
      "Running step 125/20   MSE: 0.3391159164303376\n",
      "Running step 126/20   MSE: 0.3360104888930089\n",
      "Running step 127/20   MSE: 0.3341732132904417\n",
      "Running step 128/20   MSE: 0.3324365070922492\n",
      "Running step 129/20   MSE: 0.3298606161008196\n",
      "Running step 130/20   MSE: 0.32905477260852584\n",
      "Running step 131/20   MSE: 0.3272022575906928\n",
      "Running step 132/20   MSE: 0.32842417624569226\n",
      "Running step 133/20   MSE: 0.330813028850625\n",
      "Running step 134/20   MSE: 0.3238548728533327\n",
      "Running step 135/20   MSE: 0.3257786754111208\n",
      "Running step 136/20   MSE: 0.32080111878935885\n",
      "Running step 137/20   MSE: 0.3290794533816269\n",
      "Running step 138/20   MSE: 0.3259718858151127\n",
      "Running step 139/20   MSE: 0.32276797620494363\n",
      "Running step 140/20   MSE: 0.3255492642836618\n",
      "Running step 141/20   MSE: 0.3462613400947248\n",
      "Running step 142/20   MSE: 0.34344138727331514\n",
      "Running step 143/20   MSE: 0.34202784763047933\n",
      "Running step 144/20   MSE: 0.33932013749750445\n",
      "Running step 145/20   MSE: 0.3378996643357118\n",
      "Running step 146/20   MSE: 0.33383927399950725\n",
      "Running step 147/20   MSE: 0.33272977257341296\n",
      "Running step 148/20   MSE: 0.33493022075459405\n",
      "Running step 149/20   MSE: 0.331304023737914\n",
      "Running step 150/20   MSE: 0.3305939024520813\n",
      "Running step 151/20   MSE: 0.3268292551106446\n",
      "Running step 152/20   MSE: 0.32886016629430626\n",
      "Running step 153/20   MSE: 0.3291879465225436\n",
      "Running step 154/20   MSE: 0.3290312826618533\n",
      "Running step 155/20   MSE: 0.32577933792815145\n",
      "Running step 156/20   MSE: 0.3230776264992058\n",
      "Running step 157/20   MSE: 0.32099262802910494\n",
      "Running step 158/20   MSE: 0.32043459520017753\n",
      "Running step 159/20   MSE: 0.3273733241179685\n",
      "Running step 160/20   MSE: 0.32359688712982676\n",
      "Running step 161/20   MSE: 0.34630848972232703\n",
      "Running step 162/20   MSE: 0.3433571262797249\n",
      "Running step 163/20   MSE: 0.34192748499918024\n",
      "Running step 164/20   MSE: 0.3394070237944919\n",
      "Running step 165/20   MSE: 0.33736282245945975\n",
      "Running step 166/20   MSE: 0.3367632953887545\n",
      "Running step 167/20   MSE: 0.3333546273009395\n",
      "Running step 168/20   MSE: 0.33198168969530284\n",
      "Running step 169/20   MSE: 0.3311570636030409\n",
      "Running step 170/20   MSE: 0.32948243599732585\n",
      "Running step 171/20   MSE: 0.3277443019769956\n",
      "Running step 172/20   MSE: 0.32875615060414076\n",
      "Running step 173/20   MSE: 0.3259430532503286\n",
      "Running step 174/20   MSE: 0.3242925014952738\n",
      "Running step 175/20   MSE: 0.32355959051789596\n",
      "Running step 176/20   MSE: 0.3241407286949329\n",
      "Running step 177/20   MSE: 0.3220600146407249\n",
      "Running step 178/20   MSE: 0.32290831070649717\n",
      "Running step 179/20   MSE: 0.3235496375050412\n",
      "Running step 180/20   MSE: 0.3196995329186741\n",
      "Running step 181/20   MSE: 0.3464958351980611\n",
      "Running step 182/20   MSE: 0.344212529005548\n",
      "Running step 183/20   MSE: 0.3418468692338954\n",
      "Running step 184/20   MSE: 0.3391566870698848\n",
      "Running step 185/20   MSE: 0.33795670412455364\n",
      "Running step 186/20   MSE: 0.3359388908199634\n",
      "Running step 187/20   MSE: 0.3356098965183955\n",
      "Running step 188/20   MSE: 0.33360946640878264\n",
      "Running step 189/20   MSE: 0.33131971469815497\n",
      "Running step 190/20   MSE: 0.33164575378729183\n",
      "Running step 191/20   MSE: 0.3302766504640162\n",
      "Running step 192/20   MSE: 0.32869860483373997\n",
      "Running step 193/20   MSE: 0.33023251440599977\n",
      "Running step 194/20   MSE: 0.322604415800045\n",
      "Running step 195/20   MSE: 0.3260107600924612\n",
      "Running step 196/20   MSE: 0.3230458320898251\n",
      "Running step 197/20   MSE: 0.3264228398624466\n",
      "Running step 198/20   MSE: 0.32085163105021974\n",
      "Running step 199/20   MSE: 0.32318936991763864\n",
      "Running step 200/20   MSE: 0.31916346560254016\n",
      "Running step 201/20   MSE: 0.34619228607737873\n",
      "Running step 202/20   MSE: 0.34355585468025907\n",
      "Running step 203/20   MSE: 0.34215748577449623\n",
      "Running step 204/20   MSE: 0.33939929219652837\n",
      "Running step 205/20   MSE: 0.3379222065254378\n",
      "Running step 206/20   MSE: 0.33625077118829205\n",
      "Running step 207/20   MSE: 0.33495154100769603\n",
      "Running step 208/20   MSE: 0.33528107990919775\n",
      "Running step 209/20   MSE: 0.3314757557540947\n",
      "Running step 210/20   MSE: 0.3297905493189372\n",
      "Running step 211/20   MSE: 0.33052920959849513\n",
      "Running step 212/20   MSE: 0.33083578603126995\n",
      "Running step 213/20   MSE: 0.3240879183989959\n",
      "Running step 214/20   MSE: 0.3261320882890764\n",
      "Running step 215/20   MSE: 0.3279092429711295\n",
      "Running step 216/20   MSE: 0.3204463349697019\n",
      "Running step 217/20   MSE: 0.32562208506440077\n",
      "Running step 218/20   MSE: 0.3193161707517669\n",
      "Running step 219/20   MSE: 0.3207218811914341\n",
      "Running step 220/20   MSE: 0.3190218495930379\n",
      "Running step 221/20   MSE: 0.3463669489693846\n",
      "Running step 222/20   MSE: 0.34385619459539685\n",
      "Running step 223/20   MSE: 0.3416382742746534\n",
      "Running step 224/20   MSE: 0.33991605536334096\n",
      "Running step 225/20   MSE: 0.3382526797841978\n",
      "Running step 226/20   MSE: 0.3368651687730953\n",
      "Running step 227/20   MSE: 0.3329055336537949\n",
      "Running step 228/20   MSE: 0.33317596559195245\n",
      "Running step 229/20   MSE: 0.3323684664375761\n",
      "Running step 230/20   MSE: 0.3274776714721567\n",
      "Running step 231/20   MSE: 0.328186719473585\n",
      "Running step 232/20   MSE: 0.32782328036226605\n",
      "Running step 233/20   MSE: 0.3263256845148395\n",
      "Running step 234/20   MSE: 0.32536899701581856\n",
      "Running step 235/20   MSE: 0.32291320571423787\n",
      "Running step 236/20   MSE: 0.32284289359496104\n",
      "Running step 237/20   MSE: 0.3236524194342129\n",
      "Running step 238/20   MSE: 0.3173543005744787\n",
      "Running step 239/20   MSE: 0.32446270830418067\n",
      "Running step 240/20   MSE: 0.3204735223572987\n",
      "Running step 241/20   MSE: 0.34656636159936766\n",
      "Running step 242/20   MSE: 0.3439108365983693\n",
      "Running step 243/20   MSE: 0.34227762252596255\n",
      "Running step 244/20   MSE: 0.33976266279807066\n",
      "Running step 245/20   MSE: 0.3377011485297936\n",
      "Running step 246/20   MSE: 0.3370218092891036\n",
      "Running step 247/20   MSE: 0.33268947184962055\n",
      "Running step 248/20   MSE: 0.3319437538094174\n",
      "Running step 249/20   MSE: 0.3291458197240725\n",
      "Running step 250/20   MSE: 0.3299907176578794\n",
      "Running step 251/20   MSE: 0.32990145844389596\n",
      "Running step 252/20   MSE: 0.3255516466396612\n",
      "Running step 253/20   MSE: 0.3273361823098325\n",
      "Running step 254/20   MSE: 0.3281728915824344\n",
      "Running step 255/20   MSE: 0.3257728017592446\n",
      "Running step 256/20   MSE: 0.32680756514864195\n",
      "Running step 257/20   MSE: 0.3212328822782462\n",
      "Running step 258/20   MSE: 0.32573390002493063\n",
      "Running step 259/20   MSE: 0.32030696076518733\n",
      "Running step 260/20   MSE: 0.32023218870546577\n",
      "Running step 261/20   MSE: 0.346791444680087\n",
      "Running step 262/20   MSE: 0.34386232361990504\n",
      "Running step 263/20   MSE: 0.34175091455399087\n",
      "Running step 264/20   MSE: 0.3394521577019168\n",
      "Running step 265/20   MSE: 0.33863769140599453\n",
      "Running step 266/20   MSE: 0.33577653114447886\n",
      "Running step 267/20   MSE: 0.33696499163673943\n",
      "Running step 268/20   MSE: 0.33463904715102066\n",
      "Running step 269/20   MSE: 0.33268962818562026\n",
      "Running step 270/20   MSE: 0.3289569710551547\n",
      "Running step 271/20   MSE: 0.32897917247541403\n",
      "Running step 272/20   MSE: 0.325455008991962\n",
      "Running step 273/20   MSE: 0.32626007192766576\n",
      "Running step 274/20   MSE: 0.3267213218471168\n",
      "Running step 275/20   MSE: 0.32487606662305546\n",
      "Running step 276/20   MSE: 0.32263553069817186\n",
      "Running step 277/20   MSE: 0.32459105868463445\n",
      "Running step 278/20   MSE: 0.3232600513594401\n",
      "Running step 279/20   MSE: 0.3231011594188886\n",
      "Running step 280/20   MSE: 0.3212424623825384\n",
      "Running step 281/20   MSE: 0.3465240052342545\n",
      "Running step 282/20   MSE: 0.34394170376981525\n",
      "Running step 283/20   MSE: 0.3417828441933631\n",
      "Running step 284/20   MSE: 0.33992475224662627\n",
      "Running step 285/20   MSE: 0.3385122494839963\n",
      "Running step 286/20   MSE: 0.3352632955308444\n",
      "Running step 287/20   MSE: 0.33502201806950693\n",
      "Running step 288/20   MSE: 0.33316805431731555\n",
      "Running step 289/20   MSE: 0.3325416584737914\n",
      "Running step 290/20   MSE: 0.32871023154723567\n",
      "Running step 291/20   MSE: 0.3291751873197269\n",
      "Running step 292/20   MSE: 0.3269341531499668\n",
      "Running step 293/20   MSE: 0.32481676047854596\n",
      "Running step 294/20   MSE: 0.3286530141517736\n",
      "Running step 295/20   MSE: 0.3236194249774006\n",
      "Running step 296/20   MSE: 0.31891990214032967\n",
      "Running step 297/20   MSE: 0.32052948342863413\n",
      "Running step 298/20   MSE: 0.3231293441208942\n",
      "Running step 299/20   MSE: 0.32187129089587413\n",
      "Running step 300/20   MSE: 0.3200344959799114\n",
      "Running step 301/20   MSE: 0.3464564879218877\n",
      "Running step 302/20   MSE: 0.3441070879091264\n",
      "Running step 303/20   MSE: 0.3413868229947305\n",
      "Running step 304/20   MSE: 0.3398989552662929\n",
      "Running step 305/20   MSE: 0.3361991860513755\n",
      "Running step 306/20   MSE: 0.3351440554516933\n",
      "Running step 307/20   MSE: 0.33525767221448105\n",
      "Running step 308/20   MSE: 0.33348547837995124\n",
      "Running step 309/20   MSE: 0.33438473331893254\n",
      "Running step 310/20   MSE: 0.33002756755493223\n",
      "Running step 311/20   MSE: 0.32687410765464614\n",
      "Running step 312/20   MSE: 0.3253769201873207\n",
      "Running step 313/20   MSE: 0.32479642738500714\n",
      "Running step 314/20   MSE: 0.32368131476161455\n",
      "Running step 315/20   MSE: 0.32384501356535345\n",
      "Running step 316/20   MSE: 0.3242123042544353\n",
      "Running step 317/20   MSE: 0.32342213384642504\n",
      "Running step 318/20   MSE: 0.32281970615582356\n",
      "Running step 319/20   MSE: 0.3219451131322524\n",
      "Running step 320/20   MSE: 0.32018859186818505\n",
      "Running step 321/20   MSE: 0.34659466671665834\n",
      "Running step 322/20   MSE: 0.34408595088180627\n",
      "Running step 323/20   MSE: 0.3419335845652388\n",
      "Running step 324/20   MSE: 0.3387129444665787\n",
      "Running step 325/20   MSE: 0.3367750717710537\n",
      "Running step 326/20   MSE: 0.3348003745976854\n",
      "Running step 327/20   MSE: 0.3321197091964013\n",
      "Running step 328/20   MSE: 0.33217889895763764\n",
      "Running step 329/20   MSE: 0.33260230029488097\n",
      "Running step 330/20   MSE: 0.3333387561825767\n",
      "Running step 331/20   MSE: 0.32812048300689717\n",
      "Running step 332/20   MSE: 0.32458432869913467\n",
      "Running step 333/20   MSE: 0.32608285669844794\n",
      "Running step 334/20   MSE: 0.3265477938685475\n",
      "Running step 335/20   MSE: 0.3282026720243678\n",
      "Running step 336/20   MSE: 0.32501776604260957\n",
      "Running step 337/20   MSE: 0.3228926773994165\n",
      "Running step 338/20   MSE: 0.3230515463333228\n",
      "Running step 339/20   MSE: 0.31830642481270777\n",
      "Running step 340/20   MSE: 0.3184257730139537\n",
      "Running step 341/20   MSE: 0.34656070705980213\n",
      "Running step 342/20   MSE: 0.34395786889853786\n",
      "Running step 343/20   MSE: 0.34287618609771103\n",
      "Running step 344/20   MSE: 0.33868422757939937\n",
      "Running step 345/20   MSE: 0.3371615447724218\n",
      "Running step 346/20   MSE: 0.33575151289034\n",
      "Running step 347/20   MSE: 0.3368173227181001\n",
      "Running step 348/20   MSE: 0.33418248214725393\n",
      "Running step 349/20   MSE: 0.33128138855500827\n",
      "Running step 350/20   MSE: 0.3278436422839286\n",
      "Running step 351/20   MSE: 0.32897464670263565\n",
      "Running step 352/20   MSE: 0.3268015108165833\n",
      "Running step 353/20   MSE: 0.32464194516331163\n",
      "Running step 354/20   MSE: 0.32702139788253703\n",
      "Running step 355/20   MSE: 0.3230630673706214\n",
      "Running step 356/20   MSE: 0.3272743438484186\n",
      "Running step 357/20   MSE: 0.32045282675104453\n",
      "Running step 358/20   MSE: 0.32497996062569157\n",
      "Running step 359/20   MSE: 0.32167294637638427\n",
      "Running step 360/20   MSE: 0.3249812998883728\n",
      "Running step 361/20   MSE: 0.3466003342240091\n",
      "Running step 362/20   MSE: 0.3434548085434046\n",
      "Running step 363/20   MSE: 0.3423520585151052\n",
      "Running step 364/20   MSE: 0.33944691350709094\n",
      "Running step 365/20   MSE: 0.3382881136113753\n",
      "Running step 366/20   MSE: 0.337277592382379\n",
      "Running step 367/20   MSE: 0.3343528013143631\n",
      "Running step 368/20   MSE: 0.3331385865411994\n",
      "Running step 369/20   MSE: 0.32941851903666824\n",
      "Running step 370/20   MSE: 0.3314520171389995\n",
      "Running step 371/20   MSE: 0.3280446950807129\n",
      "Running step 372/20   MSE: 0.3232389152615392\n",
      "Running step 373/20   MSE: 0.32966695069512963\n",
      "Running step 374/20   MSE: 0.32574165910513836\n",
      "Running step 375/20   MSE: 0.32617982461158807\n",
      "Running step 376/20   MSE: 0.32414286145302607\n",
      "Running step 377/20   MSE: 0.32035744701424446\n",
      "Running step 378/20   MSE: 0.32033580397273326\n",
      "Running step 379/20   MSE: 0.32348679062399344\n",
      "Running step 380/20   MSE: 0.3285335929815698\n",
      "Running step 381/20   MSE: 0.34640325743877687\n",
      "Running step 382/20   MSE: 0.3437807161315739\n",
      "Running step 383/20   MSE: 0.3417445211303324\n",
      "Running step 384/20   MSE: 0.33856821309899265\n",
      "Running step 385/20   MSE: 0.3370471268643239\n",
      "Running step 386/20   MSE: 0.3374949403777364\n",
      "Running step 387/20   MSE: 0.3346965937465006\n",
      "Running step 388/20   MSE: 0.33290239280765715\n",
      "Running step 389/20   MSE: 0.3289909914198976\n",
      "Running step 390/20   MSE: 0.3333069845772591\n",
      "Running step 391/20   MSE: 0.3297078508098945\n",
      "Running step 392/20   MSE: 0.328834922742125\n",
      "Running step 393/20   MSE: 0.3273269470780536\n",
      "Running step 394/20   MSE: 0.3257820376644717\n",
      "Running step 395/20   MSE: 0.32322856381766857\n",
      "Running step 396/20   MSE: 0.321940716278405\n",
      "Running step 397/20   MSE: 0.3271123151974322\n",
      "Running step 398/20   MSE: 0.32178594686914064\n",
      "Running step 399/20   MSE: 0.3194002770145495\n",
      "Running step 400/20   MSE: 0.31885047548620943\n"
     ]
    },
    {
     "data": {
      "image/png": "[encoded data removed]",
      "text/plain": [
       "<Figure size 640x480 with 2 Axes>"
      ]
     },
     "metadata": {},
     "output_type": "display_data"
    }
   ],
   "source": [
    "surface_scan(['CASP8', 'CASP12'], 20)"
   ]
  },
  {
   "cell_type": "code",
   "execution_count": 7,
   "metadata": {},
   "outputs": [
    {
     "name": "stdout",
     "output_type": "stream",
     "text": [
      "Scanning 2-D surface over 20 steps …\n",
      "Running step 1/20   MSE: 0.31489779359093445\n",
      "Running step 2/20   MSE: 0.31572609567153803\n",
      "Running step 3/20   MSE: 0.31985707130946367\n",
      "Running step 4/20   MSE: 0.3192370055538415\n",
      "Running step 5/20   MSE: 0.3141795633078312\n",
      "Running step 6/20   MSE: 0.31643401849723085\n",
      "Running step 7/20   MSE: 0.3167805828900167\n",
      "Running step 8/20   MSE: 0.3141275883934476\n",
      "Running step 9/20   MSE: 0.3146850561834462\n",
      "Running step 10/20   MSE: 0.32167872367025996\n",
      "Running step 11/20   MSE: 0.31545990365815874\n",
      "Running step 12/20   MSE: 0.3178574832696233\n",
      "Running step 13/20   MSE: 0.31183805070435244\n",
      "Running step 14/20   MSE: 0.3177775080506714\n",
      "Running step 15/20   MSE: 0.31833546496649134\n",
      "Running step 16/20   MSE: 0.3138512871006793\n",
      "Running step 17/20   MSE: 0.31567867887666007\n",
      "Running step 18/20   MSE: 0.3162245065972522\n",
      "Running step 19/20   MSE: 0.31673274316102223\n",
      "Running step 20/20   MSE: 0.31483968760612235\n",
      "Running step 21/20   MSE: 0.32365848477487036\n",
      "Running step 22/20   MSE: 0.3226011115726286\n",
      "Running step 23/20   MSE: 0.3193458438481317\n",
      "Running step 24/20   MSE: 0.32104405541034264\n",
      "Running step 25/20   MSE: 0.3196087560421037\n",
      "Running step 26/20   MSE: 0.32239466373678577\n",
      "Running step 27/20   MSE: 0.32056548266569784\n",
      "Running step 28/20   MSE: 0.3196604197044625\n",
      "Running step 29/20   MSE: 0.3212716130446216\n",
      "Running step 30/20   MSE: 0.3200420781763897\n",
      "Running step 31/20   MSE: 0.319815594710955\n",
      "Running step 32/20   MSE: 0.3229311775068368\n",
      "Running step 33/20   MSE: 0.32294640699428523\n",
      "Running step 34/20   MSE: 0.3186763000860902\n",
      "Running step 35/20   MSE: 0.32123694763604854\n",
      "Running step 36/20   MSE: 0.32820181418731853\n",
      "Running step 37/20   MSE: 0.32253827171767446\n",
      "Running step 38/20   MSE: 0.32593553590169516\n",
      "Running step 39/20   MSE: 0.3225998006220459\n",
      "Running step 40/20   MSE: 0.3174542154965026\n",
      "Running step 41/20   MSE: 0.32156394684542156\n",
      "Running step 42/20   MSE: 0.3205440468204488\n",
      "Running step 43/20   MSE: 0.3230262529101721\n",
      "Running step 44/20   MSE: 0.3242811689339033\n",
      "Running step 45/20   MSE: 0.327197422635705\n",
      "Running step 46/20   MSE: 0.326983120438339\n",
      "Running step 47/20   MSE: 0.3267892731956707\n",
      "Running step 48/20   MSE: 0.326284857152161\n",
      "Running step 49/20   MSE: 0.32022300458177905\n",
      "Running step 50/20   MSE: 0.3199099092172643\n",
      "Running step 51/20   MSE: 0.3244442207944518\n",
      "Running step 52/20   MSE: 0.32368667082413455\n",
      "Running step 53/20   MSE: 0.32258834253429364\n",
      "Running step 54/20   MSE: 0.3195914682712204\n",
      "Running step 55/20   MSE: 0.3198776124381711\n",
      "Running step 56/20   MSE: 0.3189965097365443\n",
      "Running step 57/20   MSE: 0.3230654371904602\n",
      "Running step 58/20   MSE: 0.32213039898056584\n",
      "Running step 59/20   MSE: 0.32121086788629294\n",
      "Running step 60/20   MSE: 0.3202580298844824\n",
      "Running step 61/20   MSE: 0.32415815857420865\n",
      "Running step 62/20   MSE: 0.3226836104923452\n",
      "Running step 63/20   MSE: 0.3254894333548501\n",
      "Running step 64/20   MSE: 0.3245110808626324\n",
      "Running step 65/20   MSE: 0.324989933925257\n",
      "Running step 66/20   MSE: 0.3217588523724995\n",
      "Running step 67/20   MSE: 0.3185496491371979\n",
      "Running step 68/20   MSE: 0.3252069889914811\n",
      "Running step 69/20   MSE: 0.32179363190838417\n",
      "Running step 70/20   MSE: 0.3259526810652643\n",
      "Running step 71/20   MSE: 0.32320787311207205\n",
      "Running step 72/20   MSE: 0.31865658167057564\n",
      "Running step 73/20   MSE: 0.3193359340716741\n",
      "Running step 74/20   MSE: 0.31912537828902027\n",
      "Running step 75/20   MSE: 0.3186691123126296\n",
      "Running step 76/20   MSE: 0.31924683529690917\n",
      "Running step 77/20   MSE: 0.31989356537018276\n",
      "Running step 78/20   MSE: 0.3196265474349248\n",
      "Running step 79/20   MSE: 0.3201188013463089\n",
      "Running step 80/20   MSE: 0.3218506777768384\n",
      "Running step 81/20   MSE: 0.32447276819702914\n",
      "Running step 82/20   MSE: 0.3206739387814187\n",
      "Running step 83/20   MSE: 0.3198722741969844\n",
      "Running step 84/20   MSE: 0.32172250969051225\n",
      "Running step 85/20   MSE: 0.3215237564840174\n",
      "Running step 86/20   MSE: 0.31963858069358897\n",
      "Running step 87/20   MSE: 0.3245518197831613\n",
      "Running step 88/20   MSE: 0.3210051169839796\n",
      "Running step 89/20   MSE: 0.3242877151482319\n",
      "Running step 90/20   MSE: 0.3228559250656428\n",
      "Running step 91/20   MSE: 0.32150981911404786\n",
      "Running step 92/20   MSE: 0.3236574050459329\n",
      "Running step 93/20   MSE: 0.3176384092384677\n",
      "Running step 94/20   MSE: 0.31812184777542807\n",
      "Running step 95/20   MSE: 0.318869285486368\n",
      "Running step 96/20   MSE: 0.3211189888797806\n",
      "Running step 97/20   MSE: 0.31770910142013126\n",
      "Running step 98/20   MSE: 0.3162286124609231\n",
      "Running step 99/20   MSE: 0.3201848732428311\n",
      "Running step 100/20   MSE: 0.31987660132225754\n",
      "Running step 101/20   MSE: 0.31922777548060965\n",
      "Running step 102/20   MSE: 0.322295371744529\n",
      "Running step 103/20   MSE: 0.3205213145481125\n",
      "Running step 104/20   MSE: 0.32391887102454725\n",
      "Running step 105/20   MSE: 0.3219252689669876\n",
      "Running step 106/20   MSE: 0.32122367627934434\n",
      "Running step 107/20   MSE: 0.32130044163709637\n",
      "Running step 108/20   MSE: 0.3265794364325353\n",
      "Running step 109/20   MSE: 0.32261782817115925\n",
      "Running step 110/20   MSE: 0.3219148786806238\n",
      "Running step 111/20   MSE: 0.3215545579047733\n",
      "Running step 112/20   MSE: 0.31655177472834706\n",
      "Running step 113/20   MSE: 0.3219203724139431\n",
      "Running step 114/20   MSE: 0.3194967576260503\n",
      "Running step 115/20   MSE: 0.3194823751824158\n",
      "Running step 116/20   MSE: 0.31935952256585615\n",
      "Running step 117/20   MSE: 0.31966634540993927\n",
      "Running step 118/20   MSE: 0.3213006195152015\n",
      "Running step 119/20   MSE: 0.32490714579248364\n",
      "Running step 120/20   MSE: 0.32032008989635347\n",
      "Running step 121/20   MSE: 0.3226243144519941\n",
      "Running step 122/20   MSE: 0.32391186787605464\n",
      "Running step 123/20   MSE: 0.32581469161794857\n",
      "Running step 124/20   MSE: 0.32248872988112015\n",
      "Running step 125/20   MSE: 0.32253450201710027\n",
      "Running step 126/20   MSE: 0.3228384213907507\n",
      "Running step 127/20   MSE: 0.3234238281372742\n",
      "Running step 128/20   MSE: 0.3223482031743513\n",
      "Running step 129/20   MSE: 0.31994607735819935\n",
      "Running step 130/20   MSE: 0.3213403737496807\n",
      "Running step 131/20   MSE: 0.3207791695078129\n",
      "Running step 132/20   MSE: 0.3219498015929771\n",
      "Running step 133/20   MSE: 0.32417487306812104\n",
      "Running step 134/20   MSE: 0.31899823061047333\n",
      "Running step 135/20   MSE: 0.32317700032686075\n",
      "Running step 136/20   MSE: 0.32547436884373804\n",
      "Running step 137/20   MSE: 0.3206528232407953\n",
      "Running step 138/20   MSE: 0.3257123634575079\n",
      "Running step 139/20   MSE: 0.3179676755012766\n",
      "Running step 140/20   MSE: 0.32023937598522745\n",
      "Running step 141/20   MSE: 0.32255239940398067\n",
      "Running step 142/20   MSE: 0.32245360388335254\n",
      "Running step 143/20   MSE: 0.31906089831179235\n",
      "Running step 144/20   MSE: 0.3230576067191497\n",
      "Running step 145/20   MSE: 0.3244106655490948\n",
      "Running step 146/20   MSE: 0.3206875525937798\n",
      "Running step 147/20   MSE: 0.3242760768242873\n",
      "Running step 148/20   MSE: 0.32308317891305033\n",
      "Running step 149/20   MSE: 0.31755423902589014\n",
      "Running step 150/20   MSE: 0.31793435672736886\n",
      "Running step 151/20   MSE: 0.3208135457704067\n",
      "Running step 152/20   MSE: 0.3201753990318581\n",
      "Running step 153/20   MSE: 0.3211401121884442\n",
      "Running step 154/20   MSE: 0.32314990588671344\n",
      "Running step 155/20   MSE: 0.3217856837484829\n",
      "Running step 156/20   MSE: 0.3225683149466237\n",
      "Running step 157/20   MSE: 0.3204188016280897\n",
      "Running step 158/20   MSE: 0.3207406857117167\n",
      "Running step 159/20   MSE: 0.32438063358690256\n",
      "Running step 160/20   MSE: 0.3224221561464541\n",
      "Running step 161/20   MSE: 0.3244175218040022\n",
      "Running step 162/20   MSE: 0.3262295791759923\n",
      "Running step 163/20   MSE: 0.32139870369443896\n",
      "Running step 164/20   MSE: 0.3202809297859761\n",
      "Running step 165/20   MSE: 0.31934471652708357\n",
      "Running step 166/20   MSE: 0.31863250319574643\n",
      "Running step 167/20   MSE: 0.32426082166441\n",
      "Running step 168/20   MSE: 0.3189424826737193\n",
      "Running step 169/20   MSE: 0.32608882847178655\n",
      "Running step 170/20   MSE: 0.32163696090827587\n",
      "Running step 171/20   MSE: 0.32450580978874866\n",
      "Running step 172/20   MSE: 0.3210489621005258\n",
      "Running step 173/20   MSE: 0.322130522360745\n",
      "Running step 174/20   MSE: 0.32023068268528676\n",
      "Running step 175/20   MSE: 0.32389384277755146\n",
      "Running step 176/20   MSE: 0.3209457008037124\n",
      "Running step 177/20   MSE: 0.3205344249801536\n",
      "Running step 178/20   MSE: 0.3176740210484357\n",
      "Running step 179/20   MSE: 0.3194251167357547\n",
      "Running step 180/20   MSE: 0.320519460250038\n",
      "Running step 181/20   MSE: 0.32227482453151535\n",
      "Running step 182/20   MSE: 0.3214595996339695\n",
      "Running step 183/20   MSE: 0.31874156530551484\n",
      "Running step 184/20   MSE: 0.3194605572420721\n",
      "Running step 185/20   MSE: 0.322572901741332\n",
      "Running step 186/20   MSE: 0.32440019165853334\n",
      "Running step 187/20   MSE: 0.3221422114397961\n",
      "Running step 188/20   MSE: 0.3226310832647409\n",
      "Running step 189/20   MSE: 0.3238039330651782\n",
      "Running step 190/20   MSE: 0.32488718395852567\n",
      "Running step 191/20   MSE: 0.3223404006601531\n",
      "Running step 192/20   MSE: 0.32388625898737705\n",
      "Running step 193/20   MSE: 0.3226331388117144\n",
      "Running step 194/20   MSE: 0.3255428034294614\n",
      "Running step 195/20   MSE: 0.3253164528364865\n",
      "Running step 196/20   MSE: 0.3195378817443788\n",
      "Running step 197/20   MSE: 0.3205974711326783\n",
      "Running step 198/20   MSE: 0.3173004755627497\n",
      "Running step 199/20   MSE: 0.3202408484084738\n",
      "Running step 200/20   MSE: 0.3203064538853784\n",
      "Running step 201/20   MSE: 0.32232668938361414\n",
      "Running step 202/20   MSE: 0.3171119499801473\n",
      "Running step 203/20   MSE: 0.3190427416048591\n",
      "Running step 204/20   MSE: 0.3213949458134602\n",
      "Running step 205/20   MSE: 0.3199280248674727\n",
      "Running step 206/20   MSE: 0.3267983897308007\n",
      "Running step 207/20   MSE: 0.3248707763798832\n",
      "Running step 208/20   MSE: 0.3231272671155358\n",
      "Running step 209/20   MSE: 0.3212119893465154\n",
      "Running step 210/20   MSE: 0.3209152643736335\n",
      "Running step 211/20   MSE: 0.32379019437069684\n",
      "Running step 212/20   MSE: 0.3214128575296385\n",
      "Running step 213/20   MSE: 0.32306266037572834\n",
      "Running step 214/20   MSE: 0.3257350549286491\n",
      "Running step 215/20   MSE: 0.3208691791838464\n",
      "Running step 216/20   MSE: 0.3222492614386061\n",
      "Running step 217/20   MSE: 0.32325397614482065\n",
      "Running step 218/20   MSE: 0.32156747849447664\n",
      "Running step 219/20   MSE: 0.32172437944740856\n",
      "Running step 220/20   MSE: 0.3168099886349873\n",
      "Running step 221/20   MSE: 0.3241604826619324\n",
      "Running step 222/20   MSE: 0.32863171263481755\n",
      "Running step 223/20   MSE: 0.321996269904078\n",
      "Running step 224/20   MSE: 0.3225111408862593\n",
      "Running step 225/20   MSE: 0.3197564854213335\n",
      "Running step 226/20   MSE: 0.32146648150471\n",
      "Running step 227/20   MSE: 0.3246149954985322\n",
      "Running step 228/20   MSE: 0.32088034773386925\n",
      "Running step 229/20   MSE: 0.3241788520356879\n",
      "Running step 230/20   MSE: 0.3193895169702856\n",
      "Running step 231/20   MSE: 0.3255226033064733\n",
      "Running step 232/20   MSE: 0.3221697454575763\n",
      "Running step 233/20   MSE: 0.32523842065480946\n",
      "Running step 234/20   MSE: 0.3235056517200946\n",
      "Running step 235/20   MSE: 0.3163727294459892\n",
      "Running step 236/20   MSE: 0.3221599580546488\n",
      "Running step 237/20   MSE: 0.320396719931197\n",
      "Running step 238/20   MSE: 0.3208789856504718\n",
      "Running step 239/20   MSE: 0.325062186512254\n",
      "Running step 240/20   MSE: 0.32149144424734094\n",
      "Running step 241/20   MSE: 0.32244319844400676\n",
      "Running step 242/20   MSE: 0.3227990507629587\n",
      "Running step 243/20   MSE: 0.323449662270582\n",
      "Running step 244/20   MSE: 0.3210816600368443\n",
      "Running step 245/20   MSE: 0.3249250449513882\n",
      "Running step 246/20   MSE: 0.3239290532965781\n",
      "Running step 247/20   MSE: 0.32330018933655674\n",
      "Running step 248/20   MSE: 0.32059722808015745\n",
      "Running step 249/20   MSE: 0.32194503648551825\n",
      "Running step 250/20   MSE: 0.3243606008313966\n",
      "Running step 251/20   MSE: 0.3216071340846527\n",
      "Running step 252/20   MSE: 0.31947470207743417\n",
      "Running step 253/20   MSE: 0.3218015845767578\n",
      "Running step 254/20   MSE: 0.32177990637001913\n",
      "Running step 255/20   MSE: 0.32266675262581596\n",
      "Running step 256/20   MSE: 0.3187002093287008\n",
      "Running step 257/20   MSE: 0.31757370063705226\n",
      "Running step 258/20   MSE: 0.32082070597091694\n",
      "Running step 259/20   MSE: 0.3234905664582579\n",
      "Running step 260/20   MSE: 0.32372549177851206\n",
      "Running step 261/20   MSE: 0.32184139085345065\n",
      "Running step 262/20   MSE: 0.3203844864086131\n",
      "Running step 263/20   MSE: 0.3218683798006471\n",
      "Running step 264/20   MSE: 0.3203636901424046\n",
      "Running step 265/20   MSE: 0.3232444773968679\n",
      "Running step 266/20   MSE: 0.3215653970584512\n",
      "Running step 267/20   MSE: 0.32251024690470526\n",
      "Running step 268/20   MSE: 0.31920784040022365\n",
      "Running step 269/20   MSE: 0.32655135144888037\n",
      "Running step 270/20   MSE: 0.31775787056404126\n",
      "Running step 271/20   MSE: 0.32226254249917236\n",
      "Running step 272/20   MSE: 0.3211764122305433\n",
      "Running step 273/20   MSE: 0.32261346107053746\n",
      "Running step 274/20   MSE: 0.319088304216182\n",
      "Running step 275/20   MSE: 0.31782954609105585\n",
      "Running step 276/20   MSE: 0.3234373344681517\n",
      "Running step 277/20   MSE: 0.3165796150535153\n",
      "Running step 278/20   MSE: 0.3226228953758493\n",
      "Running step 279/20   MSE: 0.3201899008122027\n",
      "Running step 280/20   MSE: 0.31777730103507135\n",
      "Running step 281/20   MSE: 0.3206936184381542\n",
      "Running step 282/20   MSE: 0.32664992687937033\n",
      "Running step 283/20   MSE: 0.32320235838502953\n",
      "Running step 284/20   MSE: 0.3218078787895695\n",
      "Running step 285/20   MSE: 0.32231465564068645\n",
      "Running step 286/20   MSE: 0.3213550544852733\n",
      "Running step 287/20   MSE: 0.3192026443271464\n",
      "Running step 288/20   MSE: 0.31938868913355434\n",
      "Running step 289/20   MSE: 0.32217747123832946\n",
      "Running step 290/20   MSE: 0.3188234183803668\n",
      "Running step 291/20   MSE: 0.32156624529714045\n",
      "Running step 292/20   MSE: 0.3193837722357649\n",
      "Running step 293/20   MSE: 0.31685392837414256\n",
      "Running step 294/20   MSE: 0.3241796473500648\n",
      "Running step 295/20   MSE: 0.3176210001622023\n",
      "Running step 296/20   MSE: 0.320102938030663\n",
      "Running step 297/20   MSE: 0.3235916993070355\n",
      "Running step 298/20   MSE: 0.3193535807849119\n",
      "Running step 299/20   MSE: 0.31972767648560596\n",
      "Running step 300/20   MSE: 0.32178239681246157\n",
      "Running step 301/20   MSE: 0.3216261831292956\n",
      "Running step 302/20   MSE: 0.32476011858085835\n",
      "Running step 303/20   MSE: 0.32204025845068746\n",
      "Running step 304/20   MSE: 0.3234472412740766\n",
      "Running step 305/20   MSE: 0.32170165924917454\n",
      "Running step 306/20   MSE: 0.32303264236478885\n",
      "Running step 307/20   MSE: 0.3155329265756322\n",
      "Running step 308/20   MSE: 0.3259978594972941\n",
      "Running step 309/20   MSE: 0.32416997832849415\n",
      "Running step 310/20   MSE: 0.32369191488729826\n",
      "Running step 311/20   MSE: 0.3249040032742825\n",
      "Running step 312/20   MSE: 0.32556744601973847\n",
      "Running step 313/20   MSE: 0.3229936022959557\n",
      "Running step 314/20   MSE: 0.3236758720468481\n",
      "Running step 315/20   MSE: 0.3236914873183901\n",
      "Running step 316/20   MSE: 0.3204628121486952\n",
      "Running step 317/20   MSE: 0.3251882997603294\n",
      "Running step 318/20   MSE: 0.31771341724424274\n",
      "Running step 319/20   MSE: 0.3228311489979577\n",
      "Running step 320/20   MSE: 0.31737416523554857\n",
      "Running step 321/20   MSE: 0.3255428769320467\n",
      "Running step 322/20   MSE: 0.3238038044216909\n",
      "Running step 323/20   MSE: 0.3208320088904655\n",
      "Running step 324/20   MSE: 0.3238712735514465\n",
      "Running step 325/20   MSE: 0.32522293338238406\n",
      "Running step 326/20   MSE: 0.3243504374696804\n",
      "Running step 327/20   MSE: 0.3196244824914694\n",
      "Running step 328/20   MSE: 0.3240830570859891\n",
      "Running step 329/20   MSE: 0.31980969970344786\n",
      "Running step 330/20   MSE: 0.32250942123234144\n",
      "Running step 331/20   MSE: 0.32000596018769284\n",
      "Running step 332/20   MSE: 0.3246678548611465\n",
      "Running step 333/20   MSE: 0.32041639371900693\n",
      "Running step 334/20   MSE: 0.3222046950495139\n",
      "Running step 335/20   MSE: 0.323605298205585\n",
      "Running step 336/20   MSE: 0.32221444847421965\n",
      "Running step 337/20   MSE: 0.3175625480437846\n",
      "Running step 338/20   MSE: 0.32546095484364407\n",
      "Running step 339/20   MSE: 0.31885098009802015\n",
      "Running step 340/20   MSE: 0.31931916685798506\n",
      "Running step 341/20   MSE: 0.3258389344681807\n",
      "Running step 342/20   MSE: 0.3210681096478029\n",
      "Running step 343/20   MSE: 0.3256365812622843\n",
      "Running step 344/20   MSE: 0.31973774486545925\n",
      "Running step 345/20   MSE: 0.32651846443144167\n",
      "Running step 346/20   MSE: 0.3266140739765496\n",
      "Running step 347/20   MSE: 0.32007074426251547\n",
      "Running step 348/20   MSE: 0.3221256858848092\n",
      "Running step 349/20   MSE: 0.32232769103238434\n",
      "Running step 350/20   MSE: 0.32239238306141826\n",
      "Running step 351/20   MSE: 0.32013708791691065\n",
      "Running step 352/20   MSE: 0.31851360799744927\n",
      "Running step 353/20   MSE: 0.3225915671232835\n",
      "Running step 354/20   MSE: 0.32470902233154814\n",
      "Running step 355/20   MSE: 0.32459220694929874\n",
      "Running step 356/20   MSE: 0.3217953922143663\n",
      "Running step 357/20   MSE: 0.32474369989137514\n",
      "Running step 358/20   MSE: 0.322410693127072\n",
      "Running step 359/20   MSE: 0.3222102875675736\n",
      "Running step 360/20   MSE: 0.3224746331660179\n",
      "Running step 361/20   MSE: 0.3241735257246996\n",
      "Running step 362/20   MSE: 0.3213628661595794\n",
      "Running step 363/20   MSE: 0.32531568201253214\n",
      "Running step 364/20   MSE: 0.3201699365877119\n",
      "Running step 365/20   MSE: 0.32349705681713287\n",
      "Running step 366/20   MSE: 0.3248764016902904\n",
      "Running step 367/20   MSE: 0.3212074118820387\n",
      "Running step 368/20   MSE: 0.32254096661492976\n",
      "Running step 369/20   MSE: 0.3197442839456575\n",
      "Running step 370/20   MSE: 0.321494255571103\n",
      "Running step 371/20   MSE: 0.3226382623942127\n",
      "Running step 372/20   MSE: 0.3236515281375143\n",
      "Running step 373/20   MSE: 0.32224746997028036\n",
      "Running step 374/20   MSE: 0.31903449175771986\n",
      "Running step 375/20   MSE: 0.32165175855711803\n",
      "Running step 376/20   MSE: 0.3221050836112947\n",
      "Running step 377/20   MSE: 0.3208367548050154\n",
      "Running step 378/20   MSE: 0.32151653491808724\n",
      "Running step 379/20   MSE: 0.3184492384332053\n",
      "Running step 380/20   MSE: 0.3209684797456161\n",
      "Running step 381/20   MSE: 0.32560290794290925\n",
      "Running step 382/20   MSE: 0.3273158692881285\n",
      "Running step 383/20   MSE: 0.32432905104997944\n",
      "Running step 384/20   MSE: 0.3260115338675577\n",
      "Running step 385/20   MSE: 0.3251315307753712\n",
      "Running step 386/20   MSE: 0.3246308547575962\n",
      "Running step 387/20   MSE: 0.3236057990549233\n",
      "Running step 388/20   MSE: 0.32280481793315224\n",
      "Running step 389/20   MSE: 0.32436279524373524\n",
      "Running step 390/20   MSE: 0.3214678842534064\n",
      "Running step 391/20   MSE: 0.31905822275152534\n",
      "Running step 392/20   MSE: 0.32358761877993714\n",
      "Running step 393/20   MSE: 0.3197625138856229\n",
      "Running step 394/20   MSE: 0.32314080963915026\n",
      "Running step 395/20   MSE: 0.32860794641970287\n",
      "Running step 396/20   MSE: 0.3220303622703044\n",
      "Running step 397/20   MSE: 0.32031125428071805\n",
      "Running step 398/20   MSE: 0.32034349736341217\n",
      "Running step 399/20   MSE: 0.3182892680000003\n",
      "Running step 400/20   MSE: 0.31844766252178286\n"
     ]
    },
    {
     "data": {
      "image/png": "[encoded data removed]",
      "text/plain": [
       "<Figure size 640x480 with 2 Axes>"
      ]
     },
     "metadata": {},
     "output_type": "display_data"
    }
   ],
   "source": [
    "surface_scan(['CASP6', 'CASP7'], 20)"
   ]
  },
  {
   "cell_type": "markdown",
   "metadata": {},
   "source": [
    "# Optimize one at a time"
   ]
  },
  {
   "cell_type": "code",
   "execution_count": 25,
   "metadata": {},
   "outputs": [
    {
     "data": {
      "image/png": "[encoded data removed]",
      "text/plain": [
       "<Figure size 800x500 with 1 Axes>"
      ]
     },
     "metadata": {},
     "output_type": "display_data"
    },
    {
     "data": {
      "text/plain": [
       "(array([0.32027189, 0.67932827, 0.5977609 , 0.4870052 , 0.49460216,\n",
       "        0.88484606, 0.7784886 , 0.72131148, 0.73970412, 0.78368653,\n",
       "        0.90803679, 0.83846461, 0.8732507 , 0.89644142, 0.90163934,\n",
       "        0.65693723, 1.        , 0.8952419 , 0.87564974, 0.        ,\n",
       "        0.3802479 , 0.58976409, 0.72970812, 0.74570172, 0.49420232,\n",
       "        0.53898441, 0.6177529 , 0.70371851, 0.70971611, 0.68372651,\n",
       "        0.67612955, 0.66173531, 0.76409436, 0.7684926 , 0.71891244,\n",
       "        0.53218713, 0.5289884 , 0.71491403, 0.37465014, 0.38064774,\n",
       "        0.52938824, 0.65053978, 0.72530988, 0.67013195, 0.71131547,\n",
       "        0.70851659]),\n",
       " {'final_relative_change': 0.013848497438029295,\n",
       "  'converged': True,\n",
       "  'node_analyzed': 'CASP3',\n",
       "  'relative_changes': [2.409638554216864,\n",
       "   1.2048192771084265,\n",
       "   2.7108433734939763,\n",
       "   0.3012048192771122,\n",
       "   0.40160642570281624,\n",
       "   0.2868617326448608,\n",
       "   0.38726333907056487,\n",
       "   0.16733601070950677,\n",
       "   1.0977242302543488,\n",
       "   1.4457831325301207,\n",
       "   0.3012048192771122,\n",
       "   0.20852641334568878,\n",
       "   0.0926784059314234,\n",
       "   0.08032128514056103,\n",
       "   0.15562248995983907,\n",
       "   0.4296598157335185,\n",
       "   0.5157886447751836,\n",
       "   0.01761431691679194,\n",
       "   0.1965757767913745,\n",
       "   0.5106138841078578,\n",
       "   0.46419444009806465,\n",
       "   0.4143054431163473,\n",
       "   0.07202723939235822,\n",
       "   0.3554216867469817,\n",
       "   0.27432808155699595,\n",
       "   0.3260906875364733,\n",
       "   0.12749410339771838,\n",
       "   0.24333788355391794,\n",
       "   0.013848497438029295],\n",
       "  'time_points': [166,\n",
       "   332,\n",
       "   498,\n",
       "   664,\n",
       "   830,\n",
       "   996,\n",
       "   1162,\n",
       "   1328,\n",
       "   1494,\n",
       "   1660,\n",
       "   1826,\n",
       "   1992,\n",
       "   2158,\n",
       "   2324,\n",
       "   2490,\n",
       "   2656,\n",
       "   2822,\n",
       "   2988,\n",
       "   3154,\n",
       "   3320,\n",
       "   3486,\n",
       "   3652,\n",
       "   3818,\n",
       "   3984,\n",
       "   4150,\n",
       "   4316,\n",
       "   4482,\n",
       "   4648,\n",
       "   4814,\n",
       "   4980]})"
      ]
     },
     "execution_count": 25,
     "metadata": {},
     "output_type": "execute_result"
    }
   ],
   "source": [
    "importlib.reload(sys.modules['BNMPy.steady_state'])\n",
    "from BNMPy.steady_state import SteadyStateCalculator\n",
    "\n",
    "calc = SteadyStateCalculator(pbn)\n",
    "calc.set_experimental_conditions(stimuli=['EGF'],inhibitors=['JAK1'])\n",
    "calc.compute_steady_state(method='monte_carlo',n_runs=3,n_steps=5000,p_noise=0.05,analyze_convergence=True,output_node='CASP3')"
   ]
  },
  {
   "cell_type": "code",
   "execution_count": 31,
   "metadata": {},
   "outputs": [],
   "source": [
    "# Configure optimizer\n",
    "from Optimizer.parameter_optimizer import ParameterOptimizer\n",
    "config = {\n",
    "    'pso_params': {\n",
    "        'n_particles': 20,  # 20*number of parameters to optimize\n",
    "        'iters': 100,\n",
    "        'options': {\n",
    "            'c1': 0.5, # Cognitive parameter\n",
    "            'c2': 0.3, # Social parameter\n",
    "            'w': 0.9 # Inertia weight\n",
    "        },\n",
    "        'ftol': 0.00001,\n",
    "        'ftol_iter': 10\n",
    "    },\n",
    "    'steady_state': {\n",
    "        'method': 'monte_carlo',\n",
    "            'monte_carlo_params': {\n",
    "                'n_runs': 3,\n",
    "                'n_steps': 5000,\n",
    "                'p_noise': 0.05\n",
    "            }\n",
    "    },\n",
    "    'max_try': 2,  # Maximum number of attempts if optimization fails\n",
    "    'success_threshold': 1, # threshold for accepting fit,\n",
    "    'display_rules_every': 0  # Display optimized rules every n iterations (0 = disabled)\n",
    "}"
   ]
  },
  {
   "cell_type": "markdown",
   "metadata": {},
   "source": [
    "CASP12\n",
    "#1: ftol = 0.001, ftol_iter = 5\n",
    "MSE = 0.217028, p = 0.8743\n",
    "\n",
    "#2: ftol = 0.00001, ftol_iter = 10\n",
    "MSE = 0.210477, p = 0.9780\n",
    "\n",
    "CASP8\n",
    "#1: ftol = 0.001, ftol_iter = 5\n",
    "MSE = 0.214634, p = 0.0925\n",
    "\n",
    "#2: ftol = 0.00001, ftol_iter = 10\n",
    "MSE = 0.206699, p = 0.0174\n",
    "\n",
    "CASP6\n",
    "#1: ftol = 0.00001, ftol_iter = 10\n",
    "MSE = 0.189035, p = 0.0095\n",
    "\n",
    "CASP7\n",
    "#1: ftol = 0.00001, ftol_iter = 10\n"
   ]
  },
  {
   "cell_type": "code",
   "execution_count": 32,
   "metadata": {},
   "outputs": [
    {
     "name": "stderr",
     "output_type": "stream",
     "text": [
      "2025-07-19 23:03:22,276 - pyswarms.single.global_best - INFO - Optimize for 100 iters with {'c1': 0.5, 'c2': 0.3, 'w': 0.9}\n"
     ]
    },
    {
     "name": "stdout",
     "output_type": "stream",
     "text": [
      "\n",
      "Running optimization using method: particle_swarm\n",
      "Maximum attempts: 2\n",
      "\n",
      "--- Attempt 1/2 ---\n",
      "PSO early stopping enabled:\n",
      "  - Function tolerance: 1e-05\n",
      "  - Tolerance iterations: 10\n",
      "\n",
      "\n",
      "PSO Setup:\n",
      "  - Particles: 20\n",
      "  - Max iterations: 100\n",
      "  - Problem dimensions: 2\n",
      "  - Total function evaluations: 2000\n",
      "\n"
     ]
    },
    {
     "name": "stderr",
     "output_type": "stream",
     "text": [
      "pyswarms.single.global_best:   1%|          |1/100, best_cost=0.215"
     ]
    },
    {
     "name": "stdout",
     "output_type": "stream",
     "text": [
      "PSO Iteration 1: Current best MSE: 0.214874, Global best MSE: 0.214874\n"
     ]
    },
    {
     "name": "stderr",
     "output_type": "stream",
     "text": [
      "pyswarms.single.global_best:   2%|▏         |2/100, best_cost=0.213"
     ]
    },
    {
     "name": "stdout",
     "output_type": "stream",
     "text": [
      "PSO Iteration 2: Current best MSE: 0.212717, Global best MSE: 0.212717\n"
     ]
    },
    {
     "name": "stderr",
     "output_type": "stream",
     "text": [
      "pyswarms.single.global_best:   3%|▎         |3/100, best_cost=0.213"
     ]
    },
    {
     "name": "stdout",
     "output_type": "stream",
     "text": [
      "PSO Iteration 3: Current best MSE: 0.213737, Global best MSE: 0.212717\n"
     ]
    },
    {
     "name": "stderr",
     "output_type": "stream",
     "text": [
      "pyswarms.single.global_best:   4%|▍         |4/100, best_cost=0.213"
     ]
    },
    {
     "name": "stdout",
     "output_type": "stream",
     "text": [
      "PSO Iteration 4: Current best MSE: 0.214828, Global best MSE: 0.212717\n"
     ]
    },
    {
     "name": "stderr",
     "output_type": "stream",
     "text": [
      "pyswarms.single.global_best:   5%|▌         |5/100, best_cost=0.211"
     ]
    },
    {
     "name": "stdout",
     "output_type": "stream",
     "text": [
      "PSO Iteration 5: Current best MSE: 0.211019, Global best MSE: 0.211019\n"
     ]
    },
    {
     "name": "stderr",
     "output_type": "stream",
     "text": [
      "pyswarms.single.global_best:   6%|▌         |6/100, best_cost=0.211"
     ]
    },
    {
     "name": "stdout",
     "output_type": "stream",
     "text": [
      "PSO Iteration 6: Current best MSE: 0.213392, Global best MSE: 0.211019\n"
     ]
    },
    {
     "name": "stderr",
     "output_type": "stream",
     "text": [
      "pyswarms.single.global_best:   7%|▋         |7/100, best_cost=0.211"
     ]
    },
    {
     "name": "stdout",
     "output_type": "stream",
     "text": [
      "PSO Iteration 7: Current best MSE: 0.214694, Global best MSE: 0.211019\n"
     ]
    },
    {
     "name": "stderr",
     "output_type": "stream",
     "text": [
      "pyswarms.single.global_best:   8%|▊         |8/100, best_cost=0.211"
     ]
    },
    {
     "name": "stdout",
     "output_type": "stream",
     "text": [
      "PSO Iteration 8: Current best MSE: 0.213479, Global best MSE: 0.211019\n"
     ]
    },
    {
     "name": "stderr",
     "output_type": "stream",
     "text": [
      "pyswarms.single.global_best:   9%|▉         |9/100, best_cost=0.211"
     ]
    },
    {
     "name": "stdout",
     "output_type": "stream",
     "text": [
      "PSO Iteration 9: Current best MSE: 0.215460, Global best MSE: 0.211019\n"
     ]
    },
    {
     "name": "stderr",
     "output_type": "stream",
     "text": [
      "pyswarms.single.global_best:  10%|█         |10/100, best_cost=0.211"
     ]
    },
    {
     "name": "stdout",
     "output_type": "stream",
     "text": [
      "PSO Iteration 10: Current best MSE: 0.214691, Global best MSE: 0.211019\n"
     ]
    },
    {
     "name": "stderr",
     "output_type": "stream",
     "text": [
      "pyswarms.single.global_best:  11%|█         |11/100, best_cost=0.211"
     ]
    },
    {
     "name": "stdout",
     "output_type": "stream",
     "text": [
      "PSO Iteration 11: Current best MSE: 0.213250, Global best MSE: 0.211019\n"
     ]
    },
    {
     "name": "stderr",
     "output_type": "stream",
     "text": [
      "pyswarms.single.global_best:  12%|█▏        |12/100, best_cost=0.211"
     ]
    },
    {
     "name": "stdout",
     "output_type": "stream",
     "text": [
      "PSO Iteration 12: Current best MSE: 0.213229, Global best MSE: 0.211019\n"
     ]
    },
    {
     "name": "stderr",
     "output_type": "stream",
     "text": [
      "pyswarms.single.global_best:  13%|█▎        |13/100, best_cost=0.21 "
     ]
    },
    {
     "name": "stdout",
     "output_type": "stream",
     "text": [
      "PSO Iteration 13: Current best MSE: 0.210477, Global best MSE: 0.210477\n"
     ]
    },
    {
     "name": "stderr",
     "output_type": "stream",
     "text": [
      "pyswarms.single.global_best:  14%|█▍        |14/100, best_cost=0.21"
     ]
    },
    {
     "name": "stdout",
     "output_type": "stream",
     "text": [
      "PSO Iteration 14: Current best MSE: 0.213070, Global best MSE: 0.210477\n"
     ]
    },
    {
     "name": "stderr",
     "output_type": "stream",
     "text": [
      "pyswarms.single.global_best:  15%|█▌        |15/100, best_cost=0.21"
     ]
    },
    {
     "name": "stdout",
     "output_type": "stream",
     "text": [
      "PSO Iteration 15: Current best MSE: 0.211918, Global best MSE: 0.210477\n"
     ]
    },
    {
     "name": "stderr",
     "output_type": "stream",
     "text": [
      "pyswarms.single.global_best:  16%|█▌        |16/100, best_cost=0.21"
     ]
    },
    {
     "name": "stdout",
     "output_type": "stream",
     "text": [
      "PSO Iteration 16: Current best MSE: 0.212689, Global best MSE: 0.210477\n"
     ]
    },
    {
     "name": "stderr",
     "output_type": "stream",
     "text": [
      "pyswarms.single.global_best:  17%|█▋        |17/100, best_cost=0.21"
     ]
    },
    {
     "name": "stdout",
     "output_type": "stream",
     "text": [
      "PSO Iteration 17: Current best MSE: 0.213134, Global best MSE: 0.210477\n"
     ]
    },
    {
     "name": "stderr",
     "output_type": "stream",
     "text": [
      "pyswarms.single.global_best:  18%|█▊        |18/100, best_cost=0.21"
     ]
    },
    {
     "name": "stdout",
     "output_type": "stream",
     "text": [
      "PSO Iteration 18: Current best MSE: 0.211425, Global best MSE: 0.210477\n"
     ]
    },
    {
     "name": "stderr",
     "output_type": "stream",
     "text": [
      "pyswarms.single.global_best:  19%|█▉        |19/100, best_cost=0.21"
     ]
    },
    {
     "name": "stdout",
     "output_type": "stream",
     "text": [
      "PSO Iteration 19: Current best MSE: 0.211835, Global best MSE: 0.210477\n"
     ]
    },
    {
     "name": "stderr",
     "output_type": "stream",
     "text": [
      "pyswarms.single.global_best:  20%|██        |20/100, best_cost=0.21"
     ]
    },
    {
     "name": "stdout",
     "output_type": "stream",
     "text": [
      "PSO Iteration 20: Current best MSE: 0.212741, Global best MSE: 0.210477\n"
     ]
    },
    {
     "name": "stderr",
     "output_type": "stream",
     "text": [
      "pyswarms.single.global_best:  21%|██        |21/100, best_cost=0.21"
     ]
    },
    {
     "name": "stdout",
     "output_type": "stream",
     "text": [
      "PSO Iteration 21: Current best MSE: 0.213451, Global best MSE: 0.210477\n"
     ]
    },
    {
     "name": "stderr",
     "output_type": "stream",
     "text": [
      "pyswarms.single.global_best:  22%|██▏       |22/100, best_cost=0.21"
     ]
    },
    {
     "name": "stdout",
     "output_type": "stream",
     "text": [
      "PSO Iteration 22: Current best MSE: 0.213469, Global best MSE: 0.210477\n"
     ]
    },
    {
     "name": "stderr",
     "output_type": "stream",
     "text": [
      "pyswarms.single.global_best:  22%|██▏       |22/100, best_cost=0.21\n",
      "2025-07-20 04:38:20,491 - pyswarms.single.global_best - INFO - Optimization finished | best cost: 0.2104766907246181, best pos: [0.73974901 0.016677  ]\n"
     ]
    },
    {
     "name": "stdout",
     "output_type": "stream",
     "text": [
      "PSO Iteration 23: Current best MSE: 0.211214, Global best MSE: 0.210477\n",
      "Total time: 20098.22 seconds\n",
      "\n",
      "Successful optimization found in attempt 1\n",
      "  - MSE: 0.210477\n",
      "\n",
      "--- Optimization finished. Best MSE found: 0.210477 ---\n",
      "\n",
      "--- Optimized PBN Rules ---\n",
      "AKT1 = AktM & AktP, 0.5000\n",
      "AKT1 = AKT1, 0.5000\n",
      "APAF1 = TP53, 0.5000\n",
      "APAF1 = APAF1, 0.5000\n",
      "APC = APAF1 & CASP9 & Mito | ! BIRC2, 0.5000\n",
      "APC = APC, 0.5000\n",
      "AktM = PDPK1 & PIP3, 0.5000\n",
      "AktM = AktM, 0.5000\n",
      "AktP = PDPK1 & PIP3, 0.5000\n",
      "AktP = AktP, 0.5000\n",
      "BAD = TP53 | ! RPS6KA1 | ! AKT1, 0.5000\n",
      "BAD = BAD, 0.5000\n",
      "BCL2L1 = ! TP53 | STAT3 | NFKB1 | ! BAD, 0.5000\n",
      "BCL2L1 = BCL2L1, 0.5000\n",
      "BID = MAPK8 & TP53 | CASP8 & TP53 | ! BCL2L1, 0.5000\n",
      "BID = BID, 0.5000\n",
      "BIRC2 = ! CASP3 & ! CASP6 | NFKB1 | ! Mito, 0.5000\n",
      "BIRC2 = BIRC2, 0.5000\n",
      "CASP12 = CASP7, 0.9780\n",
      "CASP12 = CASP12, 0.0220\n",
      "CASP3 = ! BIRC2 | CASP8 | CASP6 | APC, 0.5000\n",
      "CASP3 = CASP3, 0.5000\n",
      "CASP6 = ! BIRC2 | CASP3, 0.5000\n",
      "CASP6 = CASP6, 0.5000\n",
      "CASP7 = ! BIRC2 | CASP8 | APC, 0.5000\n",
      "CASP7 = CASP7, 0.5000\n",
      "CASP8 = complexIIB | complexIIA | CASP6, 0.0925\n",
      "CASP8 = CASP8, 0.9075\n",
      "CASP9 = ! BIRC2 | ! MAPK1 | CASP3 | CASP12 | ! AKT1, 0.5000\n",
      "CASP9 = CASP9, 0.5000\n",
      "CFLAR = NFKB1, 0.5000\n",
      "CFLAR = CFLAR, 0.5000\n",
      "EGF = EGF, 1.0000\n",
      "EGFR = EGF, 0.5000\n",
      "EGFR = EGFR, 0.5000\n",
      "IKBKB = complexI | PDPK1 | AKT1 | ! TNFAIP3, 0.5000\n",
      "IKBKB = IKBKB, 0.5000\n",
      "JAK1 = EGFR, 0.5000\n",
      "JAK1 = JAK1, 0.5000\n",
      "KRAS = SOS1, 0.5000\n",
      "KRAS = KRAS, 0.5000\n",
      "MAP2K1 = RAF1 | PDPK1, 0.5000\n",
      "MAP2K1 = MAP2K1, 0.5000\n",
      "MAP2K4 = MAP3K1 | ! AKT1, 0.5000\n",
      "MAP2K4 = MAP2K4, 0.5000\n",
      "MAP3K1 = complexI | KRAS, 0.5000\n",
      "MAP3K1 = MAP3K1, 0.5000\n",
      "MAP3K14 = ! BIRC2, 0.5000\n",
      "MAP3K14 = MAP3K14, 0.5000\n",
      "MAPK1 = MAP2K1, 0.5000\n",
      "MAPK1 = MAPK1, 0.5000\n",
      "MAPK8 = MAP2K4, 0.5000\n",
      "MAPK8 = MAPK8, 0.5000\n",
      "MDM2 = TP53 | AKT1, 0.5000\n",
      "MDM2 = MDM2, 0.5000\n",
      "Mito = ! BCL2L1 | BID, 0.5000\n",
      "Mito = Mito, 0.5000\n",
      "NFKB1 = MAP3K14 | ! NFKBIA, 0.5000\n",
      "NFKB1 = NFKB1, 0.5000\n",
      "NFKBIA = NFKB1 | ! IKBKB, 0.5000\n",
      "NFKBIA = NFKBIA, 0.5000\n",
      "PDPK1 = PDPK1, 1.0000\n",
      "PIK3CA = KRAS | EGFR, 0.5000\n",
      "PIK3CA = PIK3CA, 0.5000\n",
      "PIP3 = ! PTEN | PIK3CA, 0.5000\n",
      "PIP3 = PIP3, 0.5000\n",
      "PTEN = TP53, 0.5000\n",
      "PTEN = PTEN, 0.5000\n",
      "RAF1 = KRAS, 0.5000\n",
      "RAF1 = RAF1, 0.5000\n",
      "RPS6KA1 = MAPK1, 0.5000\n",
      "RPS6KA1 = RPS6KA1, 0.5000\n",
      "SOS1 = ! MAPK1 | EGFR, 0.5000\n",
      "SOS1 = SOS1, 0.5000\n",
      "STAT3 = JAK1, 0.5000\n",
      "STAT3 = STAT3, 0.5000\n",
      "TNF = TNF, 1.0000\n",
      "TNFAIP3 = NFKB1, 0.5000\n",
      "TNFAIP3 = TNFAIP3, 0.5000\n",
      "TNFRSF1A = NFKB1 | TNF, 0.5000\n",
      "TNFRSF1A = TNFRSF1A, 0.5000\n",
      "TP53 = ! MDM2 | MAPK8 | MAPK1, 0.5000\n",
      "TP53 = TP53, 0.5000\n",
      "complexI = TNFRSF1A, 0.5000\n",
      "complexI = complexI, 0.5000\n",
      "complexIIA = complexI | ! CFLAR, 0.5000\n",
      "complexIIA = complexIIA, 0.5000\n",
      "complexIIB = complexI | ! BIRC2, 0.5000\n",
      "complexIIB = complexIIB, 0.5000\n",
      "---------------------------\n",
      "\n"
     ]
    }
   ],
   "source": [
    "optimizer = ParameterOptimizer(pbn, '../data/Eduati2020_AsPC1_cleaned.csv', \n",
    "    config=config, \n",
    "    nodes_to_optimize=['CASP12'], \n",
    "    verbose=True)\n",
    "result = optimizer.optimize(method='particle_swarm')"
   ]
  },
  {
   "cell_type": "code",
   "execution_count": 33,
   "metadata": {},
   "outputs": [
    {
     "name": "stderr",
     "output_type": "stream",
     "text": [
      "2025-07-20 04:38:20,505 - pyswarms.single.global_best - INFO - Optimize for 100 iters with {'c1': 0.5, 'c2': 0.3, 'w': 0.9}\n"
     ]
    },
    {
     "name": "stdout",
     "output_type": "stream",
     "text": [
      "\n",
      "Running optimization using method: particle_swarm\n",
      "Maximum attempts: 2\n",
      "\n",
      "--- Attempt 1/2 ---\n",
      "PSO early stopping enabled:\n",
      "  - Function tolerance: 1e-05\n",
      "  - Tolerance iterations: 10\n",
      "\n",
      "\n",
      "PSO Setup:\n",
      "  - Particles: 20\n",
      "  - Max iterations: 100\n",
      "  - Problem dimensions: 2\n",
      "  - Total function evaluations: 2000\n",
      "\n"
     ]
    },
    {
     "name": "stderr",
     "output_type": "stream",
     "text": [
      "pyswarms.single.global_best:   1%|          |1/100, best_cost=0.212"
     ]
    },
    {
     "name": "stdout",
     "output_type": "stream",
     "text": [
      "PSO Iteration 1: Current best MSE: 0.211605, Global best MSE: 0.211605\n"
     ]
    },
    {
     "name": "stderr",
     "output_type": "stream",
     "text": [
      "pyswarms.single.global_best:   2%|▏         |2/100, best_cost=0.208"
     ]
    },
    {
     "name": "stdout",
     "output_type": "stream",
     "text": [
      "PSO Iteration 2: Current best MSE: 0.207577, Global best MSE: 0.207577\n"
     ]
    },
    {
     "name": "stderr",
     "output_type": "stream",
     "text": [
      "pyswarms.single.global_best:   3%|▎         |3/100, best_cost=0.207"
     ]
    },
    {
     "name": "stdout",
     "output_type": "stream",
     "text": [
      "PSO Iteration 3: Current best MSE: 0.206832, Global best MSE: 0.206832\n"
     ]
    },
    {
     "name": "stderr",
     "output_type": "stream",
     "text": [
      "pyswarms.single.global_best:   4%|▍         |4/100, best_cost=0.207"
     ]
    },
    {
     "name": "stdout",
     "output_type": "stream",
     "text": [
      "PSO Iteration 4: Current best MSE: 0.215598, Global best MSE: 0.206832\n"
     ]
    },
    {
     "name": "stderr",
     "output_type": "stream",
     "text": [
      "pyswarms.single.global_best:   5%|▌         |5/100, best_cost=0.207"
     ]
    },
    {
     "name": "stdout",
     "output_type": "stream",
     "text": [
      "PSO Iteration 5: Current best MSE: 0.214414, Global best MSE: 0.206832\n"
     ]
    },
    {
     "name": "stderr",
     "output_type": "stream",
     "text": [
      "pyswarms.single.global_best:   6%|▌         |6/100, best_cost=0.207"
     ]
    },
    {
     "name": "stdout",
     "output_type": "stream",
     "text": [
      "PSO Iteration 6: Current best MSE: 0.211710, Global best MSE: 0.206832\n"
     ]
    },
    {
     "name": "stderr",
     "output_type": "stream",
     "text": [
      "pyswarms.single.global_best:   7%|▋         |7/100, best_cost=0.207"
     ]
    },
    {
     "name": "stdout",
     "output_type": "stream",
     "text": [
      "PSO Iteration 7: Current best MSE: 0.206699, Global best MSE: 0.206699\n"
     ]
    },
    {
     "name": "stderr",
     "output_type": "stream",
     "text": [
      "pyswarms.single.global_best:   8%|▊         |8/100, best_cost=0.207"
     ]
    },
    {
     "name": "stdout",
     "output_type": "stream",
     "text": [
      "PSO Iteration 8: Current best MSE: 0.208870, Global best MSE: 0.206699\n"
     ]
    },
    {
     "name": "stderr",
     "output_type": "stream",
     "text": [
      "pyswarms.single.global_best:   9%|▉         |9/100, best_cost=0.207"
     ]
    },
    {
     "name": "stdout",
     "output_type": "stream",
     "text": [
      "PSO Iteration 9: Current best MSE: 0.213690, Global best MSE: 0.206699\n"
     ]
    },
    {
     "name": "stderr",
     "output_type": "stream",
     "text": [
      "pyswarms.single.global_best:  10%|█         |10/100, best_cost=0.207"
     ]
    },
    {
     "name": "stdout",
     "output_type": "stream",
     "text": [
      "PSO Iteration 10: Current best MSE: 0.208568, Global best MSE: 0.206699\n"
     ]
    },
    {
     "name": "stderr",
     "output_type": "stream",
     "text": [
      "pyswarms.single.global_best:  11%|█         |11/100, best_cost=0.207"
     ]
    },
    {
     "name": "stdout",
     "output_type": "stream",
     "text": [
      "PSO Iteration 11: Current best MSE: 0.207435, Global best MSE: 0.206699\n"
     ]
    },
    {
     "name": "stderr",
     "output_type": "stream",
     "text": [
      "pyswarms.single.global_best:  12%|█▏        |12/100, best_cost=0.207"
     ]
    },
    {
     "name": "stdout",
     "output_type": "stream",
     "text": [
      "PSO Iteration 12: Current best MSE: 0.212977, Global best MSE: 0.206699\n"
     ]
    },
    {
     "name": "stderr",
     "output_type": "stream",
     "text": [
      "pyswarms.single.global_best:  13%|█▎        |13/100, best_cost=0.207"
     ]
    },
    {
     "name": "stdout",
     "output_type": "stream",
     "text": [
      "PSO Iteration 13: Current best MSE: 0.208898, Global best MSE: 0.206699\n"
     ]
    },
    {
     "name": "stderr",
     "output_type": "stream",
     "text": [
      "pyswarms.single.global_best:  14%|█▍        |14/100, best_cost=0.207"
     ]
    },
    {
     "name": "stdout",
     "output_type": "stream",
     "text": [
      "PSO Iteration 14: Current best MSE: 0.210720, Global best MSE: 0.206699\n"
     ]
    },
    {
     "name": "stderr",
     "output_type": "stream",
     "text": [
      "pyswarms.single.global_best:  15%|█▌        |15/100, best_cost=0.207"
     ]
    },
    {
     "name": "stdout",
     "output_type": "stream",
     "text": [
      "PSO Iteration 15: Current best MSE: 0.207472, Global best MSE: 0.206699\n"
     ]
    },
    {
     "name": "stderr",
     "output_type": "stream",
     "text": [
      "pyswarms.single.global_best:  16%|█▌        |16/100, best_cost=0.207"
     ]
    },
    {
     "name": "stdout",
     "output_type": "stream",
     "text": [
      "PSO Iteration 16: Current best MSE: 0.209533, Global best MSE: 0.206699\n"
     ]
    },
    {
     "name": "stderr",
     "output_type": "stream",
     "text": [
      "pyswarms.single.global_best:  16%|█▌        |16/100, best_cost=0.207\n",
      "2025-07-20 08:47:05,055 - pyswarms.single.global_best - INFO - Optimization finished | best cost: 0.20669880201125546, best pos: [0.01371487 0.77365995]\n"
     ]
    },
    {
     "name": "stdout",
     "output_type": "stream",
     "text": [
      "PSO Iteration 17: Current best MSE: 0.215699, Global best MSE: 0.206699\n",
      "Total time: 14924.55 seconds\n",
      "\n",
      "Successful optimization found in attempt 1\n",
      "  - MSE: 0.206699\n",
      "\n",
      "--- Optimization finished. Best MSE found: 0.206699 ---\n",
      "\n",
      "--- Optimized PBN Rules ---\n",
      "AKT1 = AktM & AktP, 0.5000\n",
      "AKT1 = AKT1, 0.5000\n",
      "APAF1 = TP53, 0.5000\n",
      "APAF1 = APAF1, 0.5000\n",
      "APC = APAF1 & CASP9 & Mito | ! BIRC2, 0.5000\n",
      "APC = APC, 0.5000\n",
      "AktM = PDPK1 & PIP3, 0.5000\n",
      "AktM = AktM, 0.5000\n",
      "AktP = PDPK1 & PIP3, 0.5000\n",
      "AktP = AktP, 0.5000\n",
      "BAD = TP53 | ! RPS6KA1 | ! AKT1, 0.5000\n",
      "BAD = BAD, 0.5000\n",
      "BCL2L1 = ! TP53 | STAT3 | NFKB1 | ! BAD, 0.5000\n",
      "BCL2L1 = BCL2L1, 0.5000\n",
      "BID = MAPK8 & TP53 | CASP8 & TP53 | ! BCL2L1, 0.5000\n",
      "BID = BID, 0.5000\n",
      "BIRC2 = ! CASP3 & ! CASP6 | NFKB1 | ! Mito, 0.5000\n",
      "BIRC2 = BIRC2, 0.5000\n",
      "CASP12 = CASP7, 0.9780\n",
      "CASP12 = CASP12, 0.0220\n",
      "CASP3 = ! BIRC2 | CASP8 | CASP6 | APC, 0.5000\n",
      "CASP3 = CASP3, 0.5000\n",
      "CASP6 = ! BIRC2 | CASP3, 0.5000\n",
      "CASP6 = CASP6, 0.5000\n",
      "CASP7 = ! BIRC2 | CASP8 | APC, 0.5000\n",
      "CASP7 = CASP7, 0.5000\n",
      "CASP8 = complexIIB | complexIIA | CASP6, 0.0174\n",
      "CASP8 = CASP8, 0.9826\n",
      "CASP9 = ! BIRC2 | ! MAPK1 | CASP3 | CASP12 | ! AKT1, 0.5000\n",
      "CASP9 = CASP9, 0.5000\n",
      "CFLAR = NFKB1, 0.5000\n",
      "CFLAR = CFLAR, 0.5000\n",
      "EGF = EGF, 1.0000\n",
      "EGFR = EGF, 0.5000\n",
      "EGFR = EGFR, 0.5000\n",
      "IKBKB = complexI | PDPK1 | AKT1 | ! TNFAIP3, 0.5000\n",
      "IKBKB = IKBKB, 0.5000\n",
      "JAK1 = EGFR, 0.5000\n",
      "JAK1 = JAK1, 0.5000\n",
      "KRAS = SOS1, 0.5000\n",
      "KRAS = KRAS, 0.5000\n",
      "MAP2K1 = RAF1 | PDPK1, 0.5000\n",
      "MAP2K1 = MAP2K1, 0.5000\n",
      "MAP2K4 = MAP3K1 | ! AKT1, 0.5000\n",
      "MAP2K4 = MAP2K4, 0.5000\n",
      "MAP3K1 = complexI | KRAS, 0.5000\n",
      "MAP3K1 = MAP3K1, 0.5000\n",
      "MAP3K14 = ! BIRC2, 0.5000\n",
      "MAP3K14 = MAP3K14, 0.5000\n",
      "MAPK1 = MAP2K1, 0.5000\n",
      "MAPK1 = MAPK1, 0.5000\n",
      "MAPK8 = MAP2K4, 0.5000\n",
      "MAPK8 = MAPK8, 0.5000\n",
      "MDM2 = TP53 | AKT1, 0.5000\n",
      "MDM2 = MDM2, 0.5000\n",
      "Mito = ! BCL2L1 | BID, 0.5000\n",
      "Mito = Mito, 0.5000\n",
      "NFKB1 = MAP3K14 | ! NFKBIA, 0.5000\n",
      "NFKB1 = NFKB1, 0.5000\n",
      "NFKBIA = NFKB1 | ! IKBKB, 0.5000\n",
      "NFKBIA = NFKBIA, 0.5000\n",
      "PDPK1 = PDPK1, 1.0000\n",
      "PIK3CA = KRAS | EGFR, 0.5000\n",
      "PIK3CA = PIK3CA, 0.5000\n",
      "PIP3 = ! PTEN | PIK3CA, 0.5000\n",
      "PIP3 = PIP3, 0.5000\n",
      "PTEN = TP53, 0.5000\n",
      "PTEN = PTEN, 0.5000\n",
      "RAF1 = KRAS, 0.5000\n",
      "RAF1 = RAF1, 0.5000\n",
      "RPS6KA1 = MAPK1, 0.5000\n",
      "RPS6KA1 = RPS6KA1, 0.5000\n",
      "SOS1 = ! MAPK1 | EGFR, 0.5000\n",
      "SOS1 = SOS1, 0.5000\n",
      "STAT3 = JAK1, 0.5000\n",
      "STAT3 = STAT3, 0.5000\n",
      "TNF = TNF, 1.0000\n",
      "TNFAIP3 = NFKB1, 0.5000\n",
      "TNFAIP3 = TNFAIP3, 0.5000\n",
      "TNFRSF1A = NFKB1 | TNF, 0.5000\n",
      "TNFRSF1A = TNFRSF1A, 0.5000\n",
      "TP53 = ! MDM2 | MAPK8 | MAPK1, 0.5000\n",
      "TP53 = TP53, 0.5000\n",
      "complexI = TNFRSF1A, 0.5000\n",
      "complexI = complexI, 0.5000\n",
      "complexIIA = complexI | ! CFLAR, 0.5000\n",
      "complexIIA = complexIIA, 0.5000\n",
      "complexIIB = complexI | ! BIRC2, 0.5000\n",
      "complexIIB = complexIIB, 0.5000\n",
      "---------------------------\n",
      "\n"
     ]
    }
   ],
   "source": [
    "optimizer = ParameterOptimizer(pbn, '../data/Eduati2020_AsPC1_cleaned.csv', \n",
    "    config=config, \n",
    "    nodes_to_optimize=['CASP8'], \n",
    "    verbose=True)\n",
    "result = optimizer.optimize(method='particle_swarm')"
   ]
  },
  {
   "cell_type": "code",
   "execution_count": 34,
   "metadata": {},
   "outputs": [
    {
     "name": "stderr",
     "output_type": "stream",
     "text": [
      "2025-07-20 08:47:05,071 - pyswarms.single.global_best - INFO - Optimize for 100 iters with {'c1': 0.5, 'c2': 0.3, 'w': 0.9}\n"
     ]
    },
    {
     "name": "stdout",
     "output_type": "stream",
     "text": [
      "\n",
      "Running optimization using method: particle_swarm\n",
      "Maximum attempts: 2\n",
      "\n",
      "--- Attempt 1/2 ---\n",
      "PSO early stopping enabled:\n",
      "  - Function tolerance: 1e-05\n",
      "  - Tolerance iterations: 10\n",
      "\n",
      "\n",
      "PSO Setup:\n",
      "  - Particles: 20\n",
      "  - Max iterations: 100\n",
      "  - Problem dimensions: 2\n",
      "  - Total function evaluations: 2000\n",
      "\n"
     ]
    },
    {
     "name": "stderr",
     "output_type": "stream",
     "text": [
      "pyswarms.single.global_best:   1%|          |1/100, best_cost=0.203"
     ]
    },
    {
     "name": "stdout",
     "output_type": "stream",
     "text": [
      "PSO Iteration 1: Current best MSE: 0.203386, Global best MSE: 0.203386\n"
     ]
    },
    {
     "name": "stderr",
     "output_type": "stream",
     "text": [
      "pyswarms.single.global_best:   2%|▏         |2/100, best_cost=0.192"
     ]
    },
    {
     "name": "stdout",
     "output_type": "stream",
     "text": [
      "PSO Iteration 2: Current best MSE: 0.192185, Global best MSE: 0.192185\n"
     ]
    },
    {
     "name": "stderr",
     "output_type": "stream",
     "text": [
      "pyswarms.single.global_best:   3%|▎         |3/100, best_cost=0.191"
     ]
    },
    {
     "name": "stdout",
     "output_type": "stream",
     "text": [
      "PSO Iteration 3: Current best MSE: 0.191088, Global best MSE: 0.191088\n"
     ]
    },
    {
     "name": "stderr",
     "output_type": "stream",
     "text": [
      "pyswarms.single.global_best:   4%|▍         |4/100, best_cost=0.191"
     ]
    },
    {
     "name": "stdout",
     "output_type": "stream",
     "text": [
      "PSO Iteration 4: Current best MSE: 0.193528, Global best MSE: 0.191088\n"
     ]
    },
    {
     "name": "stderr",
     "output_type": "stream",
     "text": [
      "pyswarms.single.global_best:   5%|▌         |5/100, best_cost=0.191"
     ]
    },
    {
     "name": "stdout",
     "output_type": "stream",
     "text": [
      "PSO Iteration 5: Current best MSE: 0.192217, Global best MSE: 0.191088\n"
     ]
    },
    {
     "name": "stderr",
     "output_type": "stream",
     "text": [
      "pyswarms.single.global_best:   6%|▌         |6/100, best_cost=0.191"
     ]
    },
    {
     "name": "stdout",
     "output_type": "stream",
     "text": [
      "PSO Iteration 6: Current best MSE: 0.196740, Global best MSE: 0.191088\n"
     ]
    },
    {
     "name": "stderr",
     "output_type": "stream",
     "text": [
      "pyswarms.single.global_best:   7%|▋         |7/100, best_cost=0.191"
     ]
    },
    {
     "name": "stdout",
     "output_type": "stream",
     "text": [
      "PSO Iteration 7: Current best MSE: 0.194912, Global best MSE: 0.191088\n"
     ]
    },
    {
     "name": "stderr",
     "output_type": "stream",
     "text": [
      "pyswarms.single.global_best:   8%|▊         |8/100, best_cost=0.189"
     ]
    },
    {
     "name": "stdout",
     "output_type": "stream",
     "text": [
      "PSO Iteration 8: Current best MSE: 0.189035, Global best MSE: 0.189035\n"
     ]
    },
    {
     "name": "stderr",
     "output_type": "stream",
     "text": [
      "pyswarms.single.global_best:   9%|▉         |9/100, best_cost=0.189"
     ]
    },
    {
     "name": "stdout",
     "output_type": "stream",
     "text": [
      "PSO Iteration 9: Current best MSE: 0.195094, Global best MSE: 0.189035\n"
     ]
    },
    {
     "name": "stderr",
     "output_type": "stream",
     "text": [
      "pyswarms.single.global_best:  10%|█         |10/100, best_cost=0.189"
     ]
    },
    {
     "name": "stdout",
     "output_type": "stream",
     "text": [
      "PSO Iteration 10: Current best MSE: 0.195143, Global best MSE: 0.189035\n"
     ]
    },
    {
     "name": "stderr",
     "output_type": "stream",
     "text": [
      "pyswarms.single.global_best:  11%|█         |11/100, best_cost=0.189"
     ]
    },
    {
     "name": "stdout",
     "output_type": "stream",
     "text": [
      "PSO Iteration 11: Current best MSE: 0.199345, Global best MSE: 0.189035\n"
     ]
    },
    {
     "name": "stderr",
     "output_type": "stream",
     "text": [
      "pyswarms.single.global_best:  12%|█▏        |12/100, best_cost=0.189"
     ]
    },
    {
     "name": "stdout",
     "output_type": "stream",
     "text": [
      "PSO Iteration 12: Current best MSE: 0.202886, Global best MSE: 0.189035\n"
     ]
    },
    {
     "name": "stderr",
     "output_type": "stream",
     "text": [
      "pyswarms.single.global_best:  13%|█▎        |13/100, best_cost=0.189"
     ]
    },
    {
     "name": "stdout",
     "output_type": "stream",
     "text": [
      "PSO Iteration 13: Current best MSE: 0.204611, Global best MSE: 0.189035\n"
     ]
    },
    {
     "name": "stderr",
     "output_type": "stream",
     "text": [
      "pyswarms.single.global_best:  14%|█▍        |14/100, best_cost=0.189"
     ]
    },
    {
     "name": "stdout",
     "output_type": "stream",
     "text": [
      "PSO Iteration 14: Current best MSE: 0.205290, Global best MSE: 0.189035\n"
     ]
    },
    {
     "name": "stderr",
     "output_type": "stream",
     "text": [
      "pyswarms.single.global_best:  15%|█▌        |15/100, best_cost=0.189"
     ]
    },
    {
     "name": "stdout",
     "output_type": "stream",
     "text": [
      "PSO Iteration 15: Current best MSE: 0.196821, Global best MSE: 0.189035\n"
     ]
    },
    {
     "name": "stderr",
     "output_type": "stream",
     "text": [
      "pyswarms.single.global_best:  16%|█▌        |16/100, best_cost=0.189"
     ]
    },
    {
     "name": "stdout",
     "output_type": "stream",
     "text": [
      "PSO Iteration 16: Current best MSE: 0.199482, Global best MSE: 0.189035\n"
     ]
    },
    {
     "name": "stderr",
     "output_type": "stream",
     "text": [
      "pyswarms.single.global_best:  17%|█▋        |17/100, best_cost=0.189"
     ]
    },
    {
     "name": "stdout",
     "output_type": "stream",
     "text": [
      "PSO Iteration 17: Current best MSE: 0.195481, Global best MSE: 0.189035\n"
     ]
    },
    {
     "name": "stderr",
     "output_type": "stream",
     "text": [
      "pyswarms.single.global_best:  17%|█▋        |17/100, best_cost=0.189\n",
      "2025-07-20 13:09:44,541 - pyswarms.single.global_best - INFO - Optimization finished | best cost: 0.18903498863639304, best pos: [0.00457446 0.47914141]\n"
     ]
    },
    {
     "name": "stdout",
     "output_type": "stream",
     "text": [
      "PSO Iteration 18: Current best MSE: 0.194900, Global best MSE: 0.189035\n",
      "Total time: 15759.47 seconds\n",
      "\n",
      "Successful optimization found in attempt 1\n",
      "  - MSE: 0.189035\n",
      "\n",
      "--- Optimization finished. Best MSE found: 0.189035 ---\n",
      "\n",
      "--- Optimized PBN Rules ---\n",
      "AKT1 = AktM & AktP, 0.5000\n",
      "AKT1 = AKT1, 0.5000\n",
      "APAF1 = TP53, 0.5000\n",
      "APAF1 = APAF1, 0.5000\n",
      "APC = APAF1 & CASP9 & Mito | ! BIRC2, 0.5000\n",
      "APC = APC, 0.5000\n",
      "AktM = PDPK1 & PIP3, 0.5000\n",
      "AktM = AktM, 0.5000\n",
      "AktP = PDPK1 & PIP3, 0.5000\n",
      "AktP = AktP, 0.5000\n",
      "BAD = TP53 | ! RPS6KA1 | ! AKT1, 0.5000\n",
      "BAD = BAD, 0.5000\n",
      "BCL2L1 = ! TP53 | STAT3 | NFKB1 | ! BAD, 0.5000\n",
      "BCL2L1 = BCL2L1, 0.5000\n",
      "BID = MAPK8 & TP53 | CASP8 & TP53 | ! BCL2L1, 0.5000\n",
      "BID = BID, 0.5000\n",
      "BIRC2 = ! CASP3 & ! CASP6 | NFKB1 | ! Mito, 0.5000\n",
      "BIRC2 = BIRC2, 0.5000\n",
      "CASP12 = CASP7, 0.9780\n",
      "CASP12 = CASP12, 0.0220\n",
      "CASP3 = ! BIRC2 | CASP8 | CASP6 | APC, 0.5000\n",
      "CASP3 = CASP3, 0.5000\n",
      "CASP6 = ! BIRC2 | CASP3, 0.0095\n",
      "CASP6 = CASP6, 0.9905\n",
      "CASP7 = ! BIRC2 | CASP8 | APC, 0.5000\n",
      "CASP7 = CASP7, 0.5000\n",
      "CASP8 = complexIIB | complexIIA | CASP6, 0.0174\n",
      "CASP8 = CASP8, 0.9826\n",
      "CASP9 = ! BIRC2 | ! MAPK1 | CASP3 | CASP12 | ! AKT1, 0.5000\n",
      "CASP9 = CASP9, 0.5000\n",
      "CFLAR = NFKB1, 0.5000\n",
      "CFLAR = CFLAR, 0.5000\n",
      "EGF = EGF, 1.0000\n",
      "EGFR = EGF, 0.5000\n",
      "EGFR = EGFR, 0.5000\n",
      "IKBKB = complexI | PDPK1 | AKT1 | ! TNFAIP3, 0.5000\n",
      "IKBKB = IKBKB, 0.5000\n",
      "JAK1 = EGFR, 0.5000\n",
      "JAK1 = JAK1, 0.5000\n",
      "KRAS = SOS1, 0.5000\n",
      "KRAS = KRAS, 0.5000\n",
      "MAP2K1 = RAF1 | PDPK1, 0.5000\n",
      "MAP2K1 = MAP2K1, 0.5000\n",
      "MAP2K4 = MAP3K1 | ! AKT1, 0.5000\n",
      "MAP2K4 = MAP2K4, 0.5000\n",
      "MAP3K1 = complexI | KRAS, 0.5000\n",
      "MAP3K1 = MAP3K1, 0.5000\n",
      "MAP3K14 = ! BIRC2, 0.5000\n",
      "MAP3K14 = MAP3K14, 0.5000\n",
      "MAPK1 = MAP2K1, 0.5000\n",
      "MAPK1 = MAPK1, 0.5000\n",
      "MAPK8 = MAP2K4, 0.5000\n",
      "MAPK8 = MAPK8, 0.5000\n",
      "MDM2 = TP53 | AKT1, 0.5000\n",
      "MDM2 = MDM2, 0.5000\n",
      "Mito = ! BCL2L1 | BID, 0.5000\n",
      "Mito = Mito, 0.5000\n",
      "NFKB1 = MAP3K14 | ! NFKBIA, 0.5000\n",
      "NFKB1 = NFKB1, 0.5000\n",
      "NFKBIA = NFKB1 | ! IKBKB, 0.5000\n",
      "NFKBIA = NFKBIA, 0.5000\n",
      "PDPK1 = PDPK1, 1.0000\n",
      "PIK3CA = KRAS | EGFR, 0.5000\n",
      "PIK3CA = PIK3CA, 0.5000\n",
      "PIP3 = ! PTEN | PIK3CA, 0.5000\n",
      "PIP3 = PIP3, 0.5000\n",
      "PTEN = TP53, 0.5000\n",
      "PTEN = PTEN, 0.5000\n",
      "RAF1 = KRAS, 0.5000\n",
      "RAF1 = RAF1, 0.5000\n",
      "RPS6KA1 = MAPK1, 0.5000\n",
      "RPS6KA1 = RPS6KA1, 0.5000\n",
      "SOS1 = ! MAPK1 | EGFR, 0.5000\n",
      "SOS1 = SOS1, 0.5000\n",
      "STAT3 = JAK1, 0.5000\n",
      "STAT3 = STAT3, 0.5000\n",
      "TNF = TNF, 1.0000\n",
      "TNFAIP3 = NFKB1, 0.5000\n",
      "TNFAIP3 = TNFAIP3, 0.5000\n",
      "TNFRSF1A = NFKB1 | TNF, 0.5000\n",
      "TNFRSF1A = TNFRSF1A, 0.5000\n",
      "TP53 = ! MDM2 | MAPK8 | MAPK1, 0.5000\n",
      "TP53 = TP53, 0.5000\n",
      "complexI = TNFRSF1A, 0.5000\n",
      "complexI = complexI, 0.5000\n",
      "complexIIA = complexI | ! CFLAR, 0.5000\n",
      "complexIIA = complexIIA, 0.5000\n",
      "complexIIB = complexI | ! BIRC2, 0.5000\n",
      "complexIIB = complexIIB, 0.5000\n",
      "---------------------------\n",
      "\n"
     ]
    }
   ],
   "source": [
    "optimizer = ParameterOptimizer(pbn, '../data/Eduati2020_AsPC1_cleaned.csv', \n",
    "    config=config, \n",
    "    nodes_to_optimize=['CASP6'], \n",
    "    verbose=True)\n",
    "result = optimizer.optimize(method='particle_swarm')"
   ]
  },
  {
   "cell_type": "code",
   "execution_count": null,
   "metadata": {},
   "outputs": [
    {
     "name": "stderr",
     "output_type": "stream",
     "text": [
      "2025-07-20 13:09:44,561 - pyswarms.single.global_best - INFO - Optimize for 100 iters with {'c1': 0.5, 'c2': 0.3, 'w': 0.9}\n"
     ]
    },
    {
     "name": "stdout",
     "output_type": "stream",
     "text": [
      "\n",
      "Running optimization using method: particle_swarm\n",
      "Maximum attempts: 2\n",
      "\n",
      "--- Attempt 1/2 ---\n",
      "PSO early stopping enabled:\n",
      "  - Function tolerance: 1e-05\n",
      "  - Tolerance iterations: 10\n",
      "\n",
      "\n",
      "PSO Setup:\n",
      "  - Particles: 20\n",
      "  - Max iterations: 100\n",
      "  - Problem dimensions: 2\n",
      "  - Total function evaluations: 2000\n",
      "\n"
     ]
    },
    {
     "name": "stderr",
     "output_type": "stream",
     "text": [
      "pyswarms.single.global_best:   0%|          |0/100"
     ]
    }
   ],
   "source": [
    "optimizer = ParameterOptimizer(pbn, '../data/Eduati2020_AsPC1_cleaned.csv', \n",
    "    config=config, \n",
    "    nodes_to_optimize=['CASP7'], \n",
    "    verbose=True)\n",
    "result = optimizer.optimize(method='particle_swarm')"
   ]
  },
  {
   "cell_type": "code",
   "execution_count": null,
   "metadata": {},
   "outputs": [],
   "source": []
  }
 ],
 "metadata": {
  "kernelspec": {
   "display_name": "logicmodelmerger",
   "language": "python",
   "name": "python3"
  },
  "language_info": {
   "codemirror_mode": {
    "name": "ipython",
    "version": 3
   },
   "file_extension": ".py",
   "mimetype": "text/x-python",
   "name": "python",
   "nbconvert_exporter": "python",
   "pygments_lexer": "ipython3",
   "version": "3.13.1"
  }
 },
 "nbformat": 4,
 "nbformat_minor": 2
}
