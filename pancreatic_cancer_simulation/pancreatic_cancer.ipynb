{
 "cells": [
  {
   "cell_type": "markdown",
   "id": "bea94f52-3735-4e1a-a6c7-b832fe0a9047",
   "metadata": {},
   "source": [
    "# Pancreatic cancer\n",
    "\n",
    "Model based on Vundavilli et al. 2020 https://ieeexplore.ieee.org/document/8476214"
   ]
  },
  {
   "cell_type": "code",
   "execution_count": 1,
   "id": "df35ee11-c299-46d3-b5f4-bfe8a16329a6",
   "metadata": {},
   "outputs": [],
   "source": [
    "import pandas as pd\n",
    "import numpy as np\n",
    "import random\n",
    "import seaborn as sns\n",
    "import matplotlib.pyplot as plt\n",
    "import sys\n",
    "# import booleanNetwork module from ./src\n",
    "from BNMPy import booleanNetwork as bn\n",
    "from BNMPy import BMatrix  "
   ]
  },
  {
   "cell_type": "markdown",
   "id": "9a74c275-7ccd-4145-a0c6-2fc88f5d63ce",
   "metadata": {},
   "source": [
    "## Loading the model"
   ]
  },
  {
   "cell_type": "code",
   "execution_count": 2,
   "id": "41addb18-e052-4b9f-8f7a-4acebe045a31",
   "metadata": {},
   "outputs": [],
   "source": [
    "file = 'input_files/pancreatic_vundavilli_2020_fig3.txt' # Source from PMID: 30281473 DOI: 10.1109/TCBB.2018.2872573\n",
    "\n",
    "equations = BMatrix.get_equations(file)\n",
    "gene_dict = BMatrix.get_gene_dict(equations)\n",
    "upstream_genes = BMatrix.get_upstream_genes(equations)"
   ]
  },
  {
   "cell_type": "code",
   "execution_count": 3,
   "id": "21952092-1e84-4d19-bf50-fc08baba5ac4",
   "metadata": {},
   "outputs": [],
   "source": [
    "with open(file) as f:\n",
    "    file_data = f.read()"
   ]
  },
  {
   "cell_type": "code",
   "execution_count": 4,
   "id": "148935b1-0303-4d92-a0c7-8eb1812eab2c",
   "metadata": {},
   "outputs": [
    {
     "name": "stdout",
     "output_type": "stream",
     "text": [
      "No initial state provided, using a random initial state\n",
      "CPU times: user 153 ms, sys: 13.3 ms, total: 166 ms\n",
      "Wall time: 169 ms\n"
     ]
    }
   ],
   "source": [
    "%%time\n",
    "\n",
    "network = BMatrix.load_network_from_file(file)\n",
    " # create a Boolean network object\n",
    "noise_level = 0.05 # noise\n",
    "y = network.update_noise ( noise_level  , 2000) # simulation with noise"
   ]
  },
  {
   "cell_type": "code",
   "execution_count": 5,
   "id": "916b3c5c-114b-4fd8-b2ec-b65dcccb7215",
   "metadata": {},
   "outputs": [
    {
     "data": {
      "text/plain": [
       "(2001, 38)"
      ]
     },
     "execution_count": 5,
     "metadata": {},
     "output_type": "execute_result"
    }
   ],
   "source": [
    "y.shape"
   ]
  },
  {
   "cell_type": "code",
   "execution_count": 6,
   "id": "8df36561-a0a6-4625-9ab3-2559e5648b2f",
   "metadata": {},
   "outputs": [
    {
     "data": {
      "text/plain": [
       "array([[1, 1, 1, ..., 0, 1, 0],\n",
       "       [1, 1, 1, ..., 1, 1, 1],\n",
       "       [1, 1, 1, ..., 1, 1, 1],\n",
       "       ...,\n",
       "       [1, 0, 0, ..., 1, 1, 1],\n",
       "       [1, 0, 0, ..., 0, 1, 1],\n",
       "       [1, 0, 0, ..., 1, 1, 1]], dtype=int8)"
      ]
     },
     "execution_count": 6,
     "metadata": {},
     "output_type": "execute_result"
    }
   ],
   "source": [
    "y"
   ]
  },
  {
   "attachments": {},
   "cell_type": "markdown",
   "id": "7e402d00-6191-40e7-820b-9daf1498aabc",
   "metadata": {},
   "source": [
    "## Replicating paper\n",
    "\n",
    "Input = [PTEN, LKB1, EGF, HBEGF, IGF, NRG1]\n",
    "\n",
    "Output = [CCND1, BCL2, SRF-ELK1, FOS-JUN, SRF-ELK4, SP1]\n",
    "\n",
    "If outputs are all 0, then this is a lack of cell proliferation and a non-suppression of apoptosis. A network without faults will produce a 0 output. However, a network with faults will produce a nonzero output vector, leading to a proliferative state.\n",
    "\n",
    "Drug = [Cryptotanshinone, LY294002, Temsirolimus, Lapatinib, HO-3867]\n",
    "\n",
    "Faults for every node/gene - they can be either stuck at 0 or stuck at 1.\n",
    "\n",
    "\"Size Difference\" metric = (differences/total entries)^2 (just the square of the hamming distance?)\n",
    "\n",
    "For each fault, and each drug, we calculate the output.\n",
    "\n",
    "I'm not sure what the input is used for these runs?\n",
    "\n",
    "Original code for paper: https://github.com/hashwanthvv/boolean/blob/master/pancreatic_one_fault.m"
   ]
  },
  {
   "cell_type": "code",
   "execution_count": 13,
   "id": "5a4f79ed-c70c-47d6-a982-9d3b9502d898",
   "metadata": {},
   "outputs": [],
   "source": [
    "input_genes = ['PTEN', 'LKB1', 'EGF', 'HBEGF', 'IGF', 'NRG1']\n",
    "output_genes = ['CCND1', 'BCL2', 'SRFELK1', 'FOS-JUN', 'SRFELK4', 'SP1']\n",
    "# stuck at 0 faults\n",
    "fault_genes_0 = set(['TSC1/2', 'BAD', 'GSK3'])\n",
    "# stuck at 1 faults\n",
    "fault_genes = [g for g in network.nodeDict.keys() if g not in input_genes and g not in output_genes]\n"
   ]
  },
  {
   "cell_type": "code",
   "execution_count": 14,
   "id": "6094b690-2f8d-4f1a-9daf-1cd23dfb5299",
   "metadata": {},
   "outputs": [],
   "source": [
    "# TODO: add faults/mutations?\n",
    "# for all inputs, \n",
    "# 1. set inputs\n",
    "network.setInitialValue('PTEN', 1)\n",
    "network.setInitialValue('LKB1', 1)\n",
    "network.setInitialValue('EGF', 0)\n",
    "network.setInitialValue('HBEGF', 0)\n",
    "network.setInitialValue('IGF', 0)\n",
    "network.setInitialValue('NRG1', 0)\n"
   ]
  },
  {
   "cell_type": "code",
   "execution_count": 15,
   "id": "813f3367-0648-4a9d-84f5-bd10e31055e1",
   "metadata": {},
   "outputs": [],
   "source": [
    "results = network.update(10)"
   ]
  },
  {
   "cell_type": "code",
   "execution_count": 16,
   "id": "3936887e-a2f0-43d2-ad18-6686c94f0d93",
   "metadata": {},
   "outputs": [],
   "source": [
    "output_baseline_results = [results[-1, network.nodeDict[k]] for k in output_genes]"
   ]
  },
  {
   "cell_type": "code",
   "execution_count": 17,
   "id": "11f0c6ed-f500-40a9-90df-3a578fe5a38b",
   "metadata": {},
   "outputs": [
    {
     "data": {
      "text/plain": [
       "[0, 0, 0, 0, 0, 0]"
      ]
     },
     "execution_count": 17,
     "metadata": {},
     "output_type": "execute_result"
    }
   ],
   "source": [
    "output_baseline_results"
   ]
  },
  {
   "cell_type": "markdown",
   "id": "7ec57b48-0d59-4de6-8704-10480c755322",
   "metadata": {},
   "source": [
    "The baseline results should be all 0s."
   ]
  },
  {
   "cell_type": "markdown",
   "id": "890579b3-5110-47ce-b813-3cb348a6f31b",
   "metadata": {},
   "source": [
    "### No Drug"
   ]
  },
  {
   "cell_type": "code",
   "execution_count": 18,
   "id": "ebe45bfe-4f80-4932-9fd4-40ad170f0ecd",
   "metadata": {
    "scrolled": true
   },
   "outputs": [
    {
     "name": "stdout",
     "output_type": "stream",
     "text": [
      "0 EGFR\n",
      "1 EFGR\n",
      "2 IGFR1A_B\n",
      "3 ERBB2\n",
      "4 JAK5\n",
      "5 STAT3\n",
      "6 IRS1\n",
      "7 GRB2\n",
      "8 RAS\n",
      "9 MEKK1\n",
      "10 RAF\n",
      "11 MKK4\n",
      "12 MEK1\n",
      "13 PIK3CA\n",
      "14 JNK1\n",
      "15 ERK1_2\n",
      "16 PIP3\n",
      "17 PDPK1\n",
      "18 AKT1\n",
      "19 AMPK\n",
      "20 GSK3\n",
      "21 TSC1_2\n",
      "22 RHEB\n",
      "23 mTOR\n",
      "24 RPS6KB1\n",
      "25 BAD\n"
     ]
    }
   ],
   "source": [
    "all_results = []\n",
    "for i, g1 in enumerate(fault_genes):\n",
    "    print(i, g1)\n",
    "    for j, g2 in enumerate(fault_genes[i+1:]):\n",
    "        for g in fault_genes[j+1:]:\n",
    "            network.undoKnockouts()\n",
    "            network.setInitialValue('PTEN', 1)\n",
    "            network.setInitialValue('LKB1', 1)\n",
    "            network.setInitialValue('EGF', 0)\n",
    "            network.setInitialValue('HBEGF', 0)\n",
    "            network.setInitialValue('IGF', 0)\n",
    "            network.setInitialValue('NRG1', 0)\n",
    "            if g in fault_genes_0:\n",
    "                network.knockout(g, 0)\n",
    "            else:\n",
    "                network.knockout(g, 1)\n",
    "            if g1 in fault_genes_0:\n",
    "                network.knockout(g1, 0)\n",
    "            else:\n",
    "                network.knockout(g1, 1)\n",
    "            if g2 in fault_genes_0:\n",
    "                network.knockout(g2, 0)\n",
    "            else:\n",
    "                network.knockout(g2, 1)\n",
    "            results = network.update(27)\n",
    "            output = [results[-1, network.nodeDict[k]] for k in output_genes]\n",
    "            all_results.append(output)\n",
    "            network.undoKnockouts()"
   ]
  },
  {
   "cell_type": "code",
   "execution_count": 19,
   "id": "2a8bf848-9bc8-41f8-8e0a-cd3341b1f38a",
   "metadata": {},
   "outputs": [],
   "source": [
    "all_results = np.array(all_results)"
   ]
  },
  {
   "cell_type": "code",
   "execution_count": 24,
   "id": "e0d19c3e-133e-4696-975c-214d69508cd5",
   "metadata": {},
   "outputs": [],
   "source": [
    "# calculate size difference without treatment\n",
    "size_difference = all_results.sum(1)**2/6**2"
   ]
  },
  {
   "cell_type": "code",
   "execution_count": 25,
   "id": "e7c472a5-1840-43b7-84a1-a3f60f11400c",
   "metadata": {},
   "outputs": [
    {
     "data": {
      "text/plain": [
       "(array([1129.,  646.,  425.,    0.,  662.,    0., 1988.,    0.,    0.,\n",
       "         675.]),\n",
       " array([0. , 0.1, 0.2, 0.3, 0.4, 0.5, 0.6, 0.7, 0.8, 0.9, 1. ]),\n",
       " <BarContainer object of 10 artists>)"
      ]
     },
     "execution_count": 25,
     "metadata": {},
     "output_type": "execute_result"
    },
    {
     "data": {
      "image/png": "[encoded data removed]",
      "text/plain": [
       "<Figure size 640x480 with 1 Axes>"
      ]
     },
     "metadata": {},
     "output_type": "display_data"
    }
   ],
   "source": [
    "import matplotlib.pyplot as plt\n",
    "plt.hist(size_difference)"
   ]
  },
  {
   "cell_type": "markdown",
   "id": "fbf0c30b-284c-4448-8f3a-58a49a68c58d",
   "metadata": {},
   "source": [
    "### Single drug effects"
   ]
  },
  {
   "cell_type": "code",
   "execution_count": 58,
   "id": "6f2def3e-a57f-4398-b276-08eb2fdd4c74",
   "metadata": {},
   "outputs": [],
   "source": [
    "drugs = ['Untreated', 'Cryptotanshinone', 'LY294002', 'Temsirolimus', 'Lapatinib', 'HO-3867']\n",
    "drug_knockouts = {'Cryptotanshinone': ['STAT3', 'ERK1_2'],\n",
    "                  'LY294002': ['PIK3CA'],\n",
    "                  'Temsirolimus': ['mTOR'], \n",
    "                  'Lapatinib': ['EGFR', 'EFGR', 'ERBB2'],\n",
    "                  'HO-3867': ['STAT3'],\n",
    "                  'Untreated': []\n",
    "                 }"
   ]
  },
  {
   "cell_type": "code",
   "execution_count": 29,
   "id": "73393582-991c-44d6-9b68-8e005de41ccd",
   "metadata": {
    "scrolled": true
   },
   "outputs": [
    {
     "name": "stdout",
     "output_type": "stream",
     "text": [
      "0 EGFR\n",
      "1 EFGR\n",
      "2 IGFR1A_B\n",
      "3 ERBB2\n",
      "4 JAK5\n",
      "5 STAT3\n",
      "6 IRS1\n",
      "7 GRB2\n",
      "8 RAS\n",
      "9 MEKK1\n",
      "10 RAF\n",
      "11 MKK4\n",
      "12 MEK1\n",
      "13 PIK3CA\n",
      "14 JNK1\n",
      "15 ERK1_2\n",
      "16 PIP3\n",
      "17 PDPK1\n",
      "18 AKT1\n",
      "19 AMPK\n",
      "20 GSK3\n",
      "21 TSC1_2\n",
      "22 RHEB\n",
      "23 mTOR\n",
      "24 RPS6KB1\n",
      "25 BAD\n"
     ]
    }
   ],
   "source": [
    "# single-drug combinations\n",
    "# faults for each drug\n",
    "all_results_single_drug = {d: [] for d in drugs}\n",
    "all_results_double_drug = {}\n",
    "for i, g1 in enumerate(fault_genes):\n",
    "    print(i, g1)\n",
    "    for j, g2 in enumerate(fault_genes[i+1:]):\n",
    "        for g in fault_genes[j+1:]:\n",
    "            for d in drugs:\n",
    "                network.undoKnockouts()\n",
    "                network.setInitialValue('PTEN', 1)\n",
    "                network.setInitialValue('LKB1', 1)\n",
    "                network.setInitialValue('EGF', 0)\n",
    "                network.setInitialValue('HBEGF', 0)\n",
    "                network.setInitialValue('IGF', 0)\n",
    "                network.setInitialValue('NRG1', 0)\n",
    "                if g in fault_genes_0:\n",
    "                    network.knockout(g, 0)\n",
    "                else:\n",
    "                    network.knockout(g, 1)\n",
    "                if g1 in fault_genes_0:\n",
    "                    network.knockout(g1, 0)\n",
    "                else:\n",
    "                    network.knockout(g1, 1)\n",
    "                if g2 in fault_genes_0:\n",
    "                    network.knockout(g2, 0)\n",
    "                else:\n",
    "                    network.knockout(g2, 1)\n",
    "                # set drug effects\n",
    "                for ko in drug_knockouts[d]:\n",
    "                    network.knockout(ko, 0)\n",
    "                results = network.update(27)\n",
    "                output = [results[-1, network.nodeDict[k]] for k in output_genes]\n",
    "                all_results_single_drug[d].append(output)\n",
    "                network.undoKnockouts()"
   ]
  },
  {
   "cell_type": "code",
   "execution_count": 35,
   "id": "10acdd9d-fd7a-4dd4-a89a-f9c58dd1a9fb",
   "metadata": {},
   "outputs": [],
   "source": [
    "size_differences_single_drug = {}\n",
    "size_differences_single_drug['Untreated'] = size_difference\n",
    "for k, v in all_results_single_drug.items():\n",
    "    v = np.array(v)\n",
    "    size_differences_single_drug[k] = v.sum(1)**2/6**2\n"
   ]
  },
  {
   "cell_type": "code",
   "execution_count": 36,
   "id": "bc6db1f8-4d09-4df4-95a0-8609d3aa27c9",
   "metadata": {},
   "outputs": [],
   "source": [
    "size_differences_single_drug = pd.DataFrame(size_differences_single_drug)"
   ]
  },
  {
   "cell_type": "code",
   "execution_count": 41,
   "id": "d4f5e80a-7fa8-4a43-be0a-4c972dd55a17",
   "metadata": {},
   "outputs": [
    {
     "data": {
      "text/plain": [
       "Text(0, 0.5, 'Size difference (Hamming distance^2)')"
      ]
     },
     "execution_count": 41,
     "metadata": {},
     "output_type": "execute_result"
    },
    {
     "data": {
      "image/png": "[encoded data removed]",
      "text/plain": [
       "<Figure size 640x480 with 1 Axes>"
      ]
     },
     "metadata": {},
     "output_type": "display_data"
    }
   ],
   "source": [
    "ax = size_differences_single_drug.boxplot()\n",
    "ax.tick_params(axis='x', rotation=45)\n",
    "ax.set_ylabel('Size difference (Hamming distance^2)')\n"
   ]
  },
  {
   "cell_type": "markdown",
   "id": "7364f82e-5393-45a7-ad1f-61e9c9f54ba6",
   "metadata": {},
   "source": [
    "This looks pretty much the same as Fig. 5 in the paper (minus multi-drug combinations). Although, this is triple mutants only. No single and double mutants here."
   ]
  },
  {
   "cell_type": "markdown",
   "id": "1c1bb4a4-754f-42b9-8561-6605dd073032",
   "metadata": {},
   "source": [
    "### Replicating Fig. 5"
   ]
  },
  {
   "cell_type": "code",
   "execution_count": 61,
   "id": "489849f9-2d4e-46b7-bc3b-ca0bb88fc8c5",
   "metadata": {},
   "outputs": [],
   "source": [
    "import itertools\n",
    "double_drugs = list(itertools.combinations([d for d in drugs if d != 'Untreated'], 2))"
   ]
  },
  {
   "cell_type": "code",
   "execution_count": 62,
   "id": "61841115-329d-4d7b-af4d-fc1c7d95c221",
   "metadata": {},
   "outputs": [
    {
     "data": {
      "text/plain": [
       "[('Cryptotanshinone', 'LY294002'),\n",
       " ('Cryptotanshinone', 'Temsirolimus'),\n",
       " ('Cryptotanshinone', 'Lapatinib'),\n",
       " ('Cryptotanshinone', 'HO-3867'),\n",
       " ('LY294002', 'Temsirolimus'),\n",
       " ('LY294002', 'Lapatinib'),\n",
       " ('LY294002', 'HO-3867'),\n",
       " ('Temsirolimus', 'Lapatinib'),\n",
       " ('Temsirolimus', 'HO-3867'),\n",
       " ('Lapatinib', 'HO-3867')]"
      ]
     },
     "execution_count": 62,
     "metadata": {},
     "output_type": "execute_result"
    }
   ],
   "source": [
    "list(double_drugs)"
   ]
  },
  {
   "cell_type": "code",
   "execution_count": 63,
   "id": "e016a6e6-6547-4690-ac11-43cf07031d0c",
   "metadata": {
    "scrolled": true
   },
   "outputs": [
    {
     "name": "stdout",
     "output_type": "stream",
     "text": [
      "0 EGFR\n",
      "1 EFGR\n",
      "2 IGFR1A_B\n",
      "3 ERBB2\n",
      "4 JAK5\n",
      "5 STAT3\n",
      "6 IRS1\n",
      "7 GRB2\n",
      "8 RAS\n",
      "9 MEKK1\n",
      "10 RAF\n",
      "11 MKK4\n",
      "12 MEK1\n",
      "13 PIK3CA\n",
      "14 JNK1\n",
      "15 ERK1_2\n",
      "16 PIP3\n",
      "17 PDPK1\n",
      "18 AKT1\n",
      "19 AMPK\n",
      "20 GSK3\n",
      "21 TSC1_2\n",
      "22 RHEB\n",
      "23 mTOR\n",
      "24 RPS6KB1\n",
      "25 BAD\n"
     ]
    }
   ],
   "source": [
    "# single-fault mutations\n",
    "single_fault_results_single_drug = {d: [] for d in drugs}\n",
    "single_fault_results_double_drug = {d: [] for d in double_drugs}\n",
    "for i, g in enumerate(fault_genes):\n",
    "    print(i, g)\n",
    "    for d in drugs:\n",
    "        network.undoKnockouts()\n",
    "        network.setInitialValue('PTEN', 1)\n",
    "        network.setInitialValue('LKB1', 1)\n",
    "        network.setInitialValue('EGF', 0)\n",
    "        network.setInitialValue('HBEGF', 0)\n",
    "        network.setInitialValue('IGF', 0)\n",
    "        network.setInitialValue('NRG1', 0)\n",
    "        if g in fault_genes_0:\n",
    "            network.knockout(g, 0)\n",
    "        else:\n",
    "            network.knockout(g, 1)\n",
    "        # set drug effects\n",
    "        for ko in drug_knockouts[d]:\n",
    "            network.knockout(ko, 0)\n",
    "        results = network.update(27)\n",
    "        output = [results[-1, network.nodeDict[k]] for k in output_genes]\n",
    "        single_fault_results_single_drug[d].append(output)\n",
    "        network.undoKnockouts()\n",
    "    for d1, d2 in double_drugs:\n",
    "        network.undoKnockouts()\n",
    "        network.setInitialValue('PTEN', 1)\n",
    "        network.setInitialValue('LKB1', 1)\n",
    "        network.setInitialValue('EGF', 0)\n",
    "        network.setInitialValue('HBEGF', 0)\n",
    "        network.setInitialValue('IGF', 0)\n",
    "        network.setInitialValue('NRG1', 0)\n",
    "        if g in fault_genes_0:\n",
    "            network.knockout(g, 0)\n",
    "        else:\n",
    "            network.knockout(g, 1)\n",
    "        # set drug effects\n",
    "        for ko in drug_knockouts[d1] + drug_knockouts[d2]:\n",
    "            network.knockout(ko, 0)\n",
    "        results = network.update(27)\n",
    "        output = [results[-1, network.nodeDict[k]] for k in output_genes]\n",
    "        single_fault_results_double_drug[(d1, d2)].append(output)\n",
    "        network.undoKnockouts()"
   ]
  },
  {
   "cell_type": "code",
   "execution_count": 64,
   "id": "a45af51b-279a-4125-8667-169e96bc4623",
   "metadata": {},
   "outputs": [],
   "source": [
    "# double-fault mutations\n",
    "double_mutants = list(itertools.combinations(fault_genes, 2))\n",
    "# single-fault mutations\n",
    "double_fault_results_single_drug = {d: [] for d in drugs}\n",
    "double_fault_results_double_drug = {d: [] for d in double_drugs}\n",
    "for genes in double_mutants:\n",
    "    for d in drugs:\n",
    "        network.undoKnockouts()\n",
    "        network.setInitialValue('PTEN', 1)\n",
    "        network.setInitialValue('LKB1', 1)\n",
    "        network.setInitialValue('EGF', 0)\n",
    "        network.setInitialValue('HBEGF', 0)\n",
    "        network.setInitialValue('IGF', 0)\n",
    "        network.setInitialValue('NRG1', 0)\n",
    "        for g in genes:\n",
    "            if g in fault_genes_0:\n",
    "                network.knockout(g, 0)\n",
    "            else:\n",
    "                network.knockout(g, 1)\n",
    "        # set drug effects\n",
    "        for ko in drug_knockouts[d]:\n",
    "            network.knockout(ko, 0)\n",
    "        results = network.update(27)\n",
    "        output = [results[-1, network.nodeDict[k]] for k in output_genes]\n",
    "        double_fault_results_single_drug[d].append(output)\n",
    "        network.undoKnockouts()\n",
    "    for d1, d2 in double_drugs:\n",
    "        network.undoKnockouts()\n",
    "        network.setInitialValue('PTEN', 1)\n",
    "        network.setInitialValue('LKB1', 1)\n",
    "        network.setInitialValue('EGF', 0)\n",
    "        network.setInitialValue('HBEGF', 0)\n",
    "        network.setInitialValue('IGF', 0)\n",
    "        network.setInitialValue('NRG1', 0)\n",
    "        for g in genes:\n",
    "            if g in fault_genes_0:\n",
    "                network.knockout(g, 0)\n",
    "            else:\n",
    "                network.knockout(g, 1)\n",
    "        # set drug effects\n",
    "        for ko in drug_knockouts[d1] + drug_knockouts[d2]:\n",
    "            network.knockout(ko, 0)\n",
    "        results = network.update(27)\n",
    "        output = [results[-1, network.nodeDict[k]] for k in output_genes]\n",
    "        double_fault_results_double_drug[(d1, d2)].append(output)\n",
    "        network.undoKnockouts()"
   ]
  },
  {
   "cell_type": "code",
   "execution_count": 65,
   "id": "532b801c-63b6-40cd-822b-74934eb85dc4",
   "metadata": {},
   "outputs": [],
   "source": [
    "# triple-fault mutations\n",
    "# double-fault mutations\n",
    "triple_mutants = list(itertools.combinations(fault_genes, 3))\n",
    "# single-fault mutations\n",
    "triple_fault_results_single_drug = {d: [] for d in drugs}\n",
    "triple_fault_results_double_drug = {d: [] for d in double_drugs}\n",
    "for genes in triple_mutants:\n",
    "    for d in drugs:\n",
    "        network.undoKnockouts()\n",
    "        network.setInitialValue('PTEN', 1)\n",
    "        network.setInitialValue('LKB1', 1)\n",
    "        network.setInitialValue('EGF', 0)\n",
    "        network.setInitialValue('HBEGF', 0)\n",
    "        network.setInitialValue('IGF', 0)\n",
    "        network.setInitialValue('NRG1', 0)\n",
    "        for g in genes:\n",
    "            if g in fault_genes_0:\n",
    "                network.knockout(g, 0)\n",
    "            else:\n",
    "                network.knockout(g, 1)\n",
    "        # set drug effects\n",
    "        for ko in drug_knockouts[d]:\n",
    "            network.knockout(ko, 0)\n",
    "        results = network.update(27)\n",
    "        output = [results[-1, network.nodeDict[k]] for k in output_genes]\n",
    "        triple_fault_results_single_drug[d].append(output)\n",
    "        network.undoKnockouts()\n",
    "    for d1, d2 in double_drugs:\n",
    "        network.undoKnockouts()\n",
    "        network.setInitialValue('PTEN', 1)\n",
    "        network.setInitialValue('LKB1', 1)\n",
    "        network.setInitialValue('EGF', 0)\n",
    "        network.setInitialValue('HBEGF', 0)\n",
    "        network.setInitialValue('IGF', 0)\n",
    "        network.setInitialValue('NRG1', 0)\n",
    "        for g in genes:\n",
    "            if g in fault_genes_0:\n",
    "                network.knockout(g, 0)\n",
    "            else:\n",
    "                network.knockout(g, 1)\n",
    "        # set drug effects\n",
    "        for ko in drug_knockouts[d1] + drug_knockouts[d2]:\n",
    "            network.knockout(ko, 0)\n",
    "        results = network.update(27)\n",
    "        output = [results[-1, network.nodeDict[k]] for k in output_genes]\n",
    "        triple_fault_results_double_drug[(d1, d2)].append(output)\n",
    "        network.undoKnockouts()"
   ]
  },
  {
   "cell_type": "code",
   "execution_count": 66,
   "id": "4d04dceb-50c2-4b83-b364-d5946e3c17fb",
   "metadata": {},
   "outputs": [],
   "source": [
    "# combining results from single, double, and triple faults\n",
    "all_faults_single_drug = {}\n",
    "size_difference_single_drug = {}\n",
    "for d in drugs:\n",
    "    all_faults_single_drug[d] = single_fault_results_single_drug[d] + double_fault_results_single_drug[d] + triple_fault_results_single_drug[d]\n",
    "    all_faults_single_drug[d] = np.array(all_faults_single_drug[d])\n",
    "    size_difference_single_drug[d] = all_faults_single_drug[d].sum(1)**2/6**2\n",
    "all_faults_double_drug = {}\n",
    "size_difference_double_drug = {}\n",
    "for dd in double_drugs:\n",
    "    all_faults_double_drug[dd] = single_fault_results_double_drug[dd] + double_fault_results_double_drug[dd] + triple_fault_results_double_drug[dd]\n",
    "    all_faults_double_drug[dd] = np.array(all_faults_double_drug[dd])\n",
    "    size_difference_double_drug[dd] = all_faults_double_drug[dd].sum(1)**2/6**2"
   ]
  },
  {
   "cell_type": "code",
   "execution_count": 67,
   "id": "05aa219c-6d1b-44e7-9fc2-d8fec8af7c1d",
   "metadata": {},
   "outputs": [
    {
     "data": {
      "text/plain": [
       "Text(0, 0.5, 'Size difference (Hamming distance^2)')"
      ]
     },
     "execution_count": 67,
     "metadata": {},
     "output_type": "execute_result"
    },
    {
     "data": {
      "image/png": "[encoded data removed]",
      "text/plain": [
       "<Figure size 640x480 with 1 Axes>"
      ]
     },
     "metadata": {},
     "output_type": "display_data"
    }
   ],
   "source": [
    "size_difference_single_drug = pd.DataFrame(size_difference_single_drug)\n",
    "ax = size_difference_single_drug.boxplot()\n",
    "ax.tick_params(axis='x', rotation=45)\n",
    "ax.set_ylabel('Size difference (Hamming distance^2)')\n"
   ]
  },
  {
   "cell_type": "code",
   "execution_count": 70,
   "id": "b3199f17-f6eb-4c0f-be38-41a704987e62",
   "metadata": {},
   "outputs": [
    {
     "data": {
      "text/plain": [
       "Text(0, 0.5, 'Size difference (Hamming distance^2)')"
      ]
     },
     "execution_count": 70,
     "metadata": {},
     "output_type": "execute_result"
    },
    {
     "data": {
      "image/png": "[encoded data removed]",
      "text/plain": [
       "<Figure size 640x480 with 1 Axes>"
      ]
     },
     "metadata": {},
     "output_type": "display_data"
    }
   ],
   "source": [
    "size_difference_double_drug = pd.DataFrame(size_difference_double_drug)\n",
    "ax = size_difference_double_drug.boxplot()\n",
    "ax.tick_params(axis='x', rotation=80)\n",
    "ax.set_ylabel('Size difference (Hamming distance^2)')\n"
   ]
  },
  {
   "cell_type": "markdown",
   "id": "b3856d04-58f6-4e30-a310-9342a437f8c8",
   "metadata": {},
   "source": [
    "These results are virtually identical to the results shown in Figure 5 of the paper."
   ]
  },
  {
   "cell_type": "markdown",
   "id": "55a6e8f9-cb75-4a13-923c-262f15935f9a",
   "metadata": {},
   "source": [
    "## Scratch"
   ]
  },
  {
   "cell_type": "code",
   "execution_count": null,
   "id": "676cadb4-b1e2-411a-b20d-c3c8094dd6c1",
   "metadata": {},
   "outputs": [],
   "source": []
  },
  {
   "cell_type": "code",
   "execution_count": null,
   "id": "0566df84-5d44-4a5b-ae8a-3dfd733c3167",
   "metadata": {},
   "outputs": [],
   "source": []
  },
  {
   "cell_type": "code",
   "execution_count": 21,
   "id": "9776b54b-ddde-4874-ae13-bb5ab8b511d7",
   "metadata": {},
   "outputs": [
    {
     "data": {
      "text/plain": [
       "[1, 0, 0, 0, 0, 0]"
      ]
     },
     "execution_count": 21,
     "metadata": {},
     "output_type": "execute_result"
    }
   ],
   "source": [
    "network.knockout('GSK3', 0)\n",
    "results = network.update(10)\n",
    "output = [results[-1, network.nodeDict[k]] for k in output_genes]\n",
    "output"
   ]
  },
  {
   "cell_type": "code",
   "execution_count": null,
   "id": "0b69eb43-dfe6-487e-b4e2-1853b339d93f",
   "metadata": {},
   "outputs": [],
   "source": [
    "network.undoKnockouts()\n",
    "network.knockout('ERK1_2', 1)\n",
    "results = network.update(27)\n",
    "output = [results[-1, network.nodeDict[k]] for k in output_genes]\n",
    "output"
   ]
  },
  {
   "cell_type": "markdown",
   "id": "4d124fbd-2446-4c9a-8e4e-cfcefa65a94b",
   "metadata": {},
   "source": [
    "Note: I'm not sure I understand the paper, and I'm not sure if the paper does what I think it's doing. Most of the mutations are stuck at 0 mutations, and the outputs are mostly produced by AND gates, so most mutations will still leave the outputs at 0, same as the baseline/WT case. This seems to contradict what the paper shows, unless I'm misunderstanding things entirely?\n",
    "\n",
    "Is the \"size difference\" calculated over just the output nodes, or is it calculated over every node in the network? Also, "
   ]
  },
  {
   "cell_type": "code",
   "execution_count": 5,
   "id": "604a5972-59eb-4529-bc23-8d2e9c2fe180",
   "metadata": {},
   "outputs": [],
   "source": [
    "genes = 'ARID1A, CDKN2A, EP300, FAM123B, FBXW7, KDM6A, KRAS, MAP2K4, MLL3, PBRM1, RB1, RNF43, SACS, SMAD4, TP53'.split(', ')"
   ]
  },
  {
   "cell_type": "code",
   "execution_count": 6,
   "id": "aa5f3b6c-71b6-41af-a505-ec2dfd12dd40",
   "metadata": {},
   "outputs": [
    {
     "data": {
      "text/plain": [
       "['ARID1A',\n",
       " 'CDKN2A',\n",
       " 'EP300',\n",
       " 'FAM123B',\n",
       " 'FBXW7',\n",
       " 'KDM6A',\n",
       " 'KRAS',\n",
       " 'MAP2K4',\n",
       " 'MLL3',\n",
       " 'PBRM1',\n",
       " 'RB1',\n",
       " 'RNF43',\n",
       " 'SACS',\n",
       " 'SMAD4',\n",
       " 'TP53']"
      ]
     },
     "execution_count": 6,
     "metadata": {},
     "output_type": "execute_result"
    }
   ],
   "source": [
    "genes"
   ]
  },
  {
   "cell_type": "code",
   "execution_count": 8,
   "id": "8a903f46-4446-4351-bb56-5a45acff0c8d",
   "metadata": {},
   "outputs": [
    {
     "name": "stdout",
     "output_type": "stream",
     "text": [
      "ARID1A False\n",
      "CDKN2A False\n",
      "EP300 False\n",
      "FAM123B False\n",
      "FBXW7 False\n",
      "KDM6A False\n",
      "KRAS False\n",
      "MAP2K4 False\n",
      "MLL3 False\n",
      "PBRM1 False\n",
      "RB1 False\n",
      "RNF43 False\n",
      "SACS False\n",
      "SMAD4 False\n",
      "TP53 False\n"
     ]
    }
   ],
   "source": [
    "for g in genes:\n",
    "    print(g, g in network.nodeDict)"
   ]
  },
  {
   "cell_type": "code",
   "execution_count": null,
   "id": "c01da3f2-192d-4f88-a25d-0d92b838d469",
   "metadata": {},
   "outputs": [],
   "source": []
  }
 ],
 "metadata": {
  "kernelspec": {
   "display_name": "Python 3 (ipykernel)",
   "language": "python",
   "name": "python3"
  },
  "language_info": {
   "codemirror_mode": {
    "name": "ipython",
    "version": 3
   },
   "file_extension": ".py",
   "mimetype": "text/x-python",
   "name": "python",
   "nbconvert_exporter": "python",
   "pygments_lexer": "ipython3",
   "version": "3.10.6"
  },
  "widgets": {
   "application/vnd.jupyter.widget-state+json": {
    "state": {},
    "version_major": 2,
    "version_minor": 0
   }
  }
 },
 "nbformat": 4,
 "nbformat_minor": 5
}
