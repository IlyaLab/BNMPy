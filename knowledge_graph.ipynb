{
 "cells": [
  {
   "cell_type": "markdown",
   "id": "9759656c-716f-4bbc-8fe6-55bb22b19aaa",
   "metadata": {},
   "source": [
    "# Building a boolean network from a knowledge graph\n",
    "\n",
    "Use SigNOR\n",
    "\n",
    "Given a list of genes for which we want to construct a BN:\n",
    "\n",
    "1. Find the Steiner subgraph for the given list of genes.\n",
    "2. For each node in the subgraph, find all if its input nodes (i.e. all edges leading into that node).\n",
    "3. For each such node, there is an activating relation if the edge is \"up-regulates\", and a repressing relation if the edge is \"down-regulates\".\n",
    "4. Combine all of the edges with a \"joiner function\" - AND, OR, repressor wins, etc.\n",
    "\n",
    "Or, given an existing model (with some number of genes), a list of nodes, and a knowledge graph, how do we incorporate the new nodes into the model?\n"
   ]
  },
  {
   "cell_type": "code",
   "execution_count": 1,
   "id": "e24e0fa2-24ba-4079-8f09-35b70ed63c66",
   "metadata": {},
   "outputs": [],
   "source": [
    "from BNMPy import build_bn_from_kg"
   ]
  },
  {
   "cell_type": "code",
   "execution_count": 2,
   "id": "717d34f3-a011-4fe9-8563-311a0c094be7",
   "metadata": {},
   "outputs": [
    {
     "name": "stdout",
     "output_type": "stream",
     "text": [
      "number of genes found: 3\n",
      "[7128, 595, 23499]\n"
     ]
    }
   ],
   "source": [
    "bn_string, relations = build_bn_from_kg.load_signor_network(['TNFAIP3', 'CCND1', 'MACF1'])"
   ]
  },
  {
   "cell_type": "code",
   "execution_count": 4,
   "id": "079e289b-e060-4d7e-8342-d61d1b7608da",
   "metadata": {},
   "outputs": [
    {
     "name": "stdout",
     "output_type": "stream",
     "text": [
      "CCND1 = (! GSK3B) # inhibit_GSK3B:0.783\n",
      "GSK3B = (GSK3B) & (! MACF1) # activate_GSK3B:0.2; inhibit_MACF1:0.436\n",
      "MACF1 = (! GSK3B) # inhibit_GSK3B:0.436\n",
      "TNFAIP3 = TNFAIP3\n",
      "TRAF6 = (! GSK3B) & (TRAF6) & (! TNFAIP3) # inhibit_GSK3B:0.48; activate_TRAF6:0.2; inhibit_TNFAIP3:0.701\n"
     ]
    }
   ],
   "source": [
    "print(bn_string)"
   ]
  },
  {
   "cell_type": "code",
   "execution_count": 5,
   "id": "e232c4f1",
   "metadata": {},
   "outputs": [
    {
     "name": "stdout",
     "output_type": "stream",
     "text": [
      "Applied score cutoff 0.5, filtered to 19342/40940 edges\n",
      "number of genes found: 3\n",
      "[7128, 595, 23499]\n",
      "CCND1 = (CTNNB1) # activate_CTNNB1:0.8\n",
      "CTNNB1 = (! SRC) # inhibit_SRC:0.76\n",
      "SRC = SRC\n",
      "TNFAIP3 = TNFAIP3\n",
      "TRAF6 = (SRC) & (! TNFAIP3) # activate_SRC:0.566; inhibit_TNFAIP3:0.701\n"
     ]
    }
   ],
   "source": [
    "bn_string, relations = build_bn_from_kg.load_signor_network(['TNFAIP3', 'CCND1', 'MACF1'],score_cutoff = 0.5)\n",
    "print(bn_string)"
   ]
  },
  {
   "cell_type": "code",
   "execution_count": null,
   "id": "a07a6270-45f0-4971-a80c-8429dd81e437",
   "metadata": {},
   "outputs": [
    {
     "name": "stdout",
     "output_type": "stream",
     "text": [
      "number of genes found: 6\n",
      "[3845, 2778, 7157, 4089, 1029, 54894]\n",
      "CDKN2A = (! MYC) # inhibit_MYC:0.765\n",
      "GNAS = (! MDM2) # inhibit_MDM2:0.395\n",
      "GSK3B = (GSK3B) # activate_GSK3B:0.2\n",
      "KRAS = (SRC) # activate_SRC:0.656\n",
      "MDM2 = (TP53) # activate_TP53:0.968\n",
      "MYC = (! GSK3B) & (! SMAD4) # inhibit_GSK3B:0.719; inhibit_SMAD4:0.638\n",
      "RNF43 = RNF43\n",
      "SMAD4 = (! GSK3B) # inhibit_GSK3B:0.397\n",
      "SRC = (GNAS) & (GSK3B) & (SRC) # activate_GNAS:0.506; activate_GSK3B:0.383; activate_SRC:0.2\n",
      "TP53 = (! MDM2) & (GSK3B) & (! SRC) & (! RNF43) # inhibit_MDM2:0.968; activate_GSK3B:0.727; inhibit_SRC:0.524; inhibit_RNF43:0.452\n"
     ]
    }
   ],
   "source": [
    "bn_string, relations = build_bn_from_kg.load_signor_network(['KRAS', 'GNAS', 'TP53', 'SMAD4', 'CDKN2A', 'RNF43'], joiner='&')\n",
    "print(bn_string)"
   ]
  },
  {
   "cell_type": "code",
   "execution_count": 8,
   "id": "dece2511",
   "metadata": {},
   "outputs": [
    {
     "name": "stdout",
     "output_type": "stream",
     "text": [
      "number of genes found: 6\n",
      "[3845, 2778, 7157, 4089, 1029, 54894]\n",
      "CDKN2A = (! MYC) # inhibit_MYC:0.765\n",
      "GNAS = GNAS\n",
      "KRAS = (SRC) # activate_SRC:0.656\n",
      "MAPK1 = MAPK1\n",
      "MYC = (MAPK1) & (! SMAD4) # activate_MAPK1:0.733; inhibit_SMAD4:0.638\n",
      "SMAD4 = (MAPK1) # activate_MAPK1:0.511\n",
      "SRC = (GNAS) # activate_GNAS:0.506\n",
      "TP53 = (! SRC) & (MAPK1) # inhibit_SRC:0.524; activate_MAPK1:0.777\n"
     ]
    }
   ],
   "source": [
    "bn_string, relations = build_bn_from_kg.load_signor_network(['KRAS', 'GNAS', 'TP53', 'SMAD4', 'CDKN2A', 'RNF43'], joiner='&', score_cutoff = 0.5)\n",
    "print(bn_string)"
   ]
  },
  {
   "cell_type": "code",
   "execution_count": 5,
   "id": "4fe4db66-e05b-43fe-87d2-10301a2b3991",
   "metadata": {},
   "outputs": [
    {
     "name": "stdout",
     "output_type": "stream",
     "text": [
      "number of genes found: 6\n",
      "[3845, 2778, 7157, 4089, 1029, 54894]\n",
      "CDKN2A = (! MYC) | (! IKBKB)\n",
      "GNAS = GNAS\n",
      "IKBKB = (SRC) | (! IKBKB)\n",
      "KRAS = (SRC)\n",
      "MYC = (! SMAD4)\n",
      "RNF43 = RNF43\n",
      "SMAD4 = SMAD4\n",
      "SRC = (GNAS) | (SRC)\n",
      "TP53 = (! SRC) | (IKBKB) | (! RNF43)\n"
     ]
    }
   ],
   "source": [
    "bn_string, relations = build_bn_from_kg.load_signor_network(['KRAS', 'GNAS', 'TP53', 'SMAD4', 'CDKN2A', 'RNF43'], joiner='|')\n",
    "print(bn_string)"
   ]
  },
  {
   "cell_type": "code",
   "execution_count": 6,
   "id": "6ac30ce2-4852-4a9e-9fc7-d366b9c8f5fe",
   "metadata": {},
   "outputs": [
    {
     "name": "stdout",
     "output_type": "stream",
     "text": [
      "number of genes found: 6\n",
      "[3845, 2778, 7157, 4089, 1029, 54894]\n",
      "CDKN2A = (!MYC & !IKBKB)\n",
      "GNAS = GNAS\n",
      "IKBKB = !IKBKB & SRC\n",
      "KRAS = SRC\n",
      "MYC = !SMAD4\n",
      "RNF43 = RNF43\n",
      "SMAD4 = SMAD4\n",
      "SRC = (GNAS | SRC)\n",
      "TP53 = (!SRC & !RNF43) & IKBKB\n"
     ]
    }
   ],
   "source": [
    "bn_string, relations = build_bn_from_kg.load_signor_network(['KRAS', 'GNAS', 'TP53', 'SMAD4', 'CDKN2A', 'RNF43'],\n",
    "                                                            joiner='inhibitor_wins')\n",
    "print(bn_string)"
   ]
  },
  {
   "cell_type": "code",
   "execution_count": 7,
   "id": "55a8aa62-2b43-4a3e-aa30-cc62de0d3120",
   "metadata": {},
   "outputs": [
    {
     "data": {
      "text/plain": [
       "[('SMAD4', 'MYC', 'inhibit'),\n",
       " ('SRC', 'TP53', 'inhibit'),\n",
       " ('IKBKB', 'TP53', 'activate'),\n",
       " ('RNF43', 'TP53', 'inhibit'),\n",
       " ('GNAS', 'SRC', 'activate'),\n",
       " ('SRC', 'SRC', 'activate'),\n",
       " ('SRC', 'IKBKB', 'activate'),\n",
       " ('IKBKB', 'IKBKB', 'inhibit'),\n",
       " ('SRC', 'KRAS', 'activate'),\n",
       " ('MYC', 'CDKN2A', 'inhibit'),\n",
       " ('IKBKB', 'CDKN2A', 'inhibit')]"
      ]
     },
     "execution_count": 7,
     "metadata": {},
     "output_type": "execute_result"
    }
   ],
   "source": [
    "relations"
   ]
  },
  {
   "cell_type": "code",
   "execution_count": 8,
   "id": "fc0942c5-5a20-4926-9f10-bb54c2ee9ff7",
   "metadata": {},
   "outputs": [
    {
     "name": "stdout",
     "output_type": "stream",
     "text": [
      "number of genes found: 6\n",
      "[3845, 2778, 7157, 4089, 1029, 54894]\n",
      "CDKN2A = 0\n",
      "GNAS = GNAS\n",
      "IKBKB = (SRC & !IKBKB)\n",
      "KRAS = (SRC)\n",
      "MYC = 0\n",
      "RNF43 = RNF43\n",
      "SMAD4 = SMAD4\n",
      "SRC = (GNAS & !SRC) | (!GNAS & SRC) | (GNAS & SRC)\n",
      "TP53 = (IKBKB & !SRC & !RNF43)\n"
     ]
    }
   ],
   "source": [
    "bn_string, relations = build_bn_from_kg.load_signor_network(['KRAS', 'GNAS', 'TP53', 'SMAD4', 'CDKN2A', 'RNF43'],\n",
    "                                                            joiner='majority')\n",
    "print(bn_string)"
   ]
  },
  {
   "cell_type": "code",
   "execution_count": 9,
   "id": "80d88361-e070-4b1d-ad46-b131e565a633",
   "metadata": {},
   "outputs": [
    {
     "name": "stdout",
     "output_type": "stream",
     "text": [
      "number of genes found: 6\n",
      "[3845, 2778, 7157, 4089, 1029, 54894]\n",
      "CDKN2A = (!MYC & !IKBKB)\n",
      "GNAS = GNAS\n",
      "IKBKB = (!SRC & !IKBKB) | (SRC & !IKBKB) | (SRC & IKBKB)\n",
      "KRAS = (!SRC) | (SRC)\n",
      "MYC = (!SMAD4)\n",
      "RNF43 = RNF43\n",
      "SMAD4 = SMAD4\n",
      "SRC = (!GNAS & !SRC) | (GNAS & !SRC) | (!GNAS & SRC) | (GNAS & SRC)\n",
      "TP53 = (!IKBKB & !SRC & !RNF43) | (IKBKB & !SRC & !RNF43) | (IKBKB & SRC & !RNF43) | (IKBKB & !SRC & RNF43)\n"
     ]
    }
   ],
   "source": [
    "bn_string, relations = build_bn_from_kg.load_signor_network(['KRAS', 'GNAS', 'TP53', 'SMAD4', 'CDKN2A', 'RNF43'],\n",
    "                                                            joiner='plurality')\n",
    "print(bn_string)"
   ]
  },
  {
   "cell_type": "markdown",
   "id": "19020452-d295-4556-8281-db5618d21b6c",
   "metadata": {},
   "source": [
    "## Combining KG knowledge graphs"
   ]
  },
  {
   "cell_type": "code",
   "execution_count": 10,
   "id": "94a9f1cc-10a2-43a7-88f8-31108097a057",
   "metadata": {},
   "outputs": [
    {
     "name": "stdout",
     "output_type": "stream",
     "text": [
      "No initial state provided, using a random initial state\n",
      "Network loaded successfully. There are 38 genes in the network.\n",
      "number of genes: 38\n"
     ]
    },
    {
     "data": {
      "text/plain": [
       "dict_keys(['EGF', 'HBEGF', 'IGF', 'NRG1', 'PTEN', 'LKB1', 'EGFR', 'EFGR', 'IGFR1A_B', 'ERBB2', 'JAK5', 'STAT3', 'IRS1', 'GRB2', 'RAS', 'MEKK1', 'RAF', 'MKK4', 'MEK1', 'PIK3CA', 'JNK1', 'ERK1_2', 'PIP3', 'PDPK1', 'AKT1', 'AMPK', 'GSK3', 'TSC1_2', 'RHEB', 'mTOR', 'RPS6KB1', 'BAD', 'CCND1', 'BCL2', 'SRFELK1', 'FOS-JUN', 'SRFELK4', 'SP1'])"
      ]
     },
     "execution_count": 10,
     "metadata": {},
     "output_type": "execute_result"
    }
   ],
   "source": [
    "# load the Vundavalli KG\n",
    "from BNMPy import booleanNetwork as bn\n",
    "from BNMPy import BMatrix \n",
    "\n",
    "file = 'input_files/pancreatic_vundavilli_2020_fig3.txt'\n",
    "network = BMatrix.load_network_from_file(file)\n",
    "genes = network.nodeDict.keys()\n",
    "print(f\"number of genes: {len(genes)}\")\n",
    "genes"
   ]
  },
  {
   "cell_type": "code",
   "execution_count": 11,
   "id": "8d9c4399-5d87-4ba9-953d-5c3bf12cc0a3",
   "metadata": {},
   "outputs": [
    {
     "name": "stdout",
     "output_type": "stream",
     "text": [
      "number of genes found: 26\n",
      "[1950, 1839, 3479, 3084, 5728, 6794, 1956, 2064, 6774, 3667, 2885, 4214, 22882, 6416, 5604, 5290, 5599, 5170, 207, 5562, 6008, 6198, 572, 595, 596, 5669]\n"
     ]
    }
   ],
   "source": [
    "bn_string, relations = build_bn_from_kg.load_signor_network(genes, joiner='inhibitor_wins')"
   ]
  },
  {
   "cell_type": "code",
   "execution_count": 12,
   "id": "bbd37979",
   "metadata": {},
   "outputs": [
    {
     "name": "stdout",
     "output_type": "stream",
     "text": [
      "AKT1 = !PTEN & (PDPK1 | AKT1 | MAPK8 | PIK3CA)\n",
      "BAD = (!AKT1 & !MAPK8)\n",
      "BCL2 = (!MAPK8 & !BAD)\n",
      "CCND1 = STAT3\n",
      "EGF = EGF\n",
      "EGFR = (EGF | ERBB2 | EGFR | HBEGF)\n",
      "ERBB2 = (EGF | ERBB2 | EGFR | NRG1)\n",
      "GRB2 = (IRS1 | ERBB2 | EGFR)\n",
      "HBEGF = HBEGF\n",
      "IGF1 = STAT5A\n",
      "IRS1 = (!RPS6KB1 & !MAPK8 & !PIK3CA & !MAP2K1 & !PTEN)\n",
      "MAP2K1 = (PDPK1 | MAP2K1 | MAP3K1)\n",
      "MAP2K4 = !AKT1 & (MAP2K4 | MAP3K1)\n",
      "MAP3K1 = MAP3K1\n",
      "MAPK8 = !RPS6KB1 & MAP2K4\n",
      "NRG1 = NRG1\n",
      "PDPK1 = !RPS6KB1\n",
      "PIK3CA = !PTEN & IRS1\n",
      "PRKAA1 = (!AKT1 & !PRKAA1) & STK11\n",
      "PTEN = !STK11 & PTEN\n",
      "RPS6KB1 = !PTEN & PDPK1\n",
      "STAT3 = (MAPK8 | EGFR | MAP3K1)\n",
      "STAT5A = !PTEN & EGFR\n",
      "STK11 = STK11\n"
     ]
    }
   ],
   "source": [
    "print(bn_string)"
   ]
  },
  {
   "cell_type": "code",
   "execution_count": 13,
   "id": "4d1bedaa",
   "metadata": {},
   "outputs": [
    {
     "name": "stdout",
     "output_type": "stream",
     "text": [
      "No initial state provided, using a random initial state\n",
      "Network loaded successfully. There are 38 genes in the network.\n",
      "number of genes: 38\n",
      "dict_keys(['EGF', 'HBEGF', 'IGF1', 'NRG1', 'PTEN', 'STK11', 'EGFR', 'ERBB4', 'IGF1R', 'ERBB2', 'JAK1', 'STAT3', 'IRS1', 'GRB2', 'KRAS', 'MAP3K1', 'RAF1', 'MAP2K4', 'MAP2K1', 'PIK3CA', 'MAPK8', 'MAPK3', 'PIP3', 'PDPK1', 'AKT1', 'PRKAA1', 'GSK3B', 'TSC1', 'RHEB', 'MTOR', 'RPS6KB1', 'BAD', 'CCND1', 'BCL2', 'ELK1', 'FOS', 'ELK4', 'SP1'])\n"
     ]
    }
   ],
   "source": [
    "file = 'input_files/Vundavilli2020_standardized.txt'\n",
    "network_std = BMatrix.load_network_from_file(file)\n",
    "genes = network_std.nodeDict.keys()\n",
    "print(f\"number of genes: {len(genes)}\")\n",
    "print(genes)"
   ]
  },
  {
   "cell_type": "code",
   "execution_count": 14,
   "id": "5add5834",
   "metadata": {},
   "outputs": [
    {
     "name": "stdout",
     "output_type": "stream",
     "text": [
      "number of genes found: 37\n",
      "[1950, 1839, 3479, 3084, 5728, 6794, 1956, 2066, 3480, 2064, 3716, 6774, 3667, 2885, 3845, 4214, 5894, 6416, 5604, 5290, 5599, 5595, 5170, 207, 5562, 2932, 7248, 6008, 2475, 6198, 572, 595, 596, 2002, 2353, 2005, 5669]\n",
      "AKT1 = !PTEN & (PDPK1 | AKT1 | MTOR | MAPK8 | PIK3CA | IGF1R)\n",
      "BAD = (!AKT1 & !MAPK3 & !MAPK8 & !RAF1)\n",
      "BCL2 = (!MAPK8 & !GSK3B & !BAD) & MAPK3\n",
      "CCND1 = !GSK3B & STAT3\n",
      "CDK2 = (AKT1 | CDK2)\n",
      "EGF = EGF\n",
      "EGFR = !MAPK3 & (EGF | ERBB2 | EGFR | HBEGF)\n",
      "ELK1 = (MAPK3 | MAPK8)\n",
      "ELK4 = CDK2\n",
      "ERBB2 = (EGF | ERBB2 | EGFR | NRG1)\n",
      "ERBB4 = !MAPK3 & (ERBB2 | NRG1 | HBEGF)\n",
      "FOS = MAPK3\n",
      "GRB2 = (IRS1 | ERBB2 | EGFR | ERBB4)\n",
      "GSK3B = (!AKT1 & !MAPK3 & !STK11) & (MAP2K1 | GSK3B)\n",
      "HBEGF = HBEGF\n",
      "IGF1 = IGF1\n",
      "IGF1R = (IGF1R | IGF1)\n",
      "IRS1 = (!MAPK3 & !MTOR & !RPS6KB1 & !MAPK8 & !PIK3CA & !MAP2K1 & !GSK3B & !PTEN) & (JAK1 | IGF1R)\n",
      "JAK1 = EGFR\n",
      "KRAS = KRAS\n",
      "MAP2K1 = (PDPK1 | RAF1 | MAP2K1 | MAP3K1)\n",
      "MAP2K4 = !AKT1 & (MAP2K4 | MAP3K1)\n",
      "MAP3K1 = KRAS\n",
      "MAPK3 = (MAPK3 | MAP2K1)\n",
      "MAPK8 = !RPS6KB1 & MAP2K4\n",
      "MTOR = (!RPS6KB1 & !TSC1) & (MTOR | PIK3CA)\n",
      "NRG1 = NRG1\n",
      "PDPK1 = !RPS6KB1 & IGF1R\n",
      "PIK3CA = !PTEN & (IRS1 | KRAS | ERBB4)\n",
      "PRKAA1 = (!AKT1 & !PRKAA1) & STK11\n",
      "PTEN = (!GSK3B & !STK11) & PTEN\n",
      "RAF1 = (!AKT1 & !MAPK3 & !PRKAA1) & (RAF1 | MAP2K1 | KRAS)\n",
      "RPS6KB1 = !PTEN & (PDPK1 | MAPK3 | MTOR)\n",
      "STAT3 = (MAPK3 | MTOR | MAPK8 | EGFR | JAK1 | MAP3K1)\n",
      "STK11 = !MAPK3 & STK11\n",
      "TSC1 = TSC1\n"
     ]
    }
   ],
   "source": [
    "bn_string_std, relations_std = build_bn_from_kg.load_signor_network(genes, joiner='inhibitor_wins')\n",
    "print(bn_string_std)\n",
    "# The only gene missing should be SP1, which is an output node"
   ]
  },
  {
   "cell_type": "code",
   "execution_count": 15,
   "id": "813dbb3e-35a5-47e2-b71b-b0cbdddaa981",
   "metadata": {},
   "outputs": [
    {
     "ename": "AttributeError",
     "evalue": "'BooleanNetwork' object has no attribute 'strip'",
     "output_type": "error",
     "traceback": [
      "\u001b[0;31m---------------------------------------------------------------------------\u001b[0m",
      "\u001b[0;31mAttributeError\u001b[0m                            Traceback (most recent call last)",
      "Input \u001b[0;32mIn [15]\u001b[0m, in \u001b[0;36m<cell line: 1>\u001b[0;34m()\u001b[0m\n\u001b[0;32m----> 1\u001b[0m merged_bn_string \u001b[38;5;241m=\u001b[39m \u001b[43mbuild_bn_from_kg\u001b[49m\u001b[38;5;241;43m.\u001b[39;49m\u001b[43mmerge_PBN_string\u001b[49m\u001b[43m(\u001b[49m\u001b[43mnetwork\u001b[49m\u001b[43m,\u001b[49m\u001b[43m \u001b[49m\u001b[43mbn_string\u001b[49m\u001b[43m)\u001b[49m\n",
      "File \u001b[0;32m~/BNMPy/src/BNMPy/build_bn_from_kg.py:166\u001b[0m, in \u001b[0;36mmerge_PBN_string\u001b[0;34m(original_string, KG_string, prob)\u001b[0m\n\u001b[1;32m    164\u001b[0m \u001b[38;5;66;03m# Parse equations from both models\u001b[39;00m\n\u001b[1;32m    165\u001b[0m original_equations \u001b[38;5;241m=\u001b[39m {}\n\u001b[0;32m--> 166\u001b[0m \u001b[38;5;28;01mfor\u001b[39;00m line \u001b[38;5;129;01min\u001b[39;00m \u001b[43moriginal_string\u001b[49m\u001b[38;5;241;43m.\u001b[39;49m\u001b[43mstrip\u001b[49m()\u001b[38;5;241m.\u001b[39msplit(\u001b[38;5;124m'\u001b[39m\u001b[38;5;130;01m\\n\u001b[39;00m\u001b[38;5;124m'\u001b[39m):\n\u001b[1;32m    167\u001b[0m     \u001b[38;5;28;01mif\u001b[39;00m \u001b[38;5;124m'\u001b[39m\u001b[38;5;124m=\u001b[39m\u001b[38;5;124m'\u001b[39m \u001b[38;5;129;01min\u001b[39;00m line:\n\u001b[1;32m    168\u001b[0m         target, rule \u001b[38;5;241m=\u001b[39m line\u001b[38;5;241m.\u001b[39msplit(\u001b[38;5;124m'\u001b[39m\u001b[38;5;124m=\u001b[39m\u001b[38;5;124m'\u001b[39m, \u001b[38;5;241m1\u001b[39m)\n",
      "\u001b[0;31mAttributeError\u001b[0m: 'BooleanNetwork' object has no attribute 'strip'"
     ]
    }
   ],
   "source": [
    "merged_bn_string = build_bn_from_kg.merge_PBN_string(network, bn_string)"
   ]
  },
  {
   "cell_type": "code",
   "execution_count": 14,
   "id": "69739b87-3bd3-4cc7-adf3-f6db2fac4375",
   "metadata": {},
   "outputs": [
    {
     "name": "stdout",
     "output_type": "stream",
     "text": [
      "PDPK1 = ( PIP3) | ( PDPK1)\n",
      "MAP2K4 =  (!AKT1) & (MAP3K1 | MAP2K4)\n",
      "TSC1_2 =  AMPK | ( ! AKT1)\n",
      "AKT1 = ( PIP3) | ( (!PTEN) & (MAPK8 | PDPK1 | PIK3CA))\n",
      "IGF1 =  PPARGC1A\n",
      "PTEN = ( PTEN) | ( PTEN)\n",
      "FOS-JUN =  RPS6KB1 & JNK1\n",
      "RAF =  RAS\n",
      "MAP2K1 =  PDPK1 | MAP2K1 | MAP3K1\n",
      "MAPK8 =  (!RPS6KB1) & (MAP2K4)\n",
      "PPARGC1A =  (!AKT1) & (PPARGC1A | PRKAA1)\n",
      "BAD = ( ! (AKT1 | RPS6KB1)) | ( !MAPK8 & !AKT1)\n",
      "PIK3CA = ( (ERBB2 | IRS1) | (RAS | STAT3)) | ( (!PTEN) & (IRS1))\n",
      "MAP3K1 =  MAP3K1\n",
      "NRG1 = ( NRG1) | ( NRG1)\n",
      "STAT3 = ( JAK5) | ( MAPK8 | EGFR | MAP3K1)\n",
      "HBEGF = ( HBEGF) | ( HBEGF)\n",
      "PIP3 =  ! PTEN | PIK3CA\n",
      "RHEB =  ! TSC1_2\n",
      "EGF = ( EGF) | ( EGF)\n",
      "MEK1 =  RAF\n",
      "JNK1 =  MKK4\n",
      "AMPK =  LKB1\n",
      "ERK1_2 =  MEK1\n",
      "JAK5 =  EGFR\n",
      "RPS6KB1 = ( mTOR | (PDPK1 | ERK1_2)) | ( PDPK1)\n",
      "IRS1 = ( IGFR1A_B) | ( !RPS6KB1 & !MAPK8 & !PIK3CA & !MAP2K1)\n",
      "MKK4 =  MEKK1\n",
      "STK11 =  STK11\n",
      "CCND1 = ( ! GSK3) | ( STAT3)\n",
      "IGFR1A_B =  IGF\n",
      "mTOR =  RHEB\n",
      "ERBB2 = ( NRG1) | ( EGFR | ERBB2 | NRG1 | EGF)\n",
      "EGFR = ( EGF) | ( EGFR | ERBB2 | EGF | HBEGF)\n",
      "PRKAA1 =  (!AKT1 & !PRKAA1) & (STK11)\n",
      "BCL2 = ( ( ! BAD & STAT3)) | ( (!BAD) & (MAPK8))\n",
      "GSK3 =  ! AKT1\n",
      "MEKK1 =  RAS\n",
      "SRFELK1 =  RPS6KB1 & ERK1_2\n",
      "EFGR =  HBEGF | EGF\n",
      "SRFELK4 =  RPS6KB1 & ERK1_2\n",
      "SP1 =  ERK1_2\n",
      "IGF =  IGF\n",
      "LKB1 =  LKB1\n",
      "GRB2 = ( (ERBB2 | IGFR1A_B) | (EFGR | EGFR)) | ( ERBB2 | IRS1)\n",
      "RAS =  GRB2\n"
     ]
    }
   ],
   "source": [
    "print(merged_bn_string)"
   ]
  },
  {
   "cell_type": "markdown",
   "id": "f0902514",
   "metadata": {},
   "source": [
    "## Visualization"
   ]
  },
  {
   "cell_type": "code",
   "execution_count": 23,
   "id": "9dff8369",
   "metadata": {},
   "outputs": [],
   "source": [
    "# replace the invalid name\n",
    "bn_string_std = bn_string_std.replace('(-)-anisomycin', 'anisomycin')\n",
    "# save the logic rules to a file\n",
    "with open('Vundavilli2020_kg_inhibitor_wins.txt', 'w') as f:\n",
    "    f.write(bn_string_std)"
   ]
  },
  {
   "cell_type": "code",
   "execution_count": 24,
   "id": "e657e766-117d-4f95-86c2-3e49067cede1",
   "metadata": {},
   "outputs": [
    {
     "name": "stdout",
     "output_type": "stream",
     "text": [
      "Warning: When  cdn_resources is 'local' jupyter notebook has issues displaying graphics on chrome/safari. Use cdn_resources='in_line' or cdn_resources='remote' if you have issues viewing graphics in a notebook.\n",
      "kg_graph.html\n"
     ]
    }
   ],
   "source": [
    "from BNMPy import vis\n",
    "logic_rules = vis.read_logic_rules('Vundavilli2020_kg_inhibitor_wins.txt')\n",
    "vis.network(logic_rules, output_html = \"kg_graph.html\", interactive=True) # visualize the logic graph, in an html file. view it in a browser.\n"
   ]
  },
  {
   "cell_type": "markdown",
   "id": "e5fba2d4",
   "metadata": {},
   "source": [
    "## Test"
   ]
  },
  {
   "cell_type": "code",
   "execution_count": null,
   "id": "d46a5537",
   "metadata": {},
   "outputs": [
    {
     "name": "stdout",
     "output_type": "stream",
     "text": [
      "Index(['subject_id', 'object_id', 'subject_id_prefix', 'object_id_prefix',\n",
      "       'subject_name', 'object_name', 'predicate', 'Primary_Knowledge_Source',\n",
      "       'Knowledge_Source', 'publications', 'subject_category',\n",
      "       'object_category', 'score'],\n",
      "      dtype='object')\n"
     ]
    }
   ],
   "source": [
    "import pandas as pd\n",
    "signor_file = 'KG_files/SIGNOR_2025_08_14.tsv'\n",
    "graph_table = pd.read_csv(signor_file, index_col=None, sep='\\t')\n",
    "print(graph_table.columns)"
   ]
  },
  {
   "cell_type": "code",
   "execution_count": 4,
   "id": "5ce0a15e",
   "metadata": {},
   "outputs": [
    {
     "data": {
      "text/plain": [
       "count    40935.000000\n",
       "mean         0.501978\n",
       "std          0.235996\n",
       "min          0.100000\n",
       "25%          0.278000\n",
       "50%          0.468000\n",
       "75%          0.727000\n",
       "max          1.000000\n",
       "Name: score, dtype: float64"
      ]
     },
     "execution_count": 4,
     "metadata": {},
     "output_type": "execute_result"
    }
   ],
   "source": [
    "graph_table['score'].describe()"
   ]
  },
  {
   "cell_type": "code",
   "execution_count": null,
   "id": "725bf4c2",
   "metadata": {},
   "outputs": [
    {
     "ename": "KeyError",
     "evalue": "'Attribute does not exist'",
     "output_type": "error",
     "traceback": [
      "\u001b[0;31m---------------------------------------------------------------------------\u001b[0m",
      "\u001b[0;31mKeyError\u001b[0m                                  Traceback (most recent call last)",
      "Cell \u001b[0;32mIn[6], line 3\u001b[0m\n\u001b[1;32m      1\u001b[0m \u001b[38;5;28;01mfrom\u001b[39;00m \u001b[38;5;21;01mBNMPy\u001b[39;00m \u001b[38;5;28;01mimport\u001b[39;00m graph_info\n\u001b[1;32m      2\u001b[0m graph \u001b[38;5;241m=\u001b[39m graph_info\u001b[38;5;241m.\u001b[39mdf_to_graph(graph_table)\n\u001b[0;32m----> 3\u001b[0m \u001b[43mgraph\u001b[49m\u001b[38;5;241;43m.\u001b[39;49m\u001b[43mes\u001b[49m\u001b[43m[\u001b[49m\u001b[38;5;124;43m'\u001b[39;49m\u001b[38;5;124;43mscore\u001b[39;49m\u001b[38;5;124;43m'\u001b[39;49m\u001b[43m]\u001b[49m\n",
      "\u001b[0;31mKeyError\u001b[0m: 'Attribute does not exist'"
     ]
    }
   ],
   "source": [
    "from BNMPy import graph_info\n",
    "graph = graph_info.df_to_graph(graph_table)\n",
    "graph"
   ]
  }
 ],
 "metadata": {
  "kernelspec": {
   "display_name": "Python 3 (ipykernel)",
   "language": "python",
   "name": "python3"
  },
  "language_info": {
   "codemirror_mode": {
    "name": "ipython",
    "version": 3
   },
   "file_extension": ".py",
   "mimetype": "text/x-python",
   "name": "python",
   "nbconvert_exporter": "python",
   "pygments_lexer": "ipython3",
   "version": "3.13.1"
  }
 },
 "nbformat": 4,
 "nbformat_minor": 5
}
