{
 "cells": [
  {
   "cell_type": "markdown",
   "id": "9759656c-716f-4bbc-8fe6-55bb22b19aaa",
   "metadata": {},
   "source": [
    "# Building a boolean network from a knowledge graph\n",
    "\n",
    "Use SigNOR\n",
    "\n",
    "Given a list of genes for which we want to construct a BN:\n",
    "\n",
    "1. Find the Steiner subgraph for the given list of genes.\n",
    "2. For each node in the subgraph, find all if its input nodes (i.e. all edges leading into that node).\n",
    "3. For each such node, there is an activating relation if the edge is \"up-regulates\", and a repressing relation if the edge is \"down-regulates\".\n",
    "4. Combine all of the edges with a \"joiner function\" - AND, OR, repressor wins, etc.\n",
    "\n",
    "Or, given an existing model (with some number of genes), a list of nodes, and a knowledge graph, how do we incorporate the new nodes into the model?\n"
   ]
  },
  {
   "cell_type": "code",
   "execution_count": 2,
   "id": "e24e0fa2-24ba-4079-8f09-35b70ed63c66",
   "metadata": {},
   "outputs": [],
   "source": [
    "from BNMPy import build_bn_from_kg"
   ]
  },
  {
   "cell_type": "code",
   "execution_count": 2,
   "id": "717d34f3-a011-4fe9-8563-311a0c094be7",
   "metadata": {},
   "outputs": [
    {
     "name": "stdout",
     "output_type": "stream",
     "text": [
      "['UNIPROT::P21580', 'UNIPROT::P24385', 'UNIPROT::Q9UPN3']\n",
      "['UNIPROT::P21580', 'UNIPROT::P24385', 'UNIPROT::Q9UPN3']\n"
     ]
    }
   ],
   "source": [
    "bn_string, relations = build_bn_from_kg.load_signor_network(['TNFAIP3', 'CCND1', 'MACF1'])"
   ]
  },
  {
   "cell_type": "code",
   "execution_count": 3,
   "id": "079e289b-e060-4d7e-8342-d61d1b7608da",
   "metadata": {},
   "outputs": [
    {
     "name": "stdout",
     "output_type": "stream",
     "text": [
      "ITCH = ITCH\n",
      "TNFAIP3 = (ITCH)\n",
      "CCND1 = (! GSK3B) & (GLI1)\n",
      "GSK3B = (GSK3B) & (! MACF1)\n",
      "MACF1 = (! GSK3B)\n",
      "GLI1 = (! ITCH) & (GLI1)\n"
     ]
    }
   ],
   "source": [
    "print(bn_string)"
   ]
  },
  {
   "cell_type": "code",
   "execution_count": 4,
   "id": "a07a6270-45f0-4971-a80c-8429dd81e437",
   "metadata": {},
   "outputs": [
    {
     "name": "stdout",
     "output_type": "stream",
     "text": [
      "['UNIPROT::P01116', 'UNIPROT::P63092', 'UNIPROT::P04637', 'UNIPROT::Q13485', 'UNIPROT::P42771', 'UNIPROT::Q68DV7']\n",
      "['UNIPROT::P01116', 'UNIPROT::P63092', 'UNIPROT::P04637', 'UNIPROT::Q13485', 'UNIPROT::P42771', 'UNIPROT::Q68DV7']\n",
      "GNAS = GNAS\n",
      "MAPK3 = (MAPK3)\n",
      "IKBKB = (! IKBKB) & (SRC)\n",
      "MYC = (MAPK3) & (! CEBPA) & (! SMAD4)\n",
      "CEBPA = (! MAPK3) & (CEBPA) & (! FZD2)\n",
      "SRC = (GNAS) & (! SRC)\n",
      "TP53 = (MAPK3)\n",
      "FZD2 = (RNF43)\n",
      "SMAD4 = (MAPK3)\n",
      "KRAS = (SRC)\n",
      "CDKN2A = (! IKBKB) & (! MYC)\n",
      "RNF43 = RNF43\n"
     ]
    }
   ],
   "source": [
    "bn_string, relations = build_bn_from_kg.load_signor_network(['KRAS', 'GNAS', 'TP53', 'SMAD4', 'CDKN2A', 'RNF43'], joiner='&')\n",
    "print(bn_string)"
   ]
  },
  {
   "cell_type": "code",
   "execution_count": 5,
   "id": "4fe4db66-e05b-43fe-87d2-10301a2b3991",
   "metadata": {},
   "outputs": [
    {
     "name": "stdout",
     "output_type": "stream",
     "text": [
      "['UNIPROT::P01116', 'UNIPROT::P63092', 'UNIPROT::P04637', 'UNIPROT::Q13485', 'UNIPROT::P42771', 'UNIPROT::Q68DV7']\n",
      "['UNIPROT::P01116', 'UNIPROT::P63092', 'UNIPROT::P04637', 'UNIPROT::Q13485', 'UNIPROT::P42771', 'UNIPROT::Q68DV7']\n",
      "GNAS = GNAS\n",
      "MAPK3 = (MAPK3)\n",
      "IKBKB = (! IKBKB) | (SRC)\n",
      "MYC = (MAPK3) | (! CEBPA) | (! SMAD4)\n",
      "CEBPA = (! MAPK3) | (CEBPA) | (! FZD2)\n",
      "SRC = (GNAS) | (! SRC)\n",
      "TP53 = (MAPK3)\n",
      "FZD2 = (RNF43)\n",
      "SMAD4 = (MAPK3)\n",
      "KRAS = (SRC)\n",
      "CDKN2A = (! IKBKB) | (! MYC)\n",
      "RNF43 = RNF43\n"
     ]
    }
   ],
   "source": [
    "bn_string, relations = build_bn_from_kg.load_signor_network(['KRAS', 'GNAS', 'TP53', 'SMAD4', 'CDKN2A', 'RNF43'], joiner='|')\n",
    "print(bn_string)"
   ]
  },
  {
   "cell_type": "code",
   "execution_count": 6,
   "id": "6ac30ce2-4852-4a9e-9fc7-d366b9c8f5fe",
   "metadata": {},
   "outputs": [
    {
     "name": "stdout",
     "output_type": "stream",
     "text": [
      "['UNIPROT::P01116', 'UNIPROT::P63092', 'UNIPROT::P04637', 'UNIPROT::Q13485', 'UNIPROT::P42771', 'UNIPROT::Q68DV7']\n",
      "['UNIPROT::P01116', 'UNIPROT::P63092', 'UNIPROT::P04637', 'UNIPROT::Q13485', 'UNIPROT::P42771', 'UNIPROT::Q68DV7']\n",
      "GNAS = GNAS\n",
      "MAPK3 = MAPK3\n",
      "IKBKB = (!IKBKB) & (SRC)\n",
      "MYC = (!CEBPA & !SMAD4) & (MAPK3)\n",
      "CEBPA = (!MAPK3 & !FZD2) & (CEBPA)\n",
      "SRC = (!SRC) & (GNAS)\n",
      "TP53 = MAPK3\n",
      "FZD2 = RNF43\n",
      "SMAD4 = MAPK3\n",
      "KRAS = SRC\n",
      "CDKN2A = !IKBKB & !MYC\n",
      "RNF43 = RNF43\n"
     ]
    }
   ],
   "source": [
    "bn_string, relations = build_bn_from_kg.load_signor_network(['KRAS', 'GNAS', 'TP53', 'SMAD4', 'CDKN2A', 'RNF43'],\n",
    "                                                            joiner='inhibitor_wins')\n",
    "print(bn_string)"
   ]
  },
  {
   "cell_type": "code",
   "execution_count": 7,
   "id": "55a8aa62-2b43-4a3e-aa30-cc62de0d3120",
   "metadata": {},
   "outputs": [
    {
     "data": {
      "text/plain": [
       "[('MAPK3', 'MAPK3', 'activate'),\n",
       " ('IKBKB', 'IKBKB', 'inhibit'),\n",
       " ('SRC', 'IKBKB', 'activate'),\n",
       " ('MAPK3', 'MYC', 'activate'),\n",
       " ('CEBPA', 'MYC', 'inhibit'),\n",
       " ('SMAD4', 'MYC', 'inhibit'),\n",
       " ('MAPK3', 'CEBPA', 'inhibit'),\n",
       " ('CEBPA', 'CEBPA', 'activate'),\n",
       " ('FZD2', 'CEBPA', 'inhibit'),\n",
       " ('GNAS', 'SRC', 'activate'),\n",
       " ('SRC', 'SRC', 'inhibit'),\n",
       " ('MAPK3', 'TP53', 'activate'),\n",
       " ('RNF43', 'FZD2', 'activate'),\n",
       " ('MAPK3', 'SMAD4', 'activate'),\n",
       " ('SRC', 'KRAS', 'activate'),\n",
       " ('IKBKB', 'CDKN2A', 'inhibit'),\n",
       " ('MYC', 'CDKN2A', 'inhibit')]"
      ]
     },
     "execution_count": 7,
     "metadata": {},
     "output_type": "execute_result"
    }
   ],
   "source": [
    "relations"
   ]
  },
  {
   "cell_type": "markdown",
   "id": "19020452-d295-4556-8281-db5618d21b6c",
   "metadata": {},
   "source": [
    "## Combining KG knowledge graphs"
   ]
  },
  {
   "cell_type": "code",
   "execution_count": 15,
   "id": "94a9f1cc-10a2-43a7-88f8-31108097a057",
   "metadata": {},
   "outputs": [
    {
     "name": "stdout",
     "output_type": "stream",
     "text": [
      "No initial state provided, using a random initial state\n",
      "number of genes: 38\n"
     ]
    },
    {
     "data": {
      "text/plain": [
       "dict_keys(['EGF', 'HBEGF', 'IGF', 'NRG1', 'PTEN', 'LKB1', 'EGFR', 'EFGR', 'IGFR1A_B', 'ERBB2', 'JAK5', 'STAT3', 'IRS1', 'GRB2', 'RAS', 'MEKK1', 'RAF', 'MKK4', 'MEK1', 'PIK3CA', 'JNK1', 'ERK1_2', 'PIP3', 'PDPK1', 'AKT1', 'AMPK', 'GSK3', 'TSC1_2', 'RHEB', 'mTOR', 'RPS6KB1', 'BAD', 'CCND1', 'BCL2', 'SRFELK1', 'FOS-JUN', 'SRFELK4', 'SP1'])"
      ]
     },
     "execution_count": 15,
     "metadata": {},
     "output_type": "execute_result"
    }
   ],
   "source": [
    "# load the Vundavalli KG\n",
    "from BNMPy import booleanNetwork as bn\n",
    "from BNMPy import BMatrix \n",
    "\n",
    "file = 'input_files/pancreatic_vundavilli_2020_fig3.txt'\n",
    "network = BMatrix.load_network_from_file(file)\n",
    "genes = network.nodeDict.keys()\n",
    "print(f\"number of genes: {len(genes)}\")\n",
    "genes"
   ]
  },
  {
   "cell_type": "code",
   "execution_count": 16,
   "id": "8d9c4399-5d87-4ba9-953d-5c3bf12cc0a3",
   "metadata": {},
   "outputs": [
    {
     "name": "stdout",
     "output_type": "stream",
     "text": [
      "number of genes found: 26\n",
      "[1950, 1839, 3479, 3084, 5728, 6794, 1956, 2064, 6774, 3667, 2885, 4214, 22882, 6416, 5604, 5290, 5599, 5170, 207, 5562, 6008, 6198, 572, 595, 596, 5669]\n",
      "['UNIPROT::P01133', 'UNIPROT::Q99075', 'UNIPROT::P05019', 'UNIPROT::Q02297', 'UNIPROT::P60484', 'UNIPROT::Q15831', 'UNIPROT::P00533', 'UNIPROT::P04626', 'UNIPROT::P40763', 'UNIPROT::P35568', 'UNIPROT::P62993', 'UNIPROT::Q13233', 'UNIPROT::Q9Y6X8', 'UNIPROT::P45985', 'UNIPROT::Q02750', 'UNIPROT::P42336', 'UNIPROT::P45983', 'UNIPROT::O15530', 'UNIPROT::P31749', 'UNIPROT::Q13131', 'UNIPROT::P23443', 'UNIPROT::Q92934', 'UNIPROT::P24385', 'UNIPROT::P10415', 'UNIPROT::P11464']\n",
      "['UNIPROT::P01133', 'UNIPROT::Q99075', 'UNIPROT::P05019', 'UNIPROT::Q02297', 'UNIPROT::P60484', 'UNIPROT::Q15831', 'UNIPROT::P00533', 'UNIPROT::P04626', 'UNIPROT::P40763', 'UNIPROT::P35568', 'UNIPROT::P62993', 'UNIPROT::Q13233', 'UNIPROT::P45985', 'UNIPROT::Q02750', 'UNIPROT::P42336', 'UNIPROT::P45983', 'UNIPROT::O15530', 'UNIPROT::P31749', 'UNIPROT::Q13131', 'UNIPROT::P23443', 'UNIPROT::Q92934', 'UNIPROT::P24385', 'UNIPROT::P10415']\n"
     ]
    }
   ],
   "source": [
    "bn_string, relations = build_bn_from_kg.load_signor_network(genes, joiner='inhibitor_wins')"
   ]
  },
  {
   "cell_type": "code",
   "execution_count": 12,
   "id": "bbd37979",
   "metadata": {},
   "outputs": [
    {
     "name": "stdout",
     "output_type": "stream",
     "text": [
      "STAT3 = MAPK8 | EGFR | MAP3K1\n",
      "CCND1 = STAT3\n",
      "RPS6KB1 = PDPK1\n",
      "MAPK8 = (!RPS6KB1) & (MAP2K4)\n",
      "BAD = !MAPK8 & !AKT1\n",
      "AKT1 = (!PTEN) & (MAPK8 | PDPK1 | PIK3CA)\n",
      "EGFR = EGFR | ERBB2 | EGF | HBEGF\n",
      "PDPK1 = PDPK1\n",
      "PTEN = PTEN\n",
      "ERBB2 = EGFR | ERBB2 | NRG1 | EGF\n",
      "PIK3CA = (!PTEN) & (IRS1)\n",
      "IRS1 = !RPS6KB1 & !MAPK8 & !PIK3CA & !MAP2K1\n",
      "BCL2 = (!BAD) & (MAPK8)\n",
      "MAP2K1 = PDPK1 | MAP2K1 | MAP3K1\n",
      "MAP3K1 = MAP3K1\n",
      "NRG1 = NRG1\n",
      "STK11 = STK11\n",
      "PPARGC1A = (!AKT1) & (PPARGC1A | PRKAA1)\n",
      "GRB2 = ERBB2 | IRS1\n",
      "MAP2K4 = (!AKT1) & (MAP3K1 | MAP2K4)\n",
      "PRKAA1 = (!AKT1 & !PRKAA1) & (STK11)\n",
      "IGF1 = PPARGC1A\n",
      "EGF = EGF\n",
      "HBEGF = HBEGF\n"
     ]
    }
   ],
   "source": [
    "print(bn_string)"
   ]
  },
  {
   "cell_type": "code",
   "execution_count": 17,
   "id": "4d1bedaa",
   "metadata": {},
   "outputs": [
    {
     "name": "stdout",
     "output_type": "stream",
     "text": [
      "No initial state provided, using a random initial state\n",
      "number of genes: 38\n",
      "dict_keys(['EGF', 'HBEGF', 'IGF1', 'NRG1', 'PTEN', 'STK11', 'EGFR', 'ERBB4', 'IGF1R', 'ERBB2', 'JAK1', 'STAT3', 'IRS1', 'GRB2', 'KRAS', 'MAP3K1', 'RAF1', 'MAP2K4', 'MAP2K1', 'PIK3CA', 'MAPK8', 'MAPK3', 'PIP3', 'PDPK1', 'AKT1', 'PRKAA1', 'GSK3B', 'TSC1', 'RHEB', 'MTOR', 'RPS6KB1', 'BAD', 'CCND1', 'BCL2', 'ELK1', 'FOS', 'ELK4', 'SP1'])\n"
     ]
    }
   ],
   "source": [
    "file = 'input_files/Vundavilli2020_standardized.txt'\n",
    "network_std = BMatrix.load_network_from_file(file)\n",
    "genes = network_std.nodeDict.keys()\n",
    "print(f\"number of genes: {len(genes)}\")\n",
    "print(genes)"
   ]
  },
  {
   "cell_type": "code",
   "execution_count": 18,
   "id": "5add5834",
   "metadata": {},
   "outputs": [
    {
     "name": "stdout",
     "output_type": "stream",
     "text": [
      "number of genes found: 37\n",
      "[1950, 1839, 3479, 3084, 5728, 6794, 1956, 2066, 3480, 2064, 3716, 6774, 3667, 2885, 3845, 4214, 5894, 6416, 5604, 5290, 5599, 5595, 5170, 207, 5562, 2932, 7248, 6008, 2475, 6198, 572, 595, 596, 2002, 2353, 2005, 5669]\n",
      "['UNIPROT::P01133', 'UNIPROT::Q99075', 'UNIPROT::P05019', 'UNIPROT::Q02297', 'UNIPROT::P60484', 'UNIPROT::Q15831', 'UNIPROT::P00533', 'UNIPROT::Q15303', 'UNIPROT::P08069', 'UNIPROT::P04626', 'UNIPROT::P23458', 'UNIPROT::P40763', 'UNIPROT::P35568', 'UNIPROT::P62993', 'UNIPROT::P01116', 'UNIPROT::Q13233', 'UNIPROT::P04049', 'UNIPROT::P45985', 'UNIPROT::Q02750', 'UNIPROT::P42336', 'UNIPROT::P45983', 'UNIPROT::P27361', 'UNIPROT::O15530', 'UNIPROT::P31749', 'UNIPROT::Q13131', 'UNIPROT::P49841', 'UNIPROT::Q92574', 'UNIPROT::P42345', 'UNIPROT::P23443', 'UNIPROT::Q92934', 'UNIPROT::P24385', 'UNIPROT::P10415', 'UNIPROT::P19419', 'UNIPROT::P01100', 'UNIPROT::P28324', 'UNIPROT::P11464']\n",
      "['UNIPROT::P01133', 'UNIPROT::Q99075', 'UNIPROT::P05019', 'UNIPROT::Q02297', 'UNIPROT::P60484', 'UNIPROT::Q15831', 'UNIPROT::P00533', 'UNIPROT::Q15303', 'UNIPROT::P08069', 'UNIPROT::P04626', 'UNIPROT::P23458', 'UNIPROT::P40763', 'UNIPROT::P35568', 'UNIPROT::P62993', 'UNIPROT::P01116', 'UNIPROT::Q13233', 'UNIPROT::P04049', 'UNIPROT::P45985', 'UNIPROT::Q02750', 'UNIPROT::P42336', 'UNIPROT::P45983', 'UNIPROT::P27361', 'UNIPROT::O15530', 'UNIPROT::P31749', 'UNIPROT::Q13131', 'UNIPROT::P49841', 'UNIPROT::Q92574', 'UNIPROT::P42345', 'UNIPROT::P23443', 'UNIPROT::Q92934', 'UNIPROT::P24385', 'UNIPROT::P10415', 'UNIPROT::P19419', 'UNIPROT::P01100', 'UNIPROT::P28324']\n",
      "STAT3 = MAPK8 | MAPK3 | MTOR | JAK1 | EGFR | MAP3K1\n",
      "CCND1 = (!GSK3B) & (STAT3)\n",
      "GSK3B = (!MAPK3 & !AKT1 & !STK11) & (GSK3B | MAP2K1)\n",
      "RPS6KB1 = MAPK3 | MTOR | PDPK1\n",
      "MAPK8 = (!RPS6KB1) & (MAP2K4 | (-)-anisomycin)\n",
      "BAD = !MAPK8 & !MAPK3 & !AKT1 & !RAF1\n",
      "FOS = MAPK3 | (-)-anisomycin\n",
      "MAPK3 = MAPK3 | MAP2K1\n",
      "MTOR = (!RPS6KB1 & !TSC1) & (MTOR | AKT1 | PIK3CA)\n",
      "AKT1 = (!PTEN) & (MAPK8 | MTOR | PDPK1 | PIK3CA | IGF1R)\n",
      "JAK1 = EGFR\n",
      "ERBB4 = ERBB2 | NRG1 | HBEGF\n",
      "EGFR = (!MAPK3) & (EGFR | ERBB2 | EGF | HBEGF)\n",
      "PDPK1 = IGF1R\n",
      "PTEN = (!GSK3B) & (PTEN)\n",
      "ERBB2 = EGFR | ERBB2 | NRG1 | EGF\n",
      "PIK3CA = (!PTEN) & (ERBB4 | IRS1 | KRAS)\n",
      "IGF1R = IGF1R | IGF1\n",
      "IRS1 = (!RPS6KB1 & !MAPK8 & !MAPK3 & !MTOR & !PIK3CA & !MAP2K1) & (JAK1 | IGF1R)\n",
      "ELK1 = MAPK8 | MAPK3\n",
      "BCL2 = (!BAD) & (MAPK8 | MAPK3)\n",
      "MAP2K1 = PDPK1 | MAP2K1 | MAP3K1 | RAF1\n",
      "MAP3K1 = KRAS\n",
      "NRG1 = NRG1\n",
      "STK11 = (!MAPK3) & (STK11)\n",
      "RAF1 = (!MAPK3 & !AKT1 & !PRKAA1) & (RAF1 | KRAS)\n",
      "KRAS = KRAS\n",
      "GRB2 = ERBB4 | ERBB2 | IRS1\n",
      "TSC1 = TSC1\n",
      "MAP2K4 = (!AKT1) & (MAP3K1 | MAP2K4)\n",
      "PRKAA1 = (!AKT1 & !PRKAA1) & (STK11)\n",
      "IGF1 = IGF1\n",
      "(-)-anisomycin = (-)-anisomycin\n",
      "PCSK7 = (-)-anisomycin\n",
      "EGF = EGF\n",
      "ELK4 = PCSK7\n",
      "HBEGF = HBEGF\n"
     ]
    }
   ],
   "source": [
    "bn_string_std, relations_std = build_bn_from_kg.load_signor_network(genes, joiner='inhibitor_wins')\n",
    "print(bn_string_std)\n",
    "# The only gene missing should be SP1, which is an output node"
   ]
  },
  {
   "cell_type": "code",
   "execution_count": 13,
   "id": "813dbb3e-35a5-47e2-b71b-b0cbdddaa981",
   "metadata": {},
   "outputs": [],
   "source": [
    "merged_bn_string = build_bn_from_kg.merge_network(network, bn_string, outer_joiner='|')"
   ]
  },
  {
   "cell_type": "code",
   "execution_count": 14,
   "id": "69739b87-3bd3-4cc7-adf3-f6db2fac4375",
   "metadata": {},
   "outputs": [
    {
     "name": "stdout",
     "output_type": "stream",
     "text": [
      "PDPK1 = ( PIP3) | ( PDPK1)\n",
      "MAP2K4 =  (!AKT1) & (MAP3K1 | MAP2K4)\n",
      "TSC1_2 =  AMPK | ( ! AKT1)\n",
      "AKT1 = ( PIP3) | ( (!PTEN) & (MAPK8 | PDPK1 | PIK3CA))\n",
      "IGF1 =  PPARGC1A\n",
      "PTEN = ( PTEN) | ( PTEN)\n",
      "FOS-JUN =  RPS6KB1 & JNK1\n",
      "RAF =  RAS\n",
      "MAP2K1 =  PDPK1 | MAP2K1 | MAP3K1\n",
      "MAPK8 =  (!RPS6KB1) & (MAP2K4)\n",
      "PPARGC1A =  (!AKT1) & (PPARGC1A | PRKAA1)\n",
      "BAD = ( ! (AKT1 | RPS6KB1)) | ( !MAPK8 & !AKT1)\n",
      "PIK3CA = ( (ERBB2 | IRS1) | (RAS | STAT3)) | ( (!PTEN) & (IRS1))\n",
      "MAP3K1 =  MAP3K1\n",
      "NRG1 = ( NRG1) | ( NRG1)\n",
      "STAT3 = ( JAK5) | ( MAPK8 | EGFR | MAP3K1)\n",
      "HBEGF = ( HBEGF) | ( HBEGF)\n",
      "PIP3 =  ! PTEN | PIK3CA\n",
      "RHEB =  ! TSC1_2\n",
      "EGF = ( EGF) | ( EGF)\n",
      "MEK1 =  RAF\n",
      "JNK1 =  MKK4\n",
      "AMPK =  LKB1\n",
      "ERK1_2 =  MEK1\n",
      "JAK5 =  EGFR\n",
      "RPS6KB1 = ( mTOR | (PDPK1 | ERK1_2)) | ( PDPK1)\n",
      "IRS1 = ( IGFR1A_B) | ( !RPS6KB1 & !MAPK8 & !PIK3CA & !MAP2K1)\n",
      "MKK4 =  MEKK1\n",
      "STK11 =  STK11\n",
      "CCND1 = ( ! GSK3) | ( STAT3)\n",
      "IGFR1A_B =  IGF\n",
      "mTOR =  RHEB\n",
      "ERBB2 = ( NRG1) | ( EGFR | ERBB2 | NRG1 | EGF)\n",
      "EGFR = ( EGF) | ( EGFR | ERBB2 | EGF | HBEGF)\n",
      "PRKAA1 =  (!AKT1 & !PRKAA1) & (STK11)\n",
      "BCL2 = ( ( ! BAD & STAT3)) | ( (!BAD) & (MAPK8))\n",
      "GSK3 =  ! AKT1\n",
      "MEKK1 =  RAS\n",
      "SRFELK1 =  RPS6KB1 & ERK1_2\n",
      "EFGR =  HBEGF | EGF\n",
      "SRFELK4 =  RPS6KB1 & ERK1_2\n",
      "SP1 =  ERK1_2\n",
      "IGF =  IGF\n",
      "LKB1 =  LKB1\n",
      "GRB2 = ( (ERBB2 | IGFR1A_B) | (EFGR | EGFR)) | ( ERBB2 | IRS1)\n",
      "RAS =  GRB2\n"
     ]
    }
   ],
   "source": [
    "print(merged_bn_string)"
   ]
  },
  {
   "cell_type": "markdown",
   "id": "f0902514",
   "metadata": {},
   "source": [
    "## Visualization"
   ]
  },
  {
   "cell_type": "code",
   "execution_count": 23,
   "id": "9dff8369",
   "metadata": {},
   "outputs": [],
   "source": [
    "# replace the invalid name\n",
    "bn_string_std = bn_string_std.replace('(-)-anisomycin', 'anisomycin')\n",
    "# save the logic rules to a file\n",
    "with open('Vundavilli2020_kg_inhibitor_wins.txt', 'w') as f:\n",
    "    f.write(bn_string_std)"
   ]
  },
  {
   "cell_type": "code",
   "execution_count": 24,
   "id": "e657e766-117d-4f95-86c2-3e49067cede1",
   "metadata": {},
   "outputs": [
    {
     "name": "stdout",
     "output_type": "stream",
     "text": [
      "Warning: When  cdn_resources is 'local' jupyter notebook has issues displaying graphics on chrome/safari. Use cdn_resources='in_line' or cdn_resources='remote' if you have issues viewing graphics in a notebook.\n",
      "kg_graph.html\n"
     ]
    }
   ],
   "source": [
    "from BNMPy import vis\n",
    "logic_rules = vis.read_logic_rules('Vundavilli2020_kg_inhibitor_wins.txt')\n",
    "vis.vis_logic_graph(logic_rules, output_html = \"kg_graph.html\") # visualize the logic graph, in an html file. view it in a browser.\n"
   ]
  }
 ],
 "metadata": {
  "kernelspec": {
   "display_name": "Python 3 (ipykernel)",
   "language": "python",
   "name": "python3"
  },
  "language_info": {
   "codemirror_mode": {
    "name": "ipython",
    "version": 3
   },
   "file_extension": ".py",
   "mimetype": "text/x-python",
   "name": "python",
   "nbconvert_exporter": "python",
   "pygments_lexer": "ipython3",
   "version": "3.13.1"
  }
 },
 "nbformat": 4,
 "nbformat_minor": 5
}
